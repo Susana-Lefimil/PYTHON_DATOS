{
 "cells": [
  {
   "cell_type": "markdown",
   "id": "f5d3032f",
   "metadata": {},
   "source": [
    "Ejercicios"
   ]
  },
  {
   "cell_type": "code",
   "execution_count": 1,
   "id": "92d77509",
   "metadata": {},
   "outputs": [
    {
     "name": "stdout",
     "output_type": "stream",
     "text": [
      "Introduce nota 1: 50\n",
      "Introduce nota 2: 50\n",
      "Introduce nota 3: 70\n",
      "Promedio notas:  56.67\n"
     ]
    }
   ],
   "source": [
    "#Crear en una celda un script que solicite 3 notas y calcule el promedio final del alumno.\n",
    "valor1 = float(input(\"Introduce nota 1: \"))\n",
    "#print(valor * 3)\n",
    "valor2 = float(input(\"Introduce nota 2: \"))\n",
    "valor3 = float(input(\"Introduce nota 3: \"))\n",
    "\n",
    "prom =(valor1+valor2+valor3)/3\n",
    "print(\"Promedio notas: \", round(prom,2))"
   ]
  },
  {
   "cell_type": "code",
   "execution_count": 2,
   "id": "cd95bf3d",
   "metadata": {},
   "outputs": [
    {
     "name": "stdout",
     "output_type": "stream",
     "text": [
      "Promedio notas:  56.0\n"
     ]
    }
   ],
   "source": [
    "#Luego, modificar este script para que la nota final sea usando 40, 30 y 30 como porcentajes de cada nota.\n",
    "#valor1 = float(input(\"Introduce nota 1: \"))\n",
    "#print(valor * 3)\n",
    "#valor2 = float(input(\"Introduce nota 2: \"))\n",
    "#valor3 = float(input(\"Introduce nota 3: \"))\n",
    "\n",
    "valor1=valor1*0.4\n",
    "valor2=valor2*0.3\n",
    "valor3=valor3*0.3\n",
    "\n",
    "prom2 =(valor1+valor2+valor3)\n",
    "print(\"Promedio notas: \", round(prom2,2))"
   ]
  },
  {
   "cell_type": "code",
   "execution_count": 3,
   "id": "394e81bc",
   "metadata": {},
   "outputs": [
    {
     "name": "stdout",
     "output_type": "stream",
     "text": [
      "[[1, 1, 1, 3], [2, 2, 2, 6], [3, 3, 3, 9], [4, 4, 4, 12]]\n",
      "[[1, 1, 1, 3], [2, 2, 2, 6], [3, 3, 3, 9], [4, 4, 4, 12]]\n"
     ]
    }
   ],
   "source": [
    "#Usando la matriz de mas abajo, crear un script que modifique el cuarto valor de cada fila para que \n",
    "#sea la suma de los valores de las 3 primeras columnas (solo la primera fila está bien). \n",
    "#Pueden usar la función sum( )\n",
    "matriz = [ \n",
    "    [1, 1, 1, 3],\n",
    "    [2, 2, 2, 7],\n",
    "    [3, 3, 3, 11],\n",
    "    [4, 4, 4, 13]\n",
    "]\n",
    "\n",
    "#Forma 1\n",
    "\n",
    "matriz[0][-1]= sum(matriz[0], -matriz[0][-1])\n",
    "matriz[1][-1]= sum(matriz[1], -matriz[1][-1])\n",
    "matriz[2][-1]= sum(matriz[2], -matriz[2][-1])\n",
    "matriz[3][-1]= sum(matriz[3], -matriz[3][-1])\n",
    "#print(matriz[1][-1])\n",
    "#print(matriz[2][-1])\n",
    "#print(matriz[3][-1])\n",
    "print(matriz)\n",
    "\n",
    "#Forma 2\n",
    "\n",
    "for x in range(0,len(matriz)):\n",
    "      cont= sum(matriz[x], -matriz[x][-1])\n",
    "      matriz[x][-1]=cont\n",
    "\n",
    " \n",
    "print(matriz)\n",
    "\n"
   ]
  },
  {
   "cell_type": "code",
   "execution_count": null,
   "id": "a4d35864",
   "metadata": {},
   "outputs": [],
   "source": []
  }
 ],
 "metadata": {
  "kernelspec": {
   "display_name": "Python 3 (ipykernel)",
   "language": "python",
   "name": "python3"
  },
  "language_info": {
   "codemirror_mode": {
    "name": "ipython",
    "version": 3
   },
   "file_extension": ".py",
   "mimetype": "text/x-python",
   "name": "python",
   "nbconvert_exporter": "python",
   "pygments_lexer": "ipython3",
   "version": "3.9.7"
  }
 },
 "nbformat": 4,
 "nbformat_minor": 5
}
