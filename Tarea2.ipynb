{
 "cells": [
  {
   "cell_type": "code",
   "execution_count": null,
   "id": "b248f1bd",
   "metadata": {},
   "outputs": [],
   "source": [
    "#Realice un programa que solicite una nota (promedio semestral), si el promedio es menor a 5 se va a examen.\n",
    "#Luego, calculen la nota minima que necesita en el examen para aprobar con un 4 (examen 30% nota semestral 70%).\n",
    "#Si es mayor que 7 reprueba, si es menor que 7 la muestran.\n",
    "nota = float(input(\"Ingrese prom: \"))\n",
    "minim = nota*0.7\n",
    "\n",
    "n2=(4-minim)/0.3\n",
    "\n",
    "#print(minim)\n",
    "#print(n2)\n",
    "if nota<5 and n2<7:\n",
    "    print(\"Va a examen\")\n",
    "\n",
    "    print(\"Necesita nota: \", round(n2))\n",
    "elif nota>=5:\n",
    "    print (\"Aprueba\")\n",
    "else:\n",
    "    print(\"Reprueba\")"
   ]
  },
  {
   "cell_type": "code",
   "execution_count": 1,
   "id": "c7faffef",
   "metadata": {},
   "outputs": [
    {
     "name": "stdout",
     "output_type": "stream",
     "text": [
      "amor\n"
     ]
    }
   ],
   "source": [
    "#Como harían para crear una nueva cadena con las letras al revés?\n",
    "\n",
    "\n",
    "cadena = \"roma\"  \n",
    "salida = \"\"\n",
    "i=len(cadena)\n",
    "for caracter in cadena:\n",
    "   i-=1\n",
    "   #print(cadena[i])\n",
    "   salida +=(cadena[i])\n",
    "\n",
    "\n",
    "print(salida)\n"
   ]
  },
  {
   "cell_type": "code",
   "execution_count": null,
   "id": "824b227e",
   "metadata": {},
   "outputs": [],
   "source": [
    "#Como saber cuantas letras \"a\" tiene el texto\n",
    "texto = \"Hola, como se sienten para una prueba?\"\n",
    "contador = 0\n",
    "maxim=len(texto)\n",
    "#print(maxim)\n",
    "count=0\n",
    "for caracter in texto:\n",
    "    #print(texto[count])\n",
    "    if count< len(texto)-1:\n",
    "       count+=1\n",
    "    if texto[count] == \"a\":\n",
    "       contador+=1\n",
    "print(contador)\n",
    "\n"
   ]
  },
  {
   "cell_type": "code",
   "execution_count": null,
   "id": "ae743361",
   "metadata": {},
   "outputs": [],
   "source": [
    "#Como saber cuantas letras \"a\" tiene el texto\n",
    "texto = \"Hola, como se sienten para una prueba?\"\n",
    "contador = 0\n",
    "i=len(texto)\n",
    "for caracter in texto:\n",
    "    i-=1\n",
    "    if texto[i] == \"a\":\n",
    "       contador+=1\n",
    "print(contador)"
   ]
  },
  {
   "cell_type": "code",
   "execution_count": null,
   "id": "cba889a6",
   "metadata": {},
   "outputs": [],
   "source": [
    "#Realiza un programa que lea por teclado una de las 4 operaciones (+, -, *, /) y dos números\n",
    "#y entregue el resultado según la operación ingresada.\n",
    "operacion = input(\"Ingresa una operacion [+, -, *, /]: \")\n",
    "while operacion!=\"+\" and operacion!=\"-\" and operacion!=\"/\" and operacion!=\"*\":\n",
    "    print(\"Ingresar operacion valida\")\n",
    "    operacion = input(\"Ingresa una operacion [+, -, *, /]: \")\n",
    "    \n",
    "\n",
    "if operacion==\"+\" or operacion==\"-\" or operacion==\"/\" or operacion==\"*\":\n",
    "    n1 = (input (\"Ingresa un número : \"))\n",
    "    while (type(n2)) is str:\n",
    "        try:\n",
    "            n1 = float(n1) \n",
    "        except:\n",
    "            print(n1, \" no es un numero\")\n",
    "            n1 = input (\"Ingresa un número : \")\n",
    "    n2 = (input (\"Ingresa otro número : \"))\n",
    "    \n",
    "    while (type(n2)) is str:\n",
    "        try:\n",
    "            n2 = float(n2) \n",
    "            if operacion==\"+\":\n",
    "                print(\"La suma es: \", n1+n2)\n",
    "            elif operacion==\"-\":\n",
    "                 print(\"La resta es: \", n1-n2)\n",
    "            elif operacion==\"*\":\n",
    "                 print(\"La multiplicacion es: \", n1*n2)\n",
    "            elif operacion==\"/\":\n",
    "                 print(\"La division es: \", n1/n2)\n",
    "        except:\n",
    "            print(n2, \" no es un numero\")\n",
    "            n2 = input (\"Ingresa otro número : \")\n",
    "            print(n2)\n",
    "            "
   ]
  },
  {
   "cell_type": "code",
   "execution_count": null,
   "id": "86a55a59",
   "metadata": {},
   "outputs": [],
   "source": [
    "#Ahora que siempre pida 2 numeros y una operacion hasta que se ingrese \n",
    "#una operacion distinta de las 4 basicas [+, -, *, /]\n",
    "#hint: while True: (break)\n",
    "\n",
    "while (True):\n",
    "    operacion = input(\"Ingresa una operacion [+, -, *, /]: \")\n",
    "\n",
    "    if operacion==\"+\" or operacion==\"-\" or operacion==\"/\" or operacion==\"*\":\n",
    "        n1 = (input (\"Ingresa un número : \"))\n",
    "        while (type(n1)) is str:\n",
    "            try:\n",
    "                n1 = float(n1) \n",
    "            except:\n",
    "                print(n1, \" no es un numero\")\n",
    "                n1 = input (\"Ingresa un número : \")\n",
    "        n2 = (input (\"Ingresa otro número : \"))\n",
    "\n",
    "        while (type(n2)) is str:\n",
    "            try:\n",
    "                n2 = float(n2) \n",
    "                if operacion==\"+\":\n",
    "                    print(\"La suma es: \", n1+n2)\n",
    "                elif operacion==\"-\":\n",
    "                     print(\"La resta es: \", n1-n2)\n",
    "                elif operacion==\"*\":\n",
    "                     print(\"La multiplicacion es: \", n1*n2)\n",
    "                elif operacion==\"/\":\n",
    "                     print(\"La division es: \", n1/n2)\n",
    "            except:\n",
    "                print(n2, \" no es un numero\")\n",
    "                n2 = input (\"Ingresa otro número : \")\n",
    "                print(n2)\n",
    "            \n",
    "    if operacion!=\"+\" and operacion!=\"-\" and operacion!=\"/\" and operacion!=\"*\":\n",
    "            break\n",
    "else:\n",
    "      print('Loop done.')"
   ]
  }
 ],
 "metadata": {
  "kernelspec": {
   "display_name": "Python 3 (ipykernel)",
   "language": "python",
   "name": "python3"
  },
  "language_info": {
   "codemirror_mode": {
    "name": "ipython",
    "version": 3
   },
   "file_extension": ".py",
   "mimetype": "text/x-python",
   "name": "python",
   "nbconvert_exporter": "python",
   "pygments_lexer": "ipython3",
   "version": "3.9.7"
  }
 },
 "nbformat": 4,
 "nbformat_minor": 5
}
