{
 "cells": [
  {
   "cell_type": "raw",
   "id": "725eae35",
   "metadata": {},
   "source": [
    "Desafío - Regresión Lineal\n"
   ]
  },
  {
   "cell_type": "raw",
   "id": "46aa0d9b",
   "metadata": {},
   "source": [
    "Variables\n",
    "● Species: La especie del pez.\n",
    "● Weight: El peso del pez, que es la variable que se intenta predecir.\n",
    "● Length1, Length2, Length3: Diferentes longitudes del pez.\n",
    "● Height: Altura del pez.\n",
    "● Width: Ancho del pez.\n"
   ]
  },
  {
   "cell_type": "code",
   "execution_count": 1,
   "id": "68906eb1",
   "metadata": {},
   "outputs": [],
   "source": [
    "import matplotlib.pyplot as plt\n",
    "import seaborn as sns\n",
    "import pandas as pd\n",
    "import numpy as np\n",
    "import plotly.express as px\n",
    "from matplotlib.colors import ListedColormap\n",
    "from scipy import stats\n",
    "from scipy.stats import norm, skew\n",
    "from sklearn import preprocessing\n",
    "from sklearn.linear_model import LogisticRegression\n",
    "from sklearn.model_selection import train_test_split\n",
    "from sklearn import linear_model\n",
    "import statsmodels.api as sm"
   ]
  },
  {
   "cell_type": "code",
   "execution_count": 2,
   "id": "466a386b",
   "metadata": {},
   "outputs": [],
   "source": [
    "#carga información\n",
    "df = pd.read_csv('Fish.csv')"
   ]
  },
  {
   "cell_type": "code",
   "execution_count": 3,
   "id": "38d15f70",
   "metadata": {},
   "outputs": [
    {
     "data": {
      "text/html": [
       "<div>\n",
       "<style scoped>\n",
       "    .dataframe tbody tr th:only-of-type {\n",
       "        vertical-align: middle;\n",
       "    }\n",
       "\n",
       "    .dataframe tbody tr th {\n",
       "        vertical-align: top;\n",
       "    }\n",
       "\n",
       "    .dataframe thead th {\n",
       "        text-align: right;\n",
       "    }\n",
       "</style>\n",
       "<table border=\"1\" class=\"dataframe\">\n",
       "  <thead>\n",
       "    <tr style=\"text-align: right;\">\n",
       "      <th></th>\n",
       "      <th>Species</th>\n",
       "      <th>Weight</th>\n",
       "      <th>Length1</th>\n",
       "      <th>Length2</th>\n",
       "      <th>Length3</th>\n",
       "      <th>Height</th>\n",
       "      <th>Width</th>\n",
       "    </tr>\n",
       "  </thead>\n",
       "  <tbody>\n",
       "    <tr>\n",
       "      <th>0</th>\n",
       "      <td>Bream</td>\n",
       "      <td>242.0</td>\n",
       "      <td>23.2</td>\n",
       "      <td>25.4</td>\n",
       "      <td>30.0</td>\n",
       "      <td>11.5200</td>\n",
       "      <td>4.0200</td>\n",
       "    </tr>\n",
       "    <tr>\n",
       "      <th>1</th>\n",
       "      <td>Bream</td>\n",
       "      <td>290.0</td>\n",
       "      <td>24.0</td>\n",
       "      <td>26.3</td>\n",
       "      <td>31.2</td>\n",
       "      <td>12.4800</td>\n",
       "      <td>4.3056</td>\n",
       "    </tr>\n",
       "    <tr>\n",
       "      <th>2</th>\n",
       "      <td>Bream</td>\n",
       "      <td>340.0</td>\n",
       "      <td>23.9</td>\n",
       "      <td>26.5</td>\n",
       "      <td>31.1</td>\n",
       "      <td>12.3778</td>\n",
       "      <td>4.6961</td>\n",
       "    </tr>\n",
       "    <tr>\n",
       "      <th>3</th>\n",
       "      <td>Bream</td>\n",
       "      <td>363.0</td>\n",
       "      <td>26.3</td>\n",
       "      <td>29.0</td>\n",
       "      <td>33.5</td>\n",
       "      <td>12.7300</td>\n",
       "      <td>4.4555</td>\n",
       "    </tr>\n",
       "    <tr>\n",
       "      <th>4</th>\n",
       "      <td>Bream</td>\n",
       "      <td>430.0</td>\n",
       "      <td>26.5</td>\n",
       "      <td>29.0</td>\n",
       "      <td>34.0</td>\n",
       "      <td>12.4440</td>\n",
       "      <td>5.1340</td>\n",
       "    </tr>\n",
       "  </tbody>\n",
       "</table>\n",
       "</div>"
      ],
      "text/plain": [
       "  Species  Weight  Length1  Length2  Length3   Height   Width\n",
       "0   Bream   242.0     23.2     25.4     30.0  11.5200  4.0200\n",
       "1   Bream   290.0     24.0     26.3     31.2  12.4800  4.3056\n",
       "2   Bream   340.0     23.9     26.5     31.1  12.3778  4.6961\n",
       "3   Bream   363.0     26.3     29.0     33.5  12.7300  4.4555\n",
       "4   Bream   430.0     26.5     29.0     34.0  12.4440  5.1340"
      ]
     },
     "execution_count": 3,
     "metadata": {},
     "output_type": "execute_result"
    }
   ],
   "source": [
    "df.head()"
   ]
  },
  {
   "cell_type": "code",
   "execution_count": 4,
   "id": "adb5d8f5",
   "metadata": {},
   "outputs": [
    {
     "name": "stdout",
     "output_type": "stream",
     "text": [
      "<class 'pandas.core.frame.DataFrame'>\n",
      "RangeIndex: 159 entries, 0 to 158\n",
      "Data columns (total 7 columns):\n",
      " #   Column   Non-Null Count  Dtype  \n",
      "---  ------   --------------  -----  \n",
      " 0   Species  159 non-null    object \n",
      " 1   Weight   159 non-null    float64\n",
      " 2   Length1  159 non-null    float64\n",
      " 3   Length2  159 non-null    float64\n",
      " 4   Length3  159 non-null    float64\n",
      " 5   Height   159 non-null    float64\n",
      " 6   Width    159 non-null    float64\n",
      "dtypes: float64(6), object(1)\n",
      "memory usage: 8.8+ KB\n"
     ]
    }
   ],
   "source": [
    "df.info()"
   ]
  },
  {
   "cell_type": "raw",
   "id": "15078b0b",
   "metadata": {},
   "source": [
    "1. Crea una nueva columna que incluya el volumen de pez, asumiéndolo como un\n",
    "cilindro. Para un cilindro con una base circular, el área de la base (A) es igual a πr²,\n",
    "donde \"r\" es el radio de la base del cilindro, y la altura (h) es la distancia entre las dos\n",
    "bases circulares. formula=π r² h"
   ]
  },
  {
   "cell_type": "code",
   "execution_count": 5,
   "id": "c548f41e",
   "metadata": {},
   "outputs": [
    {
     "name": "stdout",
     "output_type": "stream",
     "text": [
      "3.141592653589793\n"
     ]
    }
   ],
   "source": [
    "import math\n",
    "p = math.pi\n",
    "print(p) "
   ]
  },
  {
   "cell_type": "code",
   "execution_count": 6,
   "id": "2f305411",
   "metadata": {},
   "outputs": [],
   "source": [
    "# se considera la mitad del ancho como radio del cilindro\n",
    "df['Width_2']=df['Weight']/2*df['Weight']/2"
   ]
  },
  {
   "cell_type": "code",
   "execution_count": 7,
   "id": "63ba7893",
   "metadata": {},
   "outputs": [],
   "source": [
    "df['area']=df['Width_2']*p"
   ]
  },
  {
   "cell_type": "code",
   "execution_count": 8,
   "id": "9d562a5c",
   "metadata": {},
   "outputs": [],
   "source": [
    "# se considera altura como la altura del cilindro\n",
    "df['Volumen']=df['Width_2']*df['Height']"
   ]
  },
  {
   "cell_type": "code",
   "execution_count": 9,
   "id": "8102b089",
   "metadata": {},
   "outputs": [
    {
     "data": {
      "text/html": [
       "<div>\n",
       "<style scoped>\n",
       "    .dataframe tbody tr th:only-of-type {\n",
       "        vertical-align: middle;\n",
       "    }\n",
       "\n",
       "    .dataframe tbody tr th {\n",
       "        vertical-align: top;\n",
       "    }\n",
       "\n",
       "    .dataframe thead th {\n",
       "        text-align: right;\n",
       "    }\n",
       "</style>\n",
       "<table border=\"1\" class=\"dataframe\">\n",
       "  <thead>\n",
       "    <tr style=\"text-align: right;\">\n",
       "      <th></th>\n",
       "      <th>Weight</th>\n",
       "      <th>Length1</th>\n",
       "      <th>Length2</th>\n",
       "      <th>Length3</th>\n",
       "      <th>Height</th>\n",
       "      <th>Width</th>\n",
       "      <th>Width_2</th>\n",
       "      <th>area</th>\n",
       "      <th>Volumen</th>\n",
       "    </tr>\n",
       "  </thead>\n",
       "  <tbody>\n",
       "    <tr>\n",
       "      <th>count</th>\n",
       "      <td>159.000000</td>\n",
       "      <td>159.000000</td>\n",
       "      <td>159.000000</td>\n",
       "      <td>159.000000</td>\n",
       "      <td>159.000000</td>\n",
       "      <td>159.000000</td>\n",
       "      <td>159.000000</td>\n",
       "      <td>1.590000e+02</td>\n",
       "      <td>1.590000e+02</td>\n",
       "    </tr>\n",
       "    <tr>\n",
       "      <th>mean</th>\n",
       "      <td>398.326415</td>\n",
       "      <td>26.247170</td>\n",
       "      <td>28.415723</td>\n",
       "      <td>31.227044</td>\n",
       "      <td>8.970994</td>\n",
       "      <td>4.417486</td>\n",
       "      <td>71501.610708</td>\n",
       "      <td>2.246289e+05</td>\n",
       "      <td>8.902085e+05</td>\n",
       "    </tr>\n",
       "    <tr>\n",
       "      <th>std</th>\n",
       "      <td>357.978317</td>\n",
       "      <td>9.996441</td>\n",
       "      <td>10.716328</td>\n",
       "      <td>11.610246</td>\n",
       "      <td>4.286208</td>\n",
       "      <td>1.685804</td>\n",
       "      <td>113754.193333</td>\n",
       "      <td>3.573693e+05</td>\n",
       "      <td>1.391245e+06</td>\n",
       "    </tr>\n",
       "    <tr>\n",
       "      <th>min</th>\n",
       "      <td>0.000000</td>\n",
       "      <td>7.500000</td>\n",
       "      <td>8.400000</td>\n",
       "      <td>8.800000</td>\n",
       "      <td>1.728400</td>\n",
       "      <td>1.047600</td>\n",
       "      <td>0.000000</td>\n",
       "      <td>0.000000e+00</td>\n",
       "      <td>0.000000e+00</td>\n",
       "    </tr>\n",
       "    <tr>\n",
       "      <th>25%</th>\n",
       "      <td>120.000000</td>\n",
       "      <td>19.050000</td>\n",
       "      <td>21.000000</td>\n",
       "      <td>23.150000</td>\n",
       "      <td>5.944800</td>\n",
       "      <td>3.385650</td>\n",
       "      <td>3600.000000</td>\n",
       "      <td>1.130973e+04</td>\n",
       "      <td>2.230696e+04</td>\n",
       "    </tr>\n",
       "    <tr>\n",
       "      <th>50%</th>\n",
       "      <td>273.000000</td>\n",
       "      <td>25.200000</td>\n",
       "      <td>27.300000</td>\n",
       "      <td>29.400000</td>\n",
       "      <td>7.786000</td>\n",
       "      <td>4.248500</td>\n",
       "      <td>18632.250000</td>\n",
       "      <td>5.853494e+04</td>\n",
       "      <td>1.527328e+05</td>\n",
       "    </tr>\n",
       "    <tr>\n",
       "      <th>75%</th>\n",
       "      <td>650.000000</td>\n",
       "      <td>32.700000</td>\n",
       "      <td>35.500000</td>\n",
       "      <td>39.650000</td>\n",
       "      <td>12.365900</td>\n",
       "      <td>5.584500</td>\n",
       "      <td>105625.000000</td>\n",
       "      <td>3.318307e+05</td>\n",
       "      <td>1.313451e+06</td>\n",
       "    </tr>\n",
       "    <tr>\n",
       "      <th>max</th>\n",
       "      <td>1650.000000</td>\n",
       "      <td>59.000000</td>\n",
       "      <td>63.400000</td>\n",
       "      <td>68.000000</td>\n",
       "      <td>18.957000</td>\n",
       "      <td>8.142000</td>\n",
       "      <td>680625.000000</td>\n",
       "      <td>2.138246e+06</td>\n",
       "      <td>7.358918e+06</td>\n",
       "    </tr>\n",
       "  </tbody>\n",
       "</table>\n",
       "</div>"
      ],
      "text/plain": [
       "            Weight     Length1     Length2     Length3      Height  \\\n",
       "count   159.000000  159.000000  159.000000  159.000000  159.000000   \n",
       "mean    398.326415   26.247170   28.415723   31.227044    8.970994   \n",
       "std     357.978317    9.996441   10.716328   11.610246    4.286208   \n",
       "min       0.000000    7.500000    8.400000    8.800000    1.728400   \n",
       "25%     120.000000   19.050000   21.000000   23.150000    5.944800   \n",
       "50%     273.000000   25.200000   27.300000   29.400000    7.786000   \n",
       "75%     650.000000   32.700000   35.500000   39.650000   12.365900   \n",
       "max    1650.000000   59.000000   63.400000   68.000000   18.957000   \n",
       "\n",
       "            Width        Width_2          area       Volumen  \n",
       "count  159.000000     159.000000  1.590000e+02  1.590000e+02  \n",
       "mean     4.417486   71501.610708  2.246289e+05  8.902085e+05  \n",
       "std      1.685804  113754.193333  3.573693e+05  1.391245e+06  \n",
       "min      1.047600       0.000000  0.000000e+00  0.000000e+00  \n",
       "25%      3.385650    3600.000000  1.130973e+04  2.230696e+04  \n",
       "50%      4.248500   18632.250000  5.853494e+04  1.527328e+05  \n",
       "75%      5.584500  105625.000000  3.318307e+05  1.313451e+06  \n",
       "max      8.142000  680625.000000  2.138246e+06  7.358918e+06  "
      ]
     },
     "execution_count": 9,
     "metadata": {},
     "output_type": "execute_result"
    }
   ],
   "source": [
    "df.describe()"
   ]
  },
  {
   "cell_type": "code",
   "execution_count": 10,
   "id": "2044c750",
   "metadata": {},
   "outputs": [],
   "source": [
    "df = df.drop(columns='area')\n",
    "df = df.drop(columns='Width_2')"
   ]
  },
  {
   "cell_type": "raw",
   "id": "27c0ba27",
   "metadata": {},
   "source": [
    "2. Verifica la correlación posible entre las variables, numérica y gráficamente.\n",
    "¿Aumenta la correlación al añadir el volumen? Explica."
   ]
  },
  {
   "cell_type": "code",
   "execution_count": 11,
   "id": "07cceaa3",
   "metadata": {},
   "outputs": [
    {
     "name": "stderr",
     "output_type": "stream",
     "text": [
      "C:\\Users\\susan\\AppData\\Local\\Temp\\ipykernel_17896\\1414316522.py:4: FutureWarning: The default value of numeric_only in DataFrame.corr is deprecated. In a future version, it will default to False. Select only valid columns or specify the value of numeric_only to silence this warning.\n",
      "  sns.heatmap(df_sinvol.corr(), annot=True, cmap=plt.cm.PuBu)\n"
     ]
    },
    {
     "data": {
      "text/plain": [
       "<Axes: >"
      ]
     },
     "execution_count": 11,
     "metadata": {},
     "output_type": "execute_result"
    },
    {
     "data": {
      "image/png": "[encoded data removed]",
      "text/plain": [
       "<Figure size 500x500 with 2 Axes>"
      ]
     },
     "metadata": {},
     "output_type": "display_data"
    }
   ],
   "source": [
    "#sin volumen\n",
    "df_sinvol=df.drop(columns='Volumen')\n",
    "plt.figure(figsize=(5,5))\n",
    "sns.heatmap(df_sinvol.corr(), annot=True, cmap=plt.cm.PuBu)"
   ]
  },
  {
   "cell_type": "code",
   "execution_count": 12,
   "id": "a31cb8f9",
   "metadata": {},
   "outputs": [
    {
     "name": "stderr",
     "output_type": "stream",
     "text": [
      "C:\\Users\\susan\\AppData\\Local\\Temp\\ipykernel_17896\\4255367337.py:2: FutureWarning: The default value of numeric_only in DataFrame.corr is deprecated. In a future version, it will default to False. Select only valid columns or specify the value of numeric_only to silence this warning.\n",
      "  sns.heatmap(df.corr(), annot=True, cmap=plt.cm.PuBu)\n"
     ]
    },
    {
     "data": {
      "text/plain": [
       "<Axes: >"
      ]
     },
     "execution_count": 12,
     "metadata": {},
     "output_type": "execute_result"
    },
    {
     "data": {
      "image/png": "[encoded data removed]",
      "text/plain": [
       "<Figure size 500x500 with 2 Axes>"
      ]
     },
     "metadata": {},
     "output_type": "display_data"
    }
   ],
   "source": [
    "plt.figure(figsize=(5,5))\n",
    "sns.heatmap(df.corr(), annot=True, cmap=plt.cm.PuBu)"
   ]
  },
  {
   "cell_type": "code",
   "execution_count": 13,
   "id": "deafaba3",
   "metadata": {},
   "outputs": [],
   "source": [
    "#La mayoria de las variables están fuertemente correlacionadas. AL agregar volumen, esta se correlaciona sobre 0.5 con respecto\n",
    "#a todas las demás variables. "
   ]
  },
  {
   "cell_type": "raw",
   "id": "67086f92",
   "metadata": {},
   "source": [
    "3. Construye un modelo de regresión lineal que relacione el volumen y el peso de los\n",
    "peces. Realiza una breve evaluación del modelo y grafícalo.\n"
   ]
  },
  {
   "cell_type": "code",
   "execution_count": 14,
   "id": "69107ae2",
   "metadata": {},
   "outputs": [
    {
     "data": {
      "text/html": [
       "<div>\n",
       "<style scoped>\n",
       "    .dataframe tbody tr th:only-of-type {\n",
       "        vertical-align: middle;\n",
       "    }\n",
       "\n",
       "    .dataframe tbody tr th {\n",
       "        vertical-align: top;\n",
       "    }\n",
       "\n",
       "    .dataframe thead th {\n",
       "        text-align: right;\n",
       "    }\n",
       "</style>\n",
       "<table border=\"1\" class=\"dataframe\">\n",
       "  <thead>\n",
       "    <tr style=\"text-align: right;\">\n",
       "      <th></th>\n",
       "      <th>Volumen</th>\n",
       "      <th>Weight</th>\n",
       "    </tr>\n",
       "  </thead>\n",
       "  <tbody>\n",
       "    <tr>\n",
       "      <th>0</th>\n",
       "      <td>168664.3200</td>\n",
       "      <td>242.0</td>\n",
       "    </tr>\n",
       "    <tr>\n",
       "      <th>1</th>\n",
       "      <td>262392.0000</td>\n",
       "      <td>290.0</td>\n",
       "    </tr>\n",
       "    <tr>\n",
       "      <th>2</th>\n",
       "      <td>357718.4200</td>\n",
       "      <td>340.0</td>\n",
       "    </tr>\n",
       "    <tr>\n",
       "      <th>3</th>\n",
       "      <td>419354.8425</td>\n",
       "      <td>363.0</td>\n",
       "    </tr>\n",
       "    <tr>\n",
       "      <th>4</th>\n",
       "      <td>575223.9000</td>\n",
       "      <td>430.0</td>\n",
       "    </tr>\n",
       "  </tbody>\n",
       "</table>\n",
       "</div>"
      ],
      "text/plain": [
       "       Volumen  Weight\n",
       "0  168664.3200   242.0\n",
       "1  262392.0000   290.0\n",
       "2  357718.4200   340.0\n",
       "3  419354.8425   363.0\n",
       "4  575223.9000   430.0"
      ]
     },
     "execution_count": 14,
     "metadata": {},
     "output_type": "execute_result"
    }
   ],
   "source": [
    "data1 = df[[\"Volumen\", \"Weight\"]]\n",
    "data1.head()"
   ]
  },
  {
   "cell_type": "code",
   "execution_count": 15,
   "id": "729b8b4f",
   "metadata": {},
   "outputs": [
    {
     "data": {
      "image/png": "[encoded data removed]",
      "text/plain": [
       "<Figure size 500x500 with 1 Axes>"
      ]
     },
     "metadata": {},
     "output_type": "display_data"
    },
    {
     "name": "stdout",
     "output_type": "stream",
     "text": [
      "Pendiente: 0.00024124418373400094\n",
      "Intercepto: 183.56878304733283\n",
      "Error estándar: 7.142128016129268e-06\n",
      "Coef. de correlación: 0.9375702770139194\n"
     ]
    }
   ],
   "source": [
    "\n",
    "# Realizar la regresión lineal\n",
    "sns.lmplot(x=\"Volumen\", y=\"Weight\", data=data1)\n",
    "plt.title(\"Regresión lineal entre el volumen y el peso\")\n",
    "plt.xlabel(\"Volumen (mm)\")\n",
    "plt.ylabel(\"Peso  (g)\")\n",
    "\n",
    "# Calcular los valores de la regresión lineal. Ya veremos el significado de los parámetros\n",
    "slope, intercept, r_value, p_value, std_err = stats.linregress(data1[\"Volumen\"], data1[\"Weight\"])\n",
    "\n",
    "# Mostrar el gráfico completo\n",
    "plt.show()\n",
    "\n",
    "print(f\"Pendiente: {slope}\")\n",
    "print(f\"Intercepto: {intercept}\")\n",
    "print(f\"Error estándar: {std_err}\")\n",
    "print(f\"Coef. de correlación: {r_value}\")"
   ]
  },
  {
   "cell_type": "code",
   "execution_count": 16,
   "id": "890b81f7",
   "metadata": {},
   "outputs": [],
   "source": [
    "#Parece haber una correlación lineal positiva "
   ]
  },
  {
   "cell_type": "code",
   "execution_count": 17,
   "id": "07dbf7e4",
   "metadata": {},
   "outputs": [
    {
     "data": {
      "image/png": "[encoded data removed]",
      "text/plain": [
       "<Figure size 640x480 with 1 Axes>"
      ]
     },
     "metadata": {},
     "output_type": "display_data"
    }
   ],
   "source": [
    "#Evaluacion de residuos\n",
    "residuals = data1[\"Weight\"] - (slope * data1[\"Volumen\"] + intercept)\n",
    "\n",
    "# Mostrar un gráfico de los residuos\n",
    "plt.figure()\n",
    "plt.scatter(data1[\"Volumen\"], residuals)\n",
    "plt.axhline(y=0, color='r', linestyle='--')\n",
    "plt.title(\"Gráfico de Residuos\")\n",
    "plt.xlabel(\"Volumen (mm)\")\n",
    "plt.ylabel(\"Residuos\")\n",
    "plt.show()"
   ]
  },
  {
   "cell_type": "raw",
   "id": "c21dc5cc",
   "metadata": {},
   "source": [
    "4. ¿Qué sucede si aplicas el modelo anterior por separado a cada especie de peces?\n",
    "Explica.\n"
   ]
  },
  {
   "cell_type": "code",
   "execution_count": 18,
   "id": "96a37c37",
   "metadata": {},
   "outputs": [
    {
     "name": "stdout",
     "output_type": "stream",
     "text": [
      "                            OLS Regression Results                            \n",
      "==============================================================================\n",
      "Dep. Variable:                 Weight   R-squared:                       0.923\n",
      "Model:                            OLS   Adj. R-squared:                  0.919\n",
      "Method:                 Least Squares   F-statistic:                     258.0\n",
      "Date:                Wed, 06 Mar 2024   Prob (F-statistic):           1.30e-80\n",
      "Time:                        13:06:08   Log-Likelihood:                -956.45\n",
      "No. Observations:                 159   AIC:                             1929.\n",
      "Df Residuals:                     151   BIC:                             1953.\n",
      "Df Model:                           7                                         \n",
      "Covariance Type:            nonrobust                                         \n",
      "=====================================================================================\n",
      "                        coef    std err          t      P>|t|      [0.025      0.975]\n",
      "-------------------------------------------------------------------------------------\n",
      "const               172.6060      9.934     17.375      0.000     152.978     192.234\n",
      "Volumen               0.0002   6.64e-06     32.855      0.000       0.000       0.000\n",
      "Species_Bream        66.8497     18.683      3.578      0.000      29.936     103.763\n",
      "Species_Parkki      -34.3134     28.283     -1.213      0.227     -90.195      21.569\n",
      "Species_Perch        43.9707     14.736      2.984      0.003      14.854      73.087\n",
      "Species_Pike        160.5978     24.226      6.629      0.000     112.731     208.464\n",
      "Species_Roach       -33.7737     21.983     -1.536      0.127     -77.208       9.661\n",
      "Species_Smelt      -161.4463     25.555     -6.318      0.000    -211.937    -110.955\n",
      "Species_Whitefish   130.7211     37.116      3.522      0.001      57.387     204.055\n",
      "==============================================================================\n",
      "Omnibus:                        1.215   Durbin-Watson:                   0.437\n",
      "Prob(Omnibus):                  0.545   Jarque-Bera (JB):                0.987\n",
      "Skew:                          -0.190   Prob(JB):                        0.611\n",
      "Kurtosis:                       3.063   Cond. No.                     3.29e+22\n",
      "==============================================================================\n",
      "\n",
      "Notes:\n",
      "[1] Standard Errors assume that the covariance matrix of the errors is correctly specified.\n",
      "[2] The smallest eigenvalue is  4e-31. This might indicate that there are\n",
      "strong multicollinearity problems or that the design matrix is singular.\n",
      "Mean Squared Error (MSE): 9827.28\n",
      "Error Mean Squared Explicado (EMSE): 0.08\n",
      "Coeficiente de Determinación (R²): 0.92\n"
     ]
    }
   ],
   "source": [
    "# Paso 1: Definir variables predictoras (X) y variable de respuesta (y)\n",
    "X = df[['Volumen', 'Species']]  # Largo de la aleta y sexo como variables independientes\n",
    "y = df['Weight']  # Peso como variable dependiente\n",
    "\n",
    "# Codificar la variable categórica 'sex' usando get dummies\n",
    "X_encoded = pd.get_dummies(X, columns=['Species'], prefix=['Species'])\n",
    "\n",
    "# Paso 2: Agregar una constante (intercepto) a las variables predictoras\n",
    "X_encoded = sm.add_constant(X_encoded)\n",
    "\n",
    "# Paso 3: Crear el modelo de regresión lineal\n",
    "model = sm.OLS(y, X_encoded).fit()\n",
    "\n",
    "# Paso 4: Obtener resultados del modelo\n",
    "results = model.summary()\n",
    "\n",
    "predictions = model.predict(X_encoded)\n",
    "\n",
    "# Calcular el Error Cuadrático Medio (MSE)\n",
    "mse = ((y - predictions) ** 2).mean()\n",
    "\n",
    "# Calcular el Error Cuadrático Medio Explicado (EMSE)\n",
    "emse = mse / ((y - y.mean()) ** 2).mean()\n",
    "\n",
    "# Obtener el valor R² del modelo\n",
    "r2 = model.rsquared\n",
    "\n",
    "print(results)\n",
    "print(f\"Mean Squared Error (MSE): {mse:.2f}\")\n",
    "print(f\"Error Mean Squared Explicado (EMSE): {emse:.2f}\")\n",
    "print(f\"Coeficiente de Determinación (R²): {r2:.2f}\")"
   ]
  },
  {
   "cell_type": "code",
   "execution_count": 19,
   "id": "8400ed6d",
   "metadata": {},
   "outputs": [],
   "source": [
    "# Si se compara el coeficiente de correlación R^2, entre los dos modelos, se puede aprecia que al dividir\n",
    "# por especies, sigue siendo un alto valor. Indicando que ambos modelos explican bastante bien la variable peso"
   ]
  },
  {
   "cell_type": "raw",
   "id": "5af59600",
   "metadata": {},
   "source": [
    "5.Construye un modelo de regresión que relacione dos o más variables con el peso de\n",
    "los peces. Realiza una breve evaluación del modelo.\n"
   ]
  },
  {
   "cell_type": "code",
   "execution_count": 20,
   "id": "b402be27",
   "metadata": {},
   "outputs": [],
   "source": [
    "#Modelo predictivo, se elige Weight como variable a predecir por la información entregada en las variables\n",
    "\n",
    "y= df['Weight']\n",
    "X = df[['Volumen','Length1','Length2','Length3','Height','Width']]\n",
    "X_train, X_test, y_train, y_test = train_test_split(X, y, test_size=0.33, random_state=1121)"
   ]
  },
  {
   "cell_type": "code",
   "execution_count": 21,
   "id": "a637cc99",
   "metadata": {},
   "outputs": [
    {
     "data": {
      "text/html": [
       "<div>\n",
       "<style scoped>\n",
       "    .dataframe tbody tr th:only-of-type {\n",
       "        vertical-align: middle;\n",
       "    }\n",
       "\n",
       "    .dataframe tbody tr th {\n",
       "        vertical-align: top;\n",
       "    }\n",
       "\n",
       "    .dataframe thead th {\n",
       "        text-align: right;\n",
       "    }\n",
       "</style>\n",
       "<table border=\"1\" class=\"dataframe\">\n",
       "  <thead>\n",
       "    <tr style=\"text-align: right;\">\n",
       "      <th></th>\n",
       "      <th>Weight</th>\n",
       "      <th>Length1</th>\n",
       "      <th>Length2</th>\n",
       "      <th>Length3</th>\n",
       "      <th>Height</th>\n",
       "      <th>Width</th>\n",
       "      <th>Volumen</th>\n",
       "    </tr>\n",
       "  </thead>\n",
       "  <tbody>\n",
       "    <tr>\n",
       "      <th>count</th>\n",
       "      <td>159.000000</td>\n",
       "      <td>159.000000</td>\n",
       "      <td>159.000000</td>\n",
       "      <td>159.000000</td>\n",
       "      <td>159.000000</td>\n",
       "      <td>159.000000</td>\n",
       "      <td>1.590000e+02</td>\n",
       "    </tr>\n",
       "    <tr>\n",
       "      <th>mean</th>\n",
       "      <td>398.326415</td>\n",
       "      <td>26.247170</td>\n",
       "      <td>28.415723</td>\n",
       "      <td>31.227044</td>\n",
       "      <td>8.970994</td>\n",
       "      <td>4.417486</td>\n",
       "      <td>8.902085e+05</td>\n",
       "    </tr>\n",
       "    <tr>\n",
       "      <th>std</th>\n",
       "      <td>357.978317</td>\n",
       "      <td>9.996441</td>\n",
       "      <td>10.716328</td>\n",
       "      <td>11.610246</td>\n",
       "      <td>4.286208</td>\n",
       "      <td>1.685804</td>\n",
       "      <td>1.391245e+06</td>\n",
       "    </tr>\n",
       "    <tr>\n",
       "      <th>min</th>\n",
       "      <td>0.000000</td>\n",
       "      <td>7.500000</td>\n",
       "      <td>8.400000</td>\n",
       "      <td>8.800000</td>\n",
       "      <td>1.728400</td>\n",
       "      <td>1.047600</td>\n",
       "      <td>0.000000e+00</td>\n",
       "    </tr>\n",
       "    <tr>\n",
       "      <th>25%</th>\n",
       "      <td>120.000000</td>\n",
       "      <td>19.050000</td>\n",
       "      <td>21.000000</td>\n",
       "      <td>23.150000</td>\n",
       "      <td>5.944800</td>\n",
       "      <td>3.385650</td>\n",
       "      <td>2.230696e+04</td>\n",
       "    </tr>\n",
       "    <tr>\n",
       "      <th>50%</th>\n",
       "      <td>273.000000</td>\n",
       "      <td>25.200000</td>\n",
       "      <td>27.300000</td>\n",
       "      <td>29.400000</td>\n",
       "      <td>7.786000</td>\n",
       "      <td>4.248500</td>\n",
       "      <td>1.527328e+05</td>\n",
       "    </tr>\n",
       "    <tr>\n",
       "      <th>75%</th>\n",
       "      <td>650.000000</td>\n",
       "      <td>32.700000</td>\n",
       "      <td>35.500000</td>\n",
       "      <td>39.650000</td>\n",
       "      <td>12.365900</td>\n",
       "      <td>5.584500</td>\n",
       "      <td>1.313451e+06</td>\n",
       "    </tr>\n",
       "    <tr>\n",
       "      <th>max</th>\n",
       "      <td>1650.000000</td>\n",
       "      <td>59.000000</td>\n",
       "      <td>63.400000</td>\n",
       "      <td>68.000000</td>\n",
       "      <td>18.957000</td>\n",
       "      <td>8.142000</td>\n",
       "      <td>7.358918e+06</td>\n",
       "    </tr>\n",
       "  </tbody>\n",
       "</table>\n",
       "</div>"
      ],
      "text/plain": [
       "            Weight     Length1     Length2     Length3      Height  \\\n",
       "count   159.000000  159.000000  159.000000  159.000000  159.000000   \n",
       "mean    398.326415   26.247170   28.415723   31.227044    8.970994   \n",
       "std     357.978317    9.996441   10.716328   11.610246    4.286208   \n",
       "min       0.000000    7.500000    8.400000    8.800000    1.728400   \n",
       "25%     120.000000   19.050000   21.000000   23.150000    5.944800   \n",
       "50%     273.000000   25.200000   27.300000   29.400000    7.786000   \n",
       "75%     650.000000   32.700000   35.500000   39.650000   12.365900   \n",
       "max    1650.000000   59.000000   63.400000   68.000000   18.957000   \n",
       "\n",
       "            Width       Volumen  \n",
       "count  159.000000  1.590000e+02  \n",
       "mean     4.417486  8.902085e+05  \n",
       "std      1.685804  1.391245e+06  \n",
       "min      1.047600  0.000000e+00  \n",
       "25%      3.385650  2.230696e+04  \n",
       "50%      4.248500  1.527328e+05  \n",
       "75%      5.584500  1.313451e+06  \n",
       "max      8.142000  7.358918e+06  "
      ]
     },
     "execution_count": 21,
     "metadata": {},
     "output_type": "execute_result"
    }
   ],
   "source": [
    "df.describe()"
   ]
  },
  {
   "cell_type": "code",
   "execution_count": 22,
   "id": "ae46914e",
   "metadata": {},
   "outputs": [
    {
     "name": "stdout",
     "output_type": "stream",
     "text": [
      "<class 'pandas.core.frame.DataFrame'>\n",
      "RangeIndex: 159 entries, 0 to 158\n",
      "Data columns (total 8 columns):\n",
      " #   Column   Non-Null Count  Dtype  \n",
      "---  ------   --------------  -----  \n",
      " 0   Species  159 non-null    object \n",
      " 1   Weight   159 non-null    float64\n",
      " 2   Length1  159 non-null    float64\n",
      " 3   Length2  159 non-null    float64\n",
      " 4   Length3  159 non-null    float64\n",
      " 5   Height   159 non-null    float64\n",
      " 6   Width    159 non-null    float64\n",
      " 7   Volumen  159 non-null    float64\n",
      "dtypes: float64(7), object(1)\n",
      "memory usage: 10.1+ KB\n"
     ]
    }
   ],
   "source": [
    "df.info()"
   ]
  },
  {
   "cell_type": "code",
   "execution_count": 23,
   "id": "4493ff35",
   "metadata": {},
   "outputs": [
    {
     "data": {
      "text/html": [
       "<div>\n",
       "<style scoped>\n",
       "    .dataframe tbody tr th:only-of-type {\n",
       "        vertical-align: middle;\n",
       "    }\n",
       "\n",
       "    .dataframe tbody tr th {\n",
       "        vertical-align: top;\n",
       "    }\n",
       "\n",
       "    .dataframe thead th {\n",
       "        text-align: right;\n",
       "    }\n",
       "</style>\n",
       "<table border=\"1\" class=\"dataframe\">\n",
       "  <thead>\n",
       "    <tr style=\"text-align: right;\">\n",
       "      <th></th>\n",
       "      <th>Volumen</th>\n",
       "      <th>Length1</th>\n",
       "      <th>Length2</th>\n",
       "      <th>Length3</th>\n",
       "      <th>Height</th>\n",
       "      <th>Width</th>\n",
       "    </tr>\n",
       "  </thead>\n",
       "  <tbody>\n",
       "    <tr>\n",
       "      <th>141</th>\n",
       "      <td>4.174336e+06</td>\n",
       "      <td>52.0</td>\n",
       "      <td>56.0</td>\n",
       "      <td>59.7</td>\n",
       "      <td>10.6863</td>\n",
       "      <td>6.9849</td>\n",
       "    </tr>\n",
       "    <tr>\n",
       "      <th>147</th>\n",
       "      <td>2.117290e+01</td>\n",
       "      <td>10.1</td>\n",
       "      <td>10.6</td>\n",
       "      <td>11.6</td>\n",
       "      <td>1.7284</td>\n",
       "      <td>1.1484</td>\n",
       "    </tr>\n",
       "    <tr>\n",
       "      <th>67</th>\n",
       "      <td>6.788610e+04</td>\n",
       "      <td>19.0</td>\n",
       "      <td>20.7</td>\n",
       "      <td>23.2</td>\n",
       "      <td>9.3960</td>\n",
       "      <td>3.4104</td>\n",
       "    </tr>\n",
       "    <tr>\n",
       "      <th>47</th>\n",
       "      <td>4.096000e+04</td>\n",
       "      <td>21.1</td>\n",
       "      <td>22.5</td>\n",
       "      <td>25.0</td>\n",
       "      <td>6.4000</td>\n",
       "      <td>3.8000</td>\n",
       "    </tr>\n",
       "    <tr>\n",
       "      <th>99</th>\n",
       "      <td>5.215995e+04</td>\n",
       "      <td>23.0</td>\n",
       "      <td>25.0</td>\n",
       "      <td>26.5</td>\n",
       "      <td>6.4395</td>\n",
       "      <td>3.6835</td>\n",
       "    </tr>\n",
       "  </tbody>\n",
       "</table>\n",
       "</div>"
      ],
      "text/plain": [
       "          Volumen  Length1  Length2  Length3   Height   Width\n",
       "141  4.174336e+06     52.0     56.0     59.7  10.6863  6.9849\n",
       "147  2.117290e+01     10.1     10.6     11.6   1.7284  1.1484\n",
       "67   6.788610e+04     19.0     20.7     23.2   9.3960  3.4104\n",
       "47   4.096000e+04     21.1     22.5     25.0   6.4000  3.8000\n",
       "99   5.215995e+04     23.0     25.0     26.5   6.4395  3.6835"
      ]
     },
     "execution_count": 23,
     "metadata": {},
     "output_type": "execute_result"
    }
   ],
   "source": [
    "X_train.head()"
   ]
  },
  {
   "cell_type": "code",
   "execution_count": 24,
   "id": "95e5b283",
   "metadata": {},
   "outputs": [],
   "source": [
    "#Con intercepto\n",
    "#Instanciamos el modelo\n",
    "lm_1 = linear_model.LinearRegression(fit_intercept=True)\n"
   ]
  },
  {
   "cell_type": "code",
   "execution_count": 25,
   "id": "7db86c78",
   "metadata": {},
   "outputs": [],
   "source": [
    "#Entrenamos\n",
    "lm_1.fit(X_train, y_train)\n",
    "#Predecimos en  test\n",
    "#Prediccion de la matriz de prueba\n",
    "predictions_test_1 = lm_1.predict(X_test)\n",
    "#predictions_test_1"
   ]
  },
  {
   "cell_type": "code",
   "execution_count": 26,
   "id": "1430fea3",
   "metadata": {},
   "outputs": [],
   "source": [
    "def report_scores(prediction_test, vector):\n",
    "    \"\"\"Cálculo del error cuadratico medio y R cuadrado para un modelo de regresión lineal \"\"\"\n",
    "    #Realizamos métricas \n",
    "    mse=mean_squared_error(vector, prediction_test).round(2)\n",
    "    r2=r2_score(vector, prediction_test).round(2)\n",
    "    print(f'Error cuadrático medio: ', mse, 'R2: ', r2)"
   ]
  },
  {
   "cell_type": "code",
   "execution_count": 28,
   "id": "54d42ad6",
   "metadata": {},
   "outputs": [
    {
     "name": "stdout",
     "output_type": "stream",
     "text": [
      "Error cuadrático medio:  2598.3 R2:  0.98\n"
     ]
    }
   ],
   "source": [
    "from sklearn.metrics import mean_squared_error, r2_score\n",
    "report_scores(predictions_test_1, y_test)"
   ]
  },
  {
   "cell_type": "code",
   "execution_count": 29,
   "id": "ecab5d8e",
   "metadata": {},
   "outputs": [],
   "source": [
    "# En comparación entre este modelo con todas las variables y los modelos anteriores, este presenta un mayor R^2, y un\n",
    "# menor error cuadrático medio. que el anterior. Podría decirse que este modelo es mejor, lo que podría implicar que además de\n",
    "#volumen existen más variables que tienen significancia en el cálculo de la predicción para la variable peso. "
   ]
  },
  {
   "cell_type": "code",
   "execution_count": null,
   "id": "4d8eaa94",
   "metadata": {},
   "outputs": [],
   "source": []
  }
 ],
 "metadata": {
  "kernelspec": {
   "display_name": "Python 3 (ipykernel)",
   "language": "python",
   "name": "python3"
  },
  "language_info": {
   "codemirror_mode": {
    "name": "ipython",
    "version": 3
   },
   "file_extension": ".py",
   "mimetype": "text/x-python",
   "name": "python",
   "nbconvert_exporter": "python",
   "pygments_lexer": "ipython3",
   "version": "3.10.9"
  }
 },
 "nbformat": 4,
 "nbformat_minor": 5
}
