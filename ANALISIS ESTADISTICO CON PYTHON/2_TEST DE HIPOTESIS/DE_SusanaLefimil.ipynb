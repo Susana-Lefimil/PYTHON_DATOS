{
 "cells": [
  {
   "cell_type": "markdown",
   "id": "3a2b98f4",
   "metadata": {},
   "source": [
    "1. Evaluar juicios de hipótesis (2 puntos): para evaluar la pertinencia de diversas\n",
    "hipótesis, se te solicita discernir si es posible rechazar la hipótesis nula."
   ]
  },
  {
   "cell_type": "code",
   "execution_count": null,
   "id": "df9f2f14",
   "metadata": {},
   "outputs": [],
   "source": [
    "\"\"\" 75 individuos elegidos al azar fueron alcanzados por activistas pro-LGTB que se\n",
    "identificaron como homosexuales, y 75 alcanzados por activistas pro-LGTB que se\n",
    "identificaron como heterosexuales. El objetivo era medir actitudes frente a la\n",
    "adopción homoparental. La organización encargada de procesar los datos obtuvo\n",
    "los siguientes resultados\"\"\""
   ]
  },
  {
   "cell_type": "code",
   "execution_count": null,
   "id": "f5ee06a5",
   "metadata": {},
   "outputs": [],
   "source": [
    "\"\"\"○ El 67% de los encuestados por heterosexuales se mostró a favor de la\n",
    "adopción homoparental, mientras que un 72% de los encuestados por\n",
    "activistas que se identificaron como homosexuales se mostraron a favor\n",
    "de la adopción homoparental.\n",
    "○ Asumiendo que la hipótesis nula es que ambos porcentajes no son\n",
    "diferentes, y la hipótesis alternativa es que existe una diferencia\n",
    "substancial entre ambos.\n",
    "○ Con p-valor de 0.1183 ¿es posible rechazar la hipótesis nula en favor de la\n",
    "alternativa con una confianza de 95%?, ¿Cuanta es la confianza máxima\n",
    "con la que sería posible rechazar la hipótesis nula en favor de la alternativa\n",
    "con estos resultados?\"\"\""
   ]
  },
  {
   "cell_type": "code",
   "execution_count": 6,
   "id": "24dbdb9e",
   "metadata": {},
   "outputs": [],
   "source": [
    "# El 95% de confianza corresponde a un nivel de significancia de 0.05\n",
    "#El valor de probabilidad o valor p en este caso es de 0.1183\n",
    "#Según lo anterior el valor p es mayor que alfa (0.1183>0.05), esto significa que NO puedo rechazar H0 o la hipótesis nula.\n",
    "\n",
    "#Si el valor p calculado hubiese sido menos al alfa (p<0.05) podríamos inferir que tenemos evidencia para sustentar la \n",
    "#Hipótesis alterinativa (que no sucede en este caso)"
   ]
  },
  {
   "cell_type": "markdown",
   "id": "1e6728ac",
   "metadata": {},
   "source": [
    "2. Importar la base de datos utilizada la sesión presencial anterior (2 puntos):"
   ]
  },
  {
   "cell_type": "code",
   "execution_count": 1,
   "id": "e489feab",
   "metadata": {},
   "outputs": [],
   "source": [
    "#evitamos los warnings\n",
    "import warnings\n",
    "warnings.simplefilter('ignore')"
   ]
  },
  {
   "cell_type": "code",
   "execution_count": 2,
   "id": "40589b7c",
   "metadata": {},
   "outputs": [],
   "source": [
    "import pandas as pd\n",
    "import numpy as np\n",
    "import matplotlib.pyplot as plt\n",
    "import scipy.stats as stats"
   ]
  },
  {
   "cell_type": "code",
   "execution_count": 3,
   "id": "7808f051",
   "metadata": {},
   "outputs": [],
   "source": [
    "df = pd.read_csv('nations.csv', encoding='latin-1')"
   ]
  },
  {
   "cell_type": "code",
   "execution_count": 4,
   "id": "ba783a29",
   "metadata": {},
   "outputs": [
    {
     "data": {
      "text/html": [
       "<div>\n",
       "<style scoped>\n",
       "    .dataframe tbody tr th:only-of-type {\n",
       "        vertical-align: middle;\n",
       "    }\n",
       "\n",
       "    .dataframe tbody tr th {\n",
       "        vertical-align: top;\n",
       "    }\n",
       "\n",
       "    .dataframe thead th {\n",
       "        text-align: right;\n",
       "    }\n",
       "</style>\n",
       "<table border=\"1\" class=\"dataframe\">\n",
       "  <thead>\n",
       "    <tr style=\"text-align: right;\">\n",
       "      <th></th>\n",
       "      <th>Unnamed: 0</th>\n",
       "      <th>country</th>\n",
       "      <th>region</th>\n",
       "      <th>gdp</th>\n",
       "      <th>school</th>\n",
       "      <th>adfert</th>\n",
       "      <th>chldmort</th>\n",
       "      <th>life</th>\n",
       "      <th>pop</th>\n",
       "      <th>urban</th>\n",
       "      <th>femlab</th>\n",
       "      <th>literacy</th>\n",
       "      <th>co2</th>\n",
       "      <th>gini</th>\n",
       "    </tr>\n",
       "  </thead>\n",
       "  <tbody>\n",
       "    <tr>\n",
       "      <th>0</th>\n",
       "      <td>1</td>\n",
       "      <td>Algeria</td>\n",
       "      <td>Africa</td>\n",
       "      <td>7300.399902</td>\n",
       "      <td>6.716667</td>\n",
       "      <td>7.300000</td>\n",
       "      <td>34.75</td>\n",
       "      <td>72.316666</td>\n",
       "      <td>34172236</td>\n",
       "      <td>64.933334</td>\n",
       "      <td>0.4522</td>\n",
       "      <td>72.599998</td>\n",
       "      <td>15.0</td>\n",
       "      <td>NaN</td>\n",
       "    </tr>\n",
       "    <tr>\n",
       "      <th>1</th>\n",
       "      <td>2</td>\n",
       "      <td>Benin</td>\n",
       "      <td>Africa</td>\n",
       "      <td>1338.800049</td>\n",
       "      <td>3.100000</td>\n",
       "      <td>111.699997</td>\n",
       "      <td>122.75</td>\n",
       "      <td>54.733334</td>\n",
       "      <td>8237634</td>\n",
       "      <td>41.000000</td>\n",
       "      <td>0.8482</td>\n",
       "      <td>41.700001</td>\n",
       "      <td>1.2</td>\n",
       "      <td>NaN</td>\n",
       "    </tr>\n",
       "    <tr>\n",
       "      <th>2</th>\n",
       "      <td>3</td>\n",
       "      <td>Botswana</td>\n",
       "      <td>Africa</td>\n",
       "      <td>12307.400391</td>\n",
       "      <td>8.600000</td>\n",
       "      <td>52.099998</td>\n",
       "      <td>60.25</td>\n",
       "      <td>52.250000</td>\n",
       "      <td>1941233</td>\n",
       "      <td>59.250000</td>\n",
       "      <td>0.8870</td>\n",
       "      <td>84.099998</td>\n",
       "      <td>9.2</td>\n",
       "      <td>NaN</td>\n",
       "    </tr>\n",
       "    <tr>\n",
       "      <th>3</th>\n",
       "      <td>4</td>\n",
       "      <td>Burkina Faso</td>\n",
       "      <td>Africa</td>\n",
       "      <td>1063.400024</td>\n",
       "      <td>1.300000</td>\n",
       "      <td>124.800003</td>\n",
       "      <td>170.50</td>\n",
       "      <td>53.783333</td>\n",
       "      <td>15308383</td>\n",
       "      <td>23.583334</td>\n",
       "      <td>0.8584</td>\n",
       "      <td>23.600000</td>\n",
       "      <td>0.2</td>\n",
       "      <td>NaN</td>\n",
       "    </tr>\n",
       "    <tr>\n",
       "      <th>4</th>\n",
       "      <td>5</td>\n",
       "      <td>Burundi</td>\n",
       "      <td>Africa</td>\n",
       "      <td>349.200012</td>\n",
       "      <td>2.483333</td>\n",
       "      <td>18.600000</td>\n",
       "      <td>168.50</td>\n",
       "      <td>48.866665</td>\n",
       "      <td>7821783</td>\n",
       "      <td>10.250000</td>\n",
       "      <td>1.0344</td>\n",
       "      <td>66.599998</td>\n",
       "      <td>0.1</td>\n",
       "      <td>33.299999</td>\n",
       "    </tr>\n",
       "  </tbody>\n",
       "</table>\n",
       "</div>"
      ],
      "text/plain": [
       "   Unnamed: 0       country  region           gdp    school      adfert  \\\n",
       "0           1       Algeria  Africa   7300.399902  6.716667    7.300000   \n",
       "1           2         Benin  Africa   1338.800049  3.100000  111.699997   \n",
       "2           3      Botswana  Africa  12307.400391  8.600000   52.099998   \n",
       "3           4  Burkina Faso  Africa   1063.400024  1.300000  124.800003   \n",
       "4           5       Burundi  Africa    349.200012  2.483333   18.600000   \n",
       "\n",
       "   chldmort       life       pop      urban  femlab   literacy   co2  \\\n",
       "0     34.75  72.316666  34172236  64.933334  0.4522  72.599998  15.0   \n",
       "1    122.75  54.733334   8237634  41.000000  0.8482  41.700001   1.2   \n",
       "2     60.25  52.250000   1941233  59.250000  0.8870  84.099998   9.2   \n",
       "3    170.50  53.783333  15308383  23.583334  0.8584  23.600000   0.2   \n",
       "4    168.50  48.866665   7821783  10.250000  1.0344  66.599998   0.1   \n",
       "\n",
       "        gini  \n",
       "0        NaN  \n",
       "1        NaN  \n",
       "2        NaN  \n",
       "3        NaN  \n",
       "4  33.299999  "
      ]
     },
     "execution_count": 4,
     "metadata": {},
     "output_type": "execute_result"
    }
   ],
   "source": [
    "df.head()"
   ]
  },
  {
   "cell_type": "code",
   "execution_count": 5,
   "id": "fc7c97aa",
   "metadata": {},
   "outputs": [],
   "source": [
    "#Apellidos desde la A hasta la N: Enfocarse en las variables chldmort, adfert y life.\n",
    "\n",
    "variables_sl = ['chldmort', 'adfert' , 'life','country', 'region', 'gdp', 'pop', 'urban', 'co2', 'gini']"
   ]
  },
  {
   "cell_type": "code",
   "execution_count": 6,
   "id": "384e0ec8",
   "metadata": {},
   "outputs": [],
   "source": [
    "df_sl = df.loc[:,variables_sl]"
   ]
  },
  {
   "cell_type": "code",
   "execution_count": 7,
   "id": "d4bf5b2b",
   "metadata": {},
   "outputs": [
    {
     "data": {
      "text/html": [
       "<div>\n",
       "<style scoped>\n",
       "    .dataframe tbody tr th:only-of-type {\n",
       "        vertical-align: middle;\n",
       "    }\n",
       "\n",
       "    .dataframe tbody tr th {\n",
       "        vertical-align: top;\n",
       "    }\n",
       "\n",
       "    .dataframe thead th {\n",
       "        text-align: right;\n",
       "    }\n",
       "</style>\n",
       "<table border=\"1\" class=\"dataframe\">\n",
       "  <thead>\n",
       "    <tr style=\"text-align: right;\">\n",
       "      <th></th>\n",
       "      <th>chldmort</th>\n",
       "      <th>adfert</th>\n",
       "      <th>life</th>\n",
       "      <th>country</th>\n",
       "      <th>region</th>\n",
       "      <th>gdp</th>\n",
       "      <th>pop</th>\n",
       "      <th>urban</th>\n",
       "      <th>co2</th>\n",
       "      <th>gini</th>\n",
       "    </tr>\n",
       "  </thead>\n",
       "  <tbody>\n",
       "    <tr>\n",
       "      <th>0</th>\n",
       "      <td>34.75</td>\n",
       "      <td>7.300000</td>\n",
       "      <td>72.316666</td>\n",
       "      <td>Algeria</td>\n",
       "      <td>Africa</td>\n",
       "      <td>7300.399902</td>\n",
       "      <td>34172236</td>\n",
       "      <td>64.933334</td>\n",
       "      <td>15.0</td>\n",
       "      <td>NaN</td>\n",
       "    </tr>\n",
       "    <tr>\n",
       "      <th>1</th>\n",
       "      <td>122.75</td>\n",
       "      <td>111.699997</td>\n",
       "      <td>54.733334</td>\n",
       "      <td>Benin</td>\n",
       "      <td>Africa</td>\n",
       "      <td>1338.800049</td>\n",
       "      <td>8237634</td>\n",
       "      <td>41.000000</td>\n",
       "      <td>1.2</td>\n",
       "      <td>NaN</td>\n",
       "    </tr>\n",
       "    <tr>\n",
       "      <th>2</th>\n",
       "      <td>60.25</td>\n",
       "      <td>52.099998</td>\n",
       "      <td>52.250000</td>\n",
       "      <td>Botswana</td>\n",
       "      <td>Africa</td>\n",
       "      <td>12307.400391</td>\n",
       "      <td>1941233</td>\n",
       "      <td>59.250000</td>\n",
       "      <td>9.2</td>\n",
       "      <td>NaN</td>\n",
       "    </tr>\n",
       "    <tr>\n",
       "      <th>3</th>\n",
       "      <td>170.50</td>\n",
       "      <td>124.800003</td>\n",
       "      <td>53.783333</td>\n",
       "      <td>Burkina Faso</td>\n",
       "      <td>Africa</td>\n",
       "      <td>1063.400024</td>\n",
       "      <td>15308383</td>\n",
       "      <td>23.583334</td>\n",
       "      <td>0.2</td>\n",
       "      <td>NaN</td>\n",
       "    </tr>\n",
       "    <tr>\n",
       "      <th>4</th>\n",
       "      <td>168.50</td>\n",
       "      <td>18.600000</td>\n",
       "      <td>48.866665</td>\n",
       "      <td>Burundi</td>\n",
       "      <td>Africa</td>\n",
       "      <td>349.200012</td>\n",
       "      <td>7821783</td>\n",
       "      <td>10.250000</td>\n",
       "      <td>0.1</td>\n",
       "      <td>33.299999</td>\n",
       "    </tr>\n",
       "  </tbody>\n",
       "</table>\n",
       "</div>"
      ],
      "text/plain": [
       "   chldmort      adfert       life       country  region           gdp  \\\n",
       "0     34.75    7.300000  72.316666       Algeria  Africa   7300.399902   \n",
       "1    122.75  111.699997  54.733334         Benin  Africa   1338.800049   \n",
       "2     60.25   52.099998  52.250000      Botswana  Africa  12307.400391   \n",
       "3    170.50  124.800003  53.783333  Burkina Faso  Africa   1063.400024   \n",
       "4    168.50   18.600000  48.866665       Burundi  Africa    349.200012   \n",
       "\n",
       "        pop      urban   co2       gini  \n",
       "0  34172236  64.933334  15.0        NaN  \n",
       "1   8237634  41.000000   1.2        NaN  \n",
       "2   1941233  59.250000   9.2        NaN  \n",
       "3  15308383  23.583334   0.2        NaN  \n",
       "4   7821783  10.250000   0.1  33.299999  "
      ]
     },
     "execution_count": 7,
     "metadata": {},
     "output_type": "execute_result"
    }
   ],
   "source": [
    "df_sl.head()"
   ]
  },
  {
   "cell_type": "code",
   "execution_count": 8,
   "id": "1fa28802",
   "metadata": {},
   "outputs": [],
   "source": [
    "# Agregamos variables binarias de cada opcion de la variable región"
   ]
  },
  {
   "cell_type": "code",
   "execution_count": 9,
   "id": "d055fcf9",
   "metadata": {},
   "outputs": [
    {
     "data": {
      "text/plain": [
       "Africa      52\n",
       "Asia        49\n",
       "Europe      43\n",
       "Americas    35\n",
       "Oceania     15\n",
       "Name: region, dtype: int64"
      ]
     },
     "execution_count": 9,
     "metadata": {},
     "output_type": "execute_result"
    }
   ],
   "source": [
    "df_sl['region'].value_counts()"
   ]
  },
  {
   "cell_type": "code",
   "execution_count": 10,
   "id": "5bb21026",
   "metadata": {},
   "outputs": [],
   "source": [
    "df_sl['r_africa']=np.where(df_sl['region']=='Africa',1,0)"
   ]
  },
  {
   "cell_type": "code",
   "execution_count": 11,
   "id": "932efb5b",
   "metadata": {},
   "outputs": [],
   "source": [
    "df_sl['r_asia']=np.where(df_sl['region']=='Asia',1,0)"
   ]
  },
  {
   "cell_type": "code",
   "execution_count": 12,
   "id": "023dc16d",
   "metadata": {},
   "outputs": [],
   "source": [
    "df_sl['r_europa']=np.where(df_sl['region']=='Europe',1,0)"
   ]
  },
  {
   "cell_type": "code",
   "execution_count": 13,
   "id": "b784a58c",
   "metadata": {},
   "outputs": [],
   "source": [
    "df_sl['r_america']=np.where(df_sl['region']=='Americas',1,0)"
   ]
  },
  {
   "cell_type": "code",
   "execution_count": 14,
   "id": "5762a1cd",
   "metadata": {},
   "outputs": [],
   "source": [
    "df_sl['r_oceania']=np.where(df_sl['region']=='Oceania',1,0)"
   ]
  },
  {
   "cell_type": "code",
   "execution_count": 15,
   "id": "4230fb88",
   "metadata": {},
   "outputs": [
    {
     "data": {
      "text/html": [
       "<div>\n",
       "<style scoped>\n",
       "    .dataframe tbody tr th:only-of-type {\n",
       "        vertical-align: middle;\n",
       "    }\n",
       "\n",
       "    .dataframe tbody tr th {\n",
       "        vertical-align: top;\n",
       "    }\n",
       "\n",
       "    .dataframe thead th {\n",
       "        text-align: right;\n",
       "    }\n",
       "</style>\n",
       "<table border=\"1\" class=\"dataframe\">\n",
       "  <thead>\n",
       "    <tr style=\"text-align: right;\">\n",
       "      <th></th>\n",
       "      <th>chldmort</th>\n",
       "      <th>adfert</th>\n",
       "      <th>life</th>\n",
       "      <th>country</th>\n",
       "      <th>region</th>\n",
       "      <th>gdp</th>\n",
       "      <th>pop</th>\n",
       "      <th>urban</th>\n",
       "      <th>co2</th>\n",
       "      <th>gini</th>\n",
       "      <th>r_africa</th>\n",
       "      <th>r_asia</th>\n",
       "      <th>r_europa</th>\n",
       "      <th>r_america</th>\n",
       "      <th>r_oceania</th>\n",
       "    </tr>\n",
       "  </thead>\n",
       "  <tbody>\n",
       "    <tr>\n",
       "      <th>56</th>\n",
       "      <td>19.75</td>\n",
       "      <td>78.699997</td>\n",
       "      <td>75.216667</td>\n",
       "      <td>Belize</td>\n",
       "      <td>Americas</td>\n",
       "      <td>6208.799805</td>\n",
       "      <td>296200</td>\n",
       "      <td>51.200001</td>\n",
       "      <td>10.75</td>\n",
       "      <td>NaN</td>\n",
       "      <td>0</td>\n",
       "      <td>0</td>\n",
       "      <td>0</td>\n",
       "      <td>1</td>\n",
       "      <td>0</td>\n",
       "    </tr>\n",
       "    <tr>\n",
       "      <th>55</th>\n",
       "      <td>11.50</td>\n",
       "      <td>42.599998</td>\n",
       "      <td>76.300003</td>\n",
       "      <td>Barbados</td>\n",
       "      <td>Americas</td>\n",
       "      <td>19189.000000</td>\n",
       "      <td>271917</td>\n",
       "      <td>42.900002</td>\n",
       "      <td>16.65</td>\n",
       "      <td>NaN</td>\n",
       "      <td>0</td>\n",
       "      <td>0</td>\n",
       "      <td>0</td>\n",
       "      <td>1</td>\n",
       "      <td>0</td>\n",
       "    </tr>\n",
       "    <tr>\n",
       "      <th>179</th>\n",
       "      <td>170.00</td>\n",
       "      <td>171.100006</td>\n",
       "      <td>49.666668</td>\n",
       "      <td>Angola</td>\n",
       "      <td>Oceania</td>\n",
       "      <td>4662.000000</td>\n",
       "      <td>17783300</td>\n",
       "      <td>56.250000</td>\n",
       "      <td>2.25</td>\n",
       "      <td>NaN</td>\n",
       "      <td>0</td>\n",
       "      <td>0</td>\n",
       "      <td>0</td>\n",
       "      <td>0</td>\n",
       "      <td>1</td>\n",
       "    </tr>\n",
       "    <tr>\n",
       "      <th>87</th>\n",
       "      <td>203.00</td>\n",
       "      <td>118.699997</td>\n",
       "      <td>47.400002</td>\n",
       "      <td>Afghanistan</td>\n",
       "      <td>Asia</td>\n",
       "      <td>938.400024</td>\n",
       "      <td>29501834</td>\n",
       "      <td>21.916666</td>\n",
       "      <td>0.10</td>\n",
       "      <td>NaN</td>\n",
       "      <td>0</td>\n",
       "      <td>1</td>\n",
       "      <td>0</td>\n",
       "      <td>0</td>\n",
       "      <td>0</td>\n",
       "    </tr>\n",
       "    <tr>\n",
       "      <th>112</th>\n",
       "      <td>17.50</td>\n",
       "      <td>12.200000</td>\n",
       "      <td>75.516670</td>\n",
       "      <td>Maldives</td>\n",
       "      <td>Asia</td>\n",
       "      <td>4773.200195</td>\n",
       "      <td>305550</td>\n",
       "      <td>36.950001</td>\n",
       "      <td>9.50</td>\n",
       "      <td>NaN</td>\n",
       "      <td>0</td>\n",
       "      <td>1</td>\n",
       "      <td>0</td>\n",
       "      <td>0</td>\n",
       "      <td>0</td>\n",
       "    </tr>\n",
       "  </tbody>\n",
       "</table>\n",
       "</div>"
      ],
      "text/plain": [
       "     chldmort      adfert       life      country    region           gdp  \\\n",
       "56      19.75   78.699997  75.216667       Belize  Americas   6208.799805   \n",
       "55      11.50   42.599998  76.300003     Barbados  Americas  19189.000000   \n",
       "179    170.00  171.100006  49.666668       Angola   Oceania   4662.000000   \n",
       "87     203.00  118.699997  47.400002  Afghanistan      Asia    938.400024   \n",
       "112     17.50   12.200000  75.516670     Maldives      Asia   4773.200195   \n",
       "\n",
       "          pop      urban    co2  gini  r_africa  r_asia  r_europa  r_america  \\\n",
       "56     296200  51.200001  10.75   NaN         0       0         0          1   \n",
       "55     271917  42.900002  16.65   NaN         0       0         0          1   \n",
       "179  17783300  56.250000   2.25   NaN         0       0         0          0   \n",
       "87   29501834  21.916666   0.10   NaN         0       1         0          0   \n",
       "112    305550  36.950001   9.50   NaN         0       1         0          0   \n",
       "\n",
       "     r_oceania  \n",
       "56           0  \n",
       "55           0  \n",
       "179          1  \n",
       "87           0  \n",
       "112          0  "
      ]
     },
     "execution_count": 15,
     "metadata": {},
     "output_type": "execute_result"
    }
   ],
   "source": [
    "df_sl.sample(5)"
   ]
  },
  {
   "cell_type": "markdown",
   "id": "344297ab",
   "metadata": {},
   "source": [
    "3. Implementar una función de prueba de hipótesis a mano (3 puntos)"
   ]
  },
  {
   "cell_type": "code",
   "execution_count": 19,
   "id": "2e39ef84",
   "metadata": {},
   "outputs": [],
   "source": [
    "def hipotesis(df, variable,  binarize):\n",
    "    \"\"\" Esta es una prueba para la hipótesis nula de que 2 muestras independientes tienen valores promedio (esperados) idénticos.\n",
    "    Esta prueba asume que las poblaciones tienen varianzas idénticas por defecto..\n",
    "    Esta prueba de hipótesis es de dos colas\"\"\"\n",
    "    from scipy.stats import norm, ttest_ind\n",
    "    #borro na de variable\n",
    "    df=df.dropna(subset=[variable])\n",
    "    a=[]\n",
    "    b=[]\n",
    "    #separo variable segun binarize\n",
    "    for i in df.index:\n",
    "        if df[binarize][i]==1:\n",
    "            a.append(df[variable][i])\n",
    "        elif df[binarize][i]==0:\n",
    "            b.append(df[variable][i])\n",
    "    a_arr = pd.array(data=a,dtype=float) \n",
    "    b_arr = pd.array(data=b,dtype=float) \n",
    "#print(a)\n",
    "#print(b)\n",
    "   #obtengo valores valor t y pval con  ttest_ind\n",
    "    val=ttest_ind(a_arr,b_arr)\n",
    "    #print(val)\n",
    "    t=val[0]\n",
    "    pval=val[1]\n",
    "    print(f\"La media de {variable} cuando {binarize} = 1 es:  {np.mean(a_arr)}\")\n",
    "    print(f\"La media de {variable} cuando {binarize} = 0 es:  {np.mean(b_arr)}\")\n",
    "    print(f\"La diferencia entre medias es {abs(np.mean(a_arr)- np.mean(b_arr))}\")\n",
    "    print(f\"T estadistico es =  {t} P valores es =  {pval}\")\n",
    "    print(\"                                          \")"
   ]
  },
  {
   "cell_type": "code",
   "execution_count": 20,
   "id": "fef24fde",
   "metadata": {},
   "outputs": [
    {
     "name": "stdout",
     "output_type": "stream",
     "text": [
      "La media de gini cuando r_africa = 1 es:  40.51363615556196\n",
      "La media de gini cuando r_africa = 0 es:  40.4644069025072\n",
      "La diferencia entre medias es 0.04922925305476156\n",
      "T estadistico es =  0.023072209920669003 P valores es =  0.9816508510686119\n",
      "                                          \n"
     ]
    }
   ],
   "source": [
    "hipotesis(df_sl,'gini', 'r_africa')"
   ]
  },
  {
   "cell_type": "markdown",
   "id": "5dd73818",
   "metadata": {},
   "source": [
    "4. Implementar una función que grafique los histogramas para ambas muestras (3\n",
    "puntos)"
   ]
  },
  {
   "cell_type": "code",
   "execution_count": 21,
   "id": "74e10231",
   "metadata": {},
   "outputs": [
    {
     "data": {
      "image/png": "[encoded data removed]",
      "text/plain": [
       "<Figure size 432x216 with 2 Axes>"
      ]
     },
     "metadata": {
      "needs_background": "light"
     },
     "output_type": "display_data"
    }
   ],
   "source": [
    "import seaborn as sns\n",
    "def binarize_histogram_r(dataframe, variable):\n",
    "    tmp = dataframe\n",
    "    tmp['binarize'] = np.where(tmp[variable] > np.mean(tmp[variable]), 1, 0)\n",
    "    \n",
    "    hist_1 = tmp[tmp['binarize'] == 1][variable].dropna()\n",
    "    hist_0 = tmp[tmp['binarize'] == 0][variable].dropna()\n",
    "    \n",
    "    grid = sns.FacetGrid(tmp, col='binarize', col_wrap=2, sharex=False, sharey=False)\n",
    "    grip = grid.map(sns.distplot, variable, rug=True, kde=True, fit=stats.norm, bins=10).set_axis_labels(variable)\n",
    "    axes = grid.axes.flatten()\n",
    "    axes[0].set_title(f\"{variable} <= {round(np.mean(hist_0), 2)}\")\n",
    "    axes[1].set_title(f\"{variable} >= {round(np.mean(hist_0), 2)}\")\n",
    "    axes[0].axvline(np.mean(hist_0) , alpha=0.5)\n",
    "    axes[1].axvline(np.mean(hist_1) , alpha=0.5)\n",
    "    \n",
    "    \n",
    "binarize_histogram_r(df_sl,'gini')"
   ]
  },
  {
   "cell_type": "markdown",
   "id": "507d2e19",
   "metadata": {},
   "source": [
    "Para las tres variables de interés acorde a su grupo, analice las diferencias de\n",
    "medias por cada continente, y posteriormente grafique. Concluya con los\n",
    "principales resultados al respecto.<br>\n",
    "chldmort, adfert y life.\n"
   ]
  },
  {
   "cell_type": "code",
   "execution_count": 22,
   "id": "373c460d",
   "metadata": {},
   "outputs": [
    {
     "name": "stdout",
     "output_type": "stream",
     "text": [
      "La media de chldmort cuando r_africa = 1 es:  109.75\n",
      "La media de chldmort cuando r_africa = 0 es:  24.74822695035461\n",
      "La diferencia entre medias es 85.0017730496454\n",
      "T estadistico es =  14.17367667788517 P valores es =  1.244572684496239e-31\n",
      "                                          \n",
      "La media de chldmort cuando r_asia = 1 es:  37.104166666666664\n",
      "La media de chldmort cuando r_asia = 0 es:  51.141379310344824\n",
      "La diferencia entre medias es 14.03721264367816\n",
      "T estadistico es =  -1.602738386676471 P valores es =  0.1106448646711535\n",
      "                                          \n",
      "La media de chldmort cuando r_europa = 1 es:  7.046511627906977\n",
      "La media de chldmort cuando r_europa = 0 es:  59.29\n",
      "La diferencia entre medias es 52.243488372093026\n",
      "T estadistico es =  -6.262400472976766 P valores es =  2.4506589890929246e-09\n",
      "                                          \n",
      "La media de chldmort cuando r_america = 1 es:  23.264285714285716\n",
      "La media de chldmort cuando r_america = 0 es:  53.052215189873415\n",
      "La diferencia entre medias es 29.7879294755877\n",
      "T estadistico es =  -3.08561941878294 P valores es =  0.00233300081092071\n",
      "                                          \n",
      "La media de chldmort cuando r_oceania = 1 es:  39.416666666666664\n",
      "La media de chldmort cuando r_oceania = 0 es:  48.34410112359551\n",
      "La diferencia entre medias es 8.927434456928843\n",
      "T estadistico es =  -0.6277779742677246 P valores es =  0.5308992371716935\n",
      "                                          \n"
     ]
    }
   ],
   "source": [
    "hipotesis(df_sl,'chldmort', 'r_africa')\n",
    "hipotesis(df_sl,'chldmort', 'r_asia')\n",
    "hipotesis(df_sl,'chldmort', 'r_europa')\n",
    "hipotesis(df_sl,'chldmort', 'r_america')\n",
    "hipotesis(df_sl,'chldmort', 'r_oceania')"
   ]
  },
  {
   "cell_type": "code",
   "execution_count": 23,
   "id": "01130eb9",
   "metadata": {},
   "outputs": [
    {
     "data": {
      "image/png": "[encoded data removed]",
      "text/plain": [
       "<Figure size 432x216 with 2 Axes>"
      ]
     },
     "metadata": {
      "needs_background": "light"
     },
     "output_type": "display_data"
    }
   ],
   "source": [
    "binarize_histogram_r(df_sl,'chldmort')"
   ]
  },
  {
   "cell_type": "code",
   "execution_count": 24,
   "id": "2337d3a6",
   "metadata": {},
   "outputs": [],
   "source": [
    "#Estableciendo un alfa de 0.05 (95% de confianza no es por azar) se puede observar que el p valor en africa, europa y america es \n",
    "# menor al alfa establecido, por lo cual se tiene evidencia para rechazar la hpótesis nula que indica igualdad de medias, para la variable\n",
    "#chldmort\n",
    "\n",
    "# Se podría esperar valores más altos de la variable en africa (media 109.) y  menores en europa ( media 7.0)"
   ]
  },
  {
   "cell_type": "code",
   "execution_count": 25,
   "id": "30123550",
   "metadata": {},
   "outputs": [
    {
     "name": "stdout",
     "output_type": "stream",
     "text": [
      "La media de adfert cuando r_africa = 1 es:  92.72115342892133\n",
      "La media de adfert cuando r_africa = 0 es:  36.83450711361119\n",
      "La diferencia entre medias es 55.88664631531014\n",
      "T estadistico es =  9.444409431356496 P valores es =  1.2481674170069097e-17\n",
      "                                          \n",
      "La media de adfert cuando r_asia = 1 es:  33.86530622170896\n",
      "La media de adfert cuando r_asia = 0 es:  57.87999988671007\n",
      "La diferencia entre medias es 24.014693665001104\n",
      "T estadistico es =  -3.386269877966909 P valores es =  0.0008592686089688165\n",
      "                                          \n",
      "La media de adfert cuando r_europa = 1 es:  15.53720931396928\n",
      "La media de adfert cuando r_europa = 0 es:  62.14503303268887\n",
      "La diferencia entre medias es 46.607823718719594\n",
      "T estadistico es =  -6.797972597840039 P valores es =  1.3040875269879142e-10\n",
      "                                          \n",
      "La media de adfert cuando r_america = 1 es:  63.659999847412095\n",
      "La media de adfert cuando r_america = 0 es:  49.20691819985708\n",
      "La diferencia entre medias es 14.453081647555017\n",
      "T estadistico es =  1.7662790555775358 P valores es =  0.07893816171889229\n",
      "                                          \n",
      "La media de adfert cuando r_oceania = 1 es:  44.993334007263215\n",
      "La media de adfert cuando r_oceania = 0 es:  52.38603339847906\n",
      "La diferencia entre medias es 7.392699391215842\n",
      "T estadistico es =  -0.6231321887004004 P valores es =  0.533937139374225\n",
      "                                          \n"
     ]
    }
   ],
   "source": [
    "hipotesis(df_sl,'adfert', 'r_africa')\n",
    "hipotesis(df_sl,'adfert', 'r_asia')\n",
    "hipotesis(df_sl,'adfert', 'r_europa')\n",
    "hipotesis(df_sl,'adfert', 'r_america')\n",
    "hipotesis(df_sl,'adfert', 'r_oceania')"
   ]
  },
  {
   "cell_type": "code",
   "execution_count": 26,
   "id": "97ab04f4",
   "metadata": {},
   "outputs": [
    {
     "data": {
      "image/png": "[encoded data removed]",
      "text/plain": [
       "<Figure size 432x216 with 2 Axes>"
      ]
     },
     "metadata": {
      "needs_background": "light"
     },
     "output_type": "display_data"
    }
   ],
   "source": [
    "binarize_histogram_r(df_sl,'adfert')"
   ]
  },
  {
   "cell_type": "code",
   "execution_count": 27,
   "id": "fdc1353f",
   "metadata": {},
   "outputs": [],
   "source": [
    "##Estableciendo un alfa de 0.05 (95% de confianza no es por azar) se puede observar que el p valor en africa, europa y asia es \n",
    "# menor al alfa establecido, por lo cual se tiene evidencia para rechazar la hipótesis nula que indica igualdad de medias, para la variable\n",
    "#adfert\n",
    "\n",
    "# Se podría esperar valores más altos de la variable en africa (media 92) y  más bajos en europa (mean 15.5)"
   ]
  },
  {
   "cell_type": "code",
   "execution_count": 28,
   "id": "3fdb9e8d",
   "metadata": {},
   "outputs": [
    {
     "name": "stdout",
     "output_type": "stream",
     "text": [
      "La media de life cuando r_africa = 1 es:  56.49038454202504\n",
      "La media de life cuando r_africa = 0 es:  73.21114999475614\n",
      "La diferencia entre medias es 16.7207654527311\n",
      "T estadistico es =  -15.174602759471485 P valores es =  1.0713988391633837e-34\n",
      "                                          \n",
      "La media de life cuando r_asia = 1 es:  70.87244882388991\n",
      "La media de life cuando r_asia = 0 es:  68.0050572625522\n",
      "La diferencia entre medias es 2.867391561337712\n",
      "T estadistico es =  1.7346722179790488 P valores es =  0.08440370105334277\n",
      "                                          \n",
      "La media de life cuando r_europa = 1 es:  76.94573619753815\n",
      "La media de life cuando r_europa = 0 es:  66.38951416520882\n",
      "La diferencia entre medias es 10.55622203232933\n",
      "T estadistico es =  6.735355531733242 P valores es =  1.8491610377704238e-10\n",
      "                                          \n",
      "La media de life cuando r_america = 1 es:  73.45142800467355\n",
      "La media de life cuando r_america = 0 es:  67.68983217155409\n",
      "La diferencia entre medias es 5.761595833119458\n",
      "T estadistico es =  3.138414667252044 P valores es =  0.0019666060685098454\n",
      "                                          \n",
      "La media de life cuando r_oceania = 1 es:  69.58444468180339\n",
      "La media de life cuando r_oceania = 0 es:  68.65763477772973\n",
      "La diferencia entre medias es 0.9268099040736644\n",
      "T estadistico es =  0.342110739720379 P valores es =  0.7326417413000359\n",
      "                                          \n"
     ]
    }
   ],
   "source": [
    "hipotesis(df_sl,'life', 'r_africa')\n",
    "hipotesis(df_sl,'life', 'r_asia')\n",
    "hipotesis(df_sl,'life', 'r_europa')\n",
    "hipotesis(df_sl,'life', 'r_america')\n",
    "hipotesis(df_sl,'life', 'r_oceania')"
   ]
  },
  {
   "cell_type": "code",
   "execution_count": 29,
   "id": "32c53dff",
   "metadata": {},
   "outputs": [
    {
     "data": {
      "image/png": "[encoded data removed]",
      "text/plain": [
       "<Figure size 432x216 with 2 Axes>"
      ]
     },
     "metadata": {
      "needs_background": "light"
     },
     "output_type": "display_data"
    }
   ],
   "source": [
    "binarize_histogram_r(df_sl,'life')"
   ]
  },
  {
   "cell_type": "code",
   "execution_count": 30,
   "id": "8eb28066",
   "metadata": {},
   "outputs": [],
   "source": [
    "##Estableciendo un alfa de 0.05 (95% de confianza no es por azar) se puede observar que el p valor en africa, europa y america es \n",
    "# menor al alfa establecido, por lo cual se tiene evidencia para rechazar la hipótesis nula que indica igualdad de medias, para la variable\n",
    "#life\n",
    "\n",
    "# Se podría esperar valores más altos de la variable en europa (media 76.9) y  más bajos en africa (mean 56.4)\n",
    "#A diferencia de las variables anteriores, las medias entre regiones no son tan alejadas entres ellas y de media total \n",
    "#de la variable(58.39)"
   ]
  },
  {
   "cell_type": "code",
   "execution_count": null,
   "id": "7e60beea",
   "metadata": {},
   "outputs": [],
   "source": []
  }
 ],
 "metadata": {
  "kernelspec": {
   "display_name": "Python 3 (ipykernel)",
   "language": "python",
   "name": "python3"
  },
  "language_info": {
   "codemirror_mode": {
    "name": "ipython",
    "version": 3
   },
   "file_extension": ".py",
   "mimetype": "text/x-python",
   "name": "python",
   "nbconvert_exporter": "python",
   "pygments_lexer": "ipython3",
   "version": "3.9.7"
  }
 },
 "nbformat": 4,
 "nbformat_minor": 5
}
