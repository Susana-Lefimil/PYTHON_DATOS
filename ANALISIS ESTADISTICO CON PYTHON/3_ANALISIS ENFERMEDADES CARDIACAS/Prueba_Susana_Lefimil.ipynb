{
 "cells": [
  {
   "cell_type": "markdown",
   "id": "bd6e62ab",
   "metadata": {},
   "source": [
    "### Prueba - Análisis estadístico con Python\n"
   ]
  },
  {
   "cell_type": "raw",
   "id": "f2056c05",
   "metadata": {},
   "source": [
    "La OMS estima que cada año se producen 12 millones de muertes en todo el mundo debido\n",
    "a enfermedades cardíacas, producidas en su gran mayoría por enfermedades\n",
    "cardiovasculares. El pronóstico temprano de las enfermedades cardiovasculares puede\n",
    "ayudar en la toma de decisiones sobre cambios en el estilo de vida en pacientes de alto\n",
    "riesgo y reducir las complicaciones\n",
    "\n",
    "Para el siguiente analisis se utilizará la base  cardio.csv, con datos de pacientes de hace 10 años con la idea \n",
    "de estudiar variables que puedan incidir en enfermedades cardiovasculares. \n",
    "\n",
    "Las variables que contiene la base son:\n",
    "\n",
    "- Sex: M - F\n",
    "- Age: edad\n",
    "- Education: codificada, considerando que un valor más alto corresponde a un mayor\n",
    "nivel educativo.\n",
    "- currentSmoker: si el paciente es o no fumador actual\n",
    "- cigsPerDay: el número de cigarrillos que la persona fumaba en promedio en un día.\n",
    "- BPMeds: si el paciente estaba tomando medicamentos para la presión arterial (0: No,\n",
    "1: Sí)\n",
    "- prevalenStroke: si el paciente había tenido un accidente cerebrovascular previamente\n",
    "(0: No, 1: Sí)\n",
    "- prevalentHyp:: si el paciente era hipertenso o no (0: No, 1: Sí)\n",
    "- diabetes: si el paciente tenía diabetes o no (0: No, 1: Sí)\n",
    "- totChol: nivel de colesterol total\n",
    "- sysBP: presión arterial sistólica\n",
    "- diaBP_BMI: presión arterial diastólica\n",
    "- BMI: Índice de masa corporal\n",
    "- heartRate: : ritmo cardíaco\n",
    "- glucose: nivel de glucosa\n",
    "-TenYearCHD: se indica si el paciente sufrió o no una enfermedad coronaria en los\n",
    "últimos 10 años.(0: No, 1: Sí)"
   ]
  },
  {
   "cell_type": "raw",
   "id": "c5f00073",
   "metadata": {},
   "source": [
    "Preparar el ambiente de trabajo"
   ]
  },
  {
   "cell_type": "code",
   "execution_count": 1,
   "id": "94533e47",
   "metadata": {},
   "outputs": [
    {
     "name": "stderr",
     "output_type": "stream",
     "text": [
      "C:\\Users\\susan\\AppData\\Local\\Temp\\ipykernel_12996\\2416799408.py:17: MatplotlibDeprecationWarning: The seaborn styles shipped by Matplotlib are deprecated since 3.6, as they no longer correspond to the styles shipped by seaborn. However, they will remain available as 'seaborn-v0_8-<style>'. Alternatively, directly use the seaborn API instead.\n",
      "  plt.style.use('seaborn-whitegrid')\n"
     ]
    }
   ],
   "source": [
    "\n",
    "import matplotlib.pyplot as plt\n",
    "import pandas as pd\n",
    "import numpy as np\n",
    "import seaborn as sns\n",
    "import scipy.stats as stats\n",
    "from scipy.stats import norm\n",
    "from sklearn.preprocessing import PolynomialFeatures as polynom\n",
    "from sklearn.linear_model import LinearRegression as linreg\n",
    "from sklearn.pipeline import make_pipeline\n",
    "from sklearn.metrics import mean_squared_error, r2_score\n",
    "from sklearn.model_selection import train_test_split\n",
    "from sklearn.model_selection import GridSearchCV\n",
    "from sklearn.linear_model import LogisticRegression\n",
    "from sklearn.preprocessing import StandardScaler\n",
    "import statsmodels.formula.api as smf\n",
    "\n",
    "plt.style.use('seaborn-whitegrid')\n",
    "\n",
    "from sklearn.metrics import classification_report\n",
    "from sklearn.metrics import auc\n",
    "from sklearn.metrics import roc_auc_score\n",
    "from sklearn.metrics import roc_curve\n",
    "from sklearn.metrics import accuracy_score\n",
    "\n",
    "import warnings\n",
    "warnings.filterwarnings(\"ignore\")"
   ]
  },
  {
   "cell_type": "code",
   "execution_count": 2,
   "id": "8a36ddee",
   "metadata": {},
   "outputs": [],
   "source": [
    "import random\n",
    "import numpy as np\n",
    "import matplotlib\n",
    "import matplotlib.pyplot as plt\n",
    "import seaborn\n",
    "from sklearn import linear_model\n",
    "from funciones_1 import*"
   ]
  },
  {
   "cell_type": "raw",
   "id": "c245ede6",
   "metadata": {},
   "source": [
    "A partir de estos datos, buscaremos realizar algunas descripciones predictivos"
   ]
  },
  {
   "cell_type": "raw",
   "id": "75aad2ba",
   "metadata": {},
   "source": [
    "1. Carga los datos y explóralos. Elimina los datos nulos o incorrectos"
   ]
  },
  {
   "cell_type": "code",
   "execution_count": 3,
   "id": "426745f1",
   "metadata": {},
   "outputs": [],
   "source": [
    "#carga información\n",
    "df = pd.read_csv('cardio.csv')"
   ]
  },
  {
   "cell_type": "code",
   "execution_count": 4,
   "id": "fe0cd36d",
   "metadata": {},
   "outputs": [
    {
     "data": {
      "text/html": [
       "<div>\n",
       "<style scoped>\n",
       "    .dataframe tbody tr th:only-of-type {\n",
       "        vertical-align: middle;\n",
       "    }\n",
       "\n",
       "    .dataframe tbody tr th {\n",
       "        vertical-align: top;\n",
       "    }\n",
       "\n",
       "    .dataframe thead th {\n",
       "        text-align: right;\n",
       "    }\n",
       "</style>\n",
       "<table border=\"1\" class=\"dataframe\">\n",
       "  <thead>\n",
       "    <tr style=\"text-align: right;\">\n",
       "      <th></th>\n",
       "      <th>sex</th>\n",
       "      <th>age</th>\n",
       "      <th>education</th>\n",
       "      <th>currentSmoker</th>\n",
       "      <th>cigsPerDay</th>\n",
       "      <th>BPMeds</th>\n",
       "      <th>prevalentStroke</th>\n",
       "      <th>prevalentHyp</th>\n",
       "      <th>diabetes</th>\n",
       "      <th>totChol</th>\n",
       "      <th>sysBP</th>\n",
       "      <th>diaBP</th>\n",
       "      <th>BMI</th>\n",
       "      <th>heartRate</th>\n",
       "      <th>glucose</th>\n",
       "      <th>TenYearCHD</th>\n",
       "    </tr>\n",
       "  </thead>\n",
       "  <tbody>\n",
       "    <tr>\n",
       "      <th>0</th>\n",
       "      <td>M</td>\n",
       "      <td>39</td>\n",
       "      <td>4.0</td>\n",
       "      <td>No</td>\n",
       "      <td>0.0</td>\n",
       "      <td>0.0</td>\n",
       "      <td>0</td>\n",
       "      <td>0</td>\n",
       "      <td>0</td>\n",
       "      <td>195.0</td>\n",
       "      <td>106.0</td>\n",
       "      <td>70.0</td>\n",
       "      <td>26.97</td>\n",
       "      <td>80.0</td>\n",
       "      <td>77.0</td>\n",
       "      <td>0</td>\n",
       "    </tr>\n",
       "    <tr>\n",
       "      <th>1</th>\n",
       "      <td>F</td>\n",
       "      <td>46</td>\n",
       "      <td>2.0</td>\n",
       "      <td>No</td>\n",
       "      <td>0.0</td>\n",
       "      <td>0.0</td>\n",
       "      <td>0</td>\n",
       "      <td>0</td>\n",
       "      <td>0</td>\n",
       "      <td>250.0</td>\n",
       "      <td>121.0</td>\n",
       "      <td>81.0</td>\n",
       "      <td>28.73</td>\n",
       "      <td>95.0</td>\n",
       "      <td>76.0</td>\n",
       "      <td>0</td>\n",
       "    </tr>\n",
       "    <tr>\n",
       "      <th>2</th>\n",
       "      <td>M</td>\n",
       "      <td>48</td>\n",
       "      <td>1.0</td>\n",
       "      <td>Yes</td>\n",
       "      <td>20.0</td>\n",
       "      <td>0.0</td>\n",
       "      <td>0</td>\n",
       "      <td>0</td>\n",
       "      <td>0</td>\n",
       "      <td>245.0</td>\n",
       "      <td>127.5</td>\n",
       "      <td>80.0</td>\n",
       "      <td>25.34</td>\n",
       "      <td>75.0</td>\n",
       "      <td>70.0</td>\n",
       "      <td>0</td>\n",
       "    </tr>\n",
       "    <tr>\n",
       "      <th>3</th>\n",
       "      <td>F</td>\n",
       "      <td>61</td>\n",
       "      <td>3.0</td>\n",
       "      <td>Yes</td>\n",
       "      <td>30.0</td>\n",
       "      <td>0.0</td>\n",
       "      <td>0</td>\n",
       "      <td>1</td>\n",
       "      <td>0</td>\n",
       "      <td>225.0</td>\n",
       "      <td>150.0</td>\n",
       "      <td>95.0</td>\n",
       "      <td>28.58</td>\n",
       "      <td>65.0</td>\n",
       "      <td>103.0</td>\n",
       "      <td>1</td>\n",
       "    </tr>\n",
       "    <tr>\n",
       "      <th>4</th>\n",
       "      <td>F</td>\n",
       "      <td>46</td>\n",
       "      <td>3.0</td>\n",
       "      <td>Yes</td>\n",
       "      <td>23.0</td>\n",
       "      <td>0.0</td>\n",
       "      <td>0</td>\n",
       "      <td>0</td>\n",
       "      <td>0</td>\n",
       "      <td>285.0</td>\n",
       "      <td>130.0</td>\n",
       "      <td>84.0</td>\n",
       "      <td>23.10</td>\n",
       "      <td>85.0</td>\n",
       "      <td>85.0</td>\n",
       "      <td>0</td>\n",
       "    </tr>\n",
       "  </tbody>\n",
       "</table>\n",
       "</div>"
      ],
      "text/plain": [
       "  sex  age  education currentSmoker  cigsPerDay  BPMeds  prevalentStroke  \\\n",
       "0   M   39        4.0            No         0.0     0.0                0   \n",
       "1   F   46        2.0            No         0.0     0.0                0   \n",
       "2   M   48        1.0           Yes        20.0     0.0                0   \n",
       "3   F   61        3.0           Yes        30.0     0.0                0   \n",
       "4   F   46        3.0           Yes        23.0     0.0                0   \n",
       "\n",
       "   prevalentHyp  diabetes  totChol  sysBP  diaBP    BMI  heartRate  glucose  \\\n",
       "0             0         0    195.0  106.0   70.0  26.97       80.0     77.0   \n",
       "1             0         0    250.0  121.0   81.0  28.73       95.0     76.0   \n",
       "2             0         0    245.0  127.5   80.0  25.34       75.0     70.0   \n",
       "3             1         0    225.0  150.0   95.0  28.58       65.0    103.0   \n",
       "4             0         0    285.0  130.0   84.0  23.10       85.0     85.0   \n",
       "\n",
       "   TenYearCHD  \n",
       "0           0  \n",
       "1           0  \n",
       "2           0  \n",
       "3           1  \n",
       "4           0  "
      ]
     },
     "execution_count": 4,
     "metadata": {},
     "output_type": "execute_result"
    }
   ],
   "source": [
    "#Primeros datos de cada variable\n",
    "df.head()"
   ]
  },
  {
   "cell_type": "code",
   "execution_count": 5,
   "id": "7f21913b",
   "metadata": {},
   "outputs": [
    {
     "name": "stdout",
     "output_type": "stream",
     "text": [
      "<class 'pandas.core.frame.DataFrame'>\n",
      "RangeIndex: 4238 entries, 0 to 4237\n",
      "Data columns (total 16 columns):\n",
      " #   Column           Non-Null Count  Dtype  \n",
      "---  ------           --------------  -----  \n",
      " 0   sex              4238 non-null   object \n",
      " 1   age              4238 non-null   int64  \n",
      " 2   education        4133 non-null   float64\n",
      " 3   currentSmoker    4238 non-null   object \n",
      " 4   cigsPerDay       4209 non-null   float64\n",
      " 5   BPMeds           4185 non-null   float64\n",
      " 6   prevalentStroke  4238 non-null   int64  \n",
      " 7   prevalentHyp     4238 non-null   int64  \n",
      " 8   diabetes         4238 non-null   int64  \n",
      " 9   totChol          4188 non-null   float64\n",
      " 10  sysBP            4238 non-null   float64\n",
      " 11  diaBP            4238 non-null   float64\n",
      " 12  BMI              4219 non-null   float64\n",
      " 13  heartRate        4237 non-null   float64\n",
      " 14  glucose          3850 non-null   float64\n",
      " 15  TenYearCHD       4238 non-null   int64  \n",
      "dtypes: float64(9), int64(5), object(2)\n",
      "memory usage: 529.9+ KB\n"
     ]
    }
   ],
   "source": [
    "df.info()"
   ]
  },
  {
   "cell_type": "code",
   "execution_count": 6,
   "id": "b3d50a36",
   "metadata": {},
   "outputs": [],
   "source": [
    "# Existen variables de tipo float, int y object. la mayor parte de las variables tienen 4238 filas, las variables que tienen menos\n",
    "#son : education, cigsPerDay, BPMeds, totChol, BMI, heartRate, glucose"
   ]
  },
  {
   "cell_type": "code",
   "execution_count": 7,
   "id": "bbf6bfcd",
   "metadata": {},
   "outputs": [
    {
     "data": {
      "text/plain": [
       "1.0    1720\n",
       "2.0    1253\n",
       "3.0     687\n",
       "4.0     473\n",
       "Name: education, dtype: int64"
      ]
     },
     "execution_count": 7,
     "metadata": {},
     "output_type": "execute_result"
    }
   ],
   "source": [
    "#value count para las variables con menos datos discretas y object, describe para continuas\n",
    "\n",
    "df['education'].value_counts()"
   ]
  },
  {
   "cell_type": "code",
   "execution_count": 8,
   "id": "cddc012c",
   "metadata": {},
   "outputs": [
    {
     "data": {
      "text/plain": [
       "0.0     2144\n",
       "20.0     734\n",
       "30.0     217\n",
       "15.0     210\n",
       "10.0     143\n",
       "9.0      130\n",
       "5.0      121\n",
       "3.0      100\n",
       "40.0      80\n",
       "1.0       67\n",
       "43.0      56\n",
       "25.0      55\n",
       "35.0      22\n",
       "2.0       18\n",
       "6.0       18\n",
       "7.0       12\n",
       "8.0       11\n",
       "60.0      11\n",
       "4.0        9\n",
       "18.0       8\n",
       "17.0       7\n",
       "50.0       6\n",
       "23.0       6\n",
       "11.0       5\n",
       "45.0       3\n",
       "13.0       3\n",
       "12.0       3\n",
       "16.0       3\n",
       "14.0       2\n",
       "19.0       2\n",
       "38.0       1\n",
       "29.0       1\n",
       "70.0       1\n",
       "Name: cigsPerDay, dtype: int64"
      ]
     },
     "execution_count": 8,
     "metadata": {},
     "output_type": "execute_result"
    }
   ],
   "source": [
    "df['cigsPerDay'].value_counts()"
   ]
  },
  {
   "cell_type": "code",
   "execution_count": 9,
   "id": "fd0d1d81",
   "metadata": {},
   "outputs": [
    {
     "data": {
      "text/plain": [
       "0.0    4061\n",
       "1.0     124\n",
       "Name: BPMeds, dtype: int64"
      ]
     },
     "execution_count": 9,
     "metadata": {},
     "output_type": "execute_result"
    }
   ],
   "source": [
    "df['BPMeds'].value_counts()"
   ]
  },
  {
   "cell_type": "code",
   "execution_count": 10,
   "id": "589cd161",
   "metadata": {},
   "outputs": [
    {
     "data": {
      "text/plain": [
       "count    4188.000000\n",
       "mean      236.721585\n",
       "std        44.590334\n",
       "min       107.000000\n",
       "25%       206.000000\n",
       "50%       234.000000\n",
       "75%       263.000000\n",
       "max       696.000000\n",
       "Name: totChol, dtype: float64"
      ]
     },
     "execution_count": 10,
     "metadata": {},
     "output_type": "execute_result"
    }
   ],
   "source": [
    "df['totChol'].describe()"
   ]
  },
  {
   "cell_type": "code",
   "execution_count": 11,
   "id": "3f656809",
   "metadata": {},
   "outputs": [
    {
     "data": {
      "text/plain": [
       "22.19    18\n",
       "22.54    18\n",
       "23.48    18\n",
       "22.91    18\n",
       "23.09    16\n",
       "         ..\n",
       "34.13     1\n",
       "23.21     1\n",
       "29.13     1\n",
       "19.87     1\n",
       "43.67     1\n",
       "Name: BMI, Length: 1363, dtype: int64"
      ]
     },
     "execution_count": 11,
     "metadata": {},
     "output_type": "execute_result"
    }
   ],
   "source": [
    "df['BMI'].value_counts()"
   ]
  },
  {
   "cell_type": "code",
   "execution_count": 12,
   "id": "78a78ed3",
   "metadata": {},
   "outputs": [
    {
     "data": {
      "text/plain": [
       "count    4237.000000\n",
       "mean       75.878924\n",
       "std        12.026596\n",
       "min        44.000000\n",
       "25%        68.000000\n",
       "50%        75.000000\n",
       "75%        83.000000\n",
       "max       143.000000\n",
       "Name: heartRate, dtype: float64"
      ]
     },
     "execution_count": 12,
     "metadata": {},
     "output_type": "execute_result"
    }
   ],
   "source": [
    "df['heartRate'].describe()"
   ]
  },
  {
   "cell_type": "code",
   "execution_count": 13,
   "id": "f0231a6e",
   "metadata": {},
   "outputs": [
    {
     "data": {
      "text/plain": [
       "count    3850.000000\n",
       "mean       81.966753\n",
       "std        23.959998\n",
       "min        40.000000\n",
       "25%        71.000000\n",
       "50%        78.000000\n",
       "75%        87.000000\n",
       "max       394.000000\n",
       "Name: glucose, dtype: float64"
      ]
     },
     "execution_count": 13,
     "metadata": {},
     "output_type": "execute_result"
    }
   ],
   "source": [
    "df['glucose'].describe()"
   ]
  },
  {
   "cell_type": "code",
   "execution_count": 14,
   "id": "14439941",
   "metadata": {},
   "outputs": [],
   "source": [
    "#Si bien hay menos datos de 4238, no se ve que que se encuentren otro tipo de datos inválido. \n",
    "#lo más probable es que esten como na, para esto se eliminaran estos casos de la base df\n",
    "\n",
    "df=df.dropna()"
   ]
  },
  {
   "cell_type": "code",
   "execution_count": 15,
   "id": "d6f7671c",
   "metadata": {},
   "outputs": [
    {
     "name": "stdout",
     "output_type": "stream",
     "text": [
      "<class 'pandas.core.frame.DataFrame'>\n",
      "Int64Index: 3656 entries, 0 to 4237\n",
      "Data columns (total 16 columns):\n",
      " #   Column           Non-Null Count  Dtype  \n",
      "---  ------           --------------  -----  \n",
      " 0   sex              3656 non-null   object \n",
      " 1   age              3656 non-null   int64  \n",
      " 2   education        3656 non-null   float64\n",
      " 3   currentSmoker    3656 non-null   object \n",
      " 4   cigsPerDay       3656 non-null   float64\n",
      " 5   BPMeds           3656 non-null   float64\n",
      " 6   prevalentStroke  3656 non-null   int64  \n",
      " 7   prevalentHyp     3656 non-null   int64  \n",
      " 8   diabetes         3656 non-null   int64  \n",
      " 9   totChol          3656 non-null   float64\n",
      " 10  sysBP            3656 non-null   float64\n",
      " 11  diaBP            3656 non-null   float64\n",
      " 12  BMI              3656 non-null   float64\n",
      " 13  heartRate        3656 non-null   float64\n",
      " 14  glucose          3656 non-null   float64\n",
      " 15  TenYearCHD       3656 non-null   int64  \n",
      "dtypes: float64(9), int64(5), object(2)\n",
      "memory usage: 485.6+ KB\n"
     ]
    }
   ],
   "source": [
    "df.info() #quedaron 3656 datos al borrar las filas con NA"
   ]
  },
  {
   "cell_type": "raw",
   "id": "2f9df03b",
   "metadata": {},
   "source": [
    "2. Escoge tres variables cuantitativas y realiza un análisis descriptivo de ellas,\n",
    "utilizando indicadores y gráficos. ¿Cuaĺ presenta mayor dispersión?"
   ]
  },
  {
   "cell_type": "code",
   "execution_count": 16,
   "id": "f36d8b11",
   "metadata": {},
   "outputs": [
    {
     "data": {
      "text/html": [
       "<div>\n",
       "<style scoped>\n",
       "    .dataframe tbody tr th:only-of-type {\n",
       "        vertical-align: middle;\n",
       "    }\n",
       "\n",
       "    .dataframe tbody tr th {\n",
       "        vertical-align: top;\n",
       "    }\n",
       "\n",
       "    .dataframe thead th {\n",
       "        text-align: right;\n",
       "    }\n",
       "</style>\n",
       "<table border=\"1\" class=\"dataframe\">\n",
       "  <thead>\n",
       "    <tr style=\"text-align: right;\">\n",
       "      <th></th>\n",
       "      <th>age</th>\n",
       "      <th>education</th>\n",
       "      <th>cigsPerDay</th>\n",
       "      <th>BPMeds</th>\n",
       "      <th>prevalentStroke</th>\n",
       "      <th>prevalentHyp</th>\n",
       "      <th>diabetes</th>\n",
       "      <th>totChol</th>\n",
       "      <th>sysBP</th>\n",
       "      <th>diaBP</th>\n",
       "      <th>BMI</th>\n",
       "      <th>heartRate</th>\n",
       "      <th>glucose</th>\n",
       "      <th>TenYearCHD</th>\n",
       "    </tr>\n",
       "  </thead>\n",
       "  <tbody>\n",
       "    <tr>\n",
       "      <th>count</th>\n",
       "      <td>3656.000000</td>\n",
       "      <td>3656.000000</td>\n",
       "      <td>3656.000000</td>\n",
       "      <td>3656.000000</td>\n",
       "      <td>3656.000000</td>\n",
       "      <td>3656.000000</td>\n",
       "      <td>3656.000000</td>\n",
       "      <td>3656.000000</td>\n",
       "      <td>3656.000000</td>\n",
       "      <td>3656.000000</td>\n",
       "      <td>3656.000000</td>\n",
       "      <td>3656.000000</td>\n",
       "      <td>3656.000000</td>\n",
       "      <td>3656.000000</td>\n",
       "    </tr>\n",
       "    <tr>\n",
       "      <th>mean</th>\n",
       "      <td>49.557440</td>\n",
       "      <td>1.979759</td>\n",
       "      <td>9.022155</td>\n",
       "      <td>0.030361</td>\n",
       "      <td>0.005744</td>\n",
       "      <td>0.311543</td>\n",
       "      <td>0.027079</td>\n",
       "      <td>236.873085</td>\n",
       "      <td>132.368025</td>\n",
       "      <td>82.912062</td>\n",
       "      <td>25.784185</td>\n",
       "      <td>75.730580</td>\n",
       "      <td>81.856127</td>\n",
       "      <td>0.152352</td>\n",
       "    </tr>\n",
       "    <tr>\n",
       "      <th>std</th>\n",
       "      <td>8.561133</td>\n",
       "      <td>1.022657</td>\n",
       "      <td>11.918869</td>\n",
       "      <td>0.171602</td>\n",
       "      <td>0.075581</td>\n",
       "      <td>0.463187</td>\n",
       "      <td>0.162335</td>\n",
       "      <td>44.096223</td>\n",
       "      <td>22.092444</td>\n",
       "      <td>11.974825</td>\n",
       "      <td>4.065913</td>\n",
       "      <td>11.982952</td>\n",
       "      <td>23.910128</td>\n",
       "      <td>0.359411</td>\n",
       "    </tr>\n",
       "    <tr>\n",
       "      <th>min</th>\n",
       "      <td>32.000000</td>\n",
       "      <td>1.000000</td>\n",
       "      <td>0.000000</td>\n",
       "      <td>0.000000</td>\n",
       "      <td>0.000000</td>\n",
       "      <td>0.000000</td>\n",
       "      <td>0.000000</td>\n",
       "      <td>113.000000</td>\n",
       "      <td>83.500000</td>\n",
       "      <td>48.000000</td>\n",
       "      <td>15.540000</td>\n",
       "      <td>44.000000</td>\n",
       "      <td>40.000000</td>\n",
       "      <td>0.000000</td>\n",
       "    </tr>\n",
       "    <tr>\n",
       "      <th>25%</th>\n",
       "      <td>42.000000</td>\n",
       "      <td>1.000000</td>\n",
       "      <td>0.000000</td>\n",
       "      <td>0.000000</td>\n",
       "      <td>0.000000</td>\n",
       "      <td>0.000000</td>\n",
       "      <td>0.000000</td>\n",
       "      <td>206.000000</td>\n",
       "      <td>117.000000</td>\n",
       "      <td>75.000000</td>\n",
       "      <td>23.080000</td>\n",
       "      <td>68.000000</td>\n",
       "      <td>71.000000</td>\n",
       "      <td>0.000000</td>\n",
       "    </tr>\n",
       "    <tr>\n",
       "      <th>50%</th>\n",
       "      <td>49.000000</td>\n",
       "      <td>2.000000</td>\n",
       "      <td>0.000000</td>\n",
       "      <td>0.000000</td>\n",
       "      <td>0.000000</td>\n",
       "      <td>0.000000</td>\n",
       "      <td>0.000000</td>\n",
       "      <td>234.000000</td>\n",
       "      <td>128.000000</td>\n",
       "      <td>82.000000</td>\n",
       "      <td>25.380000</td>\n",
       "      <td>75.000000</td>\n",
       "      <td>78.000000</td>\n",
       "      <td>0.000000</td>\n",
       "    </tr>\n",
       "    <tr>\n",
       "      <th>75%</th>\n",
       "      <td>56.000000</td>\n",
       "      <td>3.000000</td>\n",
       "      <td>20.000000</td>\n",
       "      <td>0.000000</td>\n",
       "      <td>0.000000</td>\n",
       "      <td>1.000000</td>\n",
       "      <td>0.000000</td>\n",
       "      <td>263.250000</td>\n",
       "      <td>144.000000</td>\n",
       "      <td>90.000000</td>\n",
       "      <td>28.040000</td>\n",
       "      <td>82.000000</td>\n",
       "      <td>87.000000</td>\n",
       "      <td>0.000000</td>\n",
       "    </tr>\n",
       "    <tr>\n",
       "      <th>max</th>\n",
       "      <td>70.000000</td>\n",
       "      <td>4.000000</td>\n",
       "      <td>70.000000</td>\n",
       "      <td>1.000000</td>\n",
       "      <td>1.000000</td>\n",
       "      <td>1.000000</td>\n",
       "      <td>1.000000</td>\n",
       "      <td>600.000000</td>\n",
       "      <td>295.000000</td>\n",
       "      <td>142.500000</td>\n",
       "      <td>56.800000</td>\n",
       "      <td>143.000000</td>\n",
       "      <td>394.000000</td>\n",
       "      <td>1.000000</td>\n",
       "    </tr>\n",
       "  </tbody>\n",
       "</table>\n",
       "</div>"
      ],
      "text/plain": [
       "               age    education   cigsPerDay       BPMeds  prevalentStroke  \\\n",
       "count  3656.000000  3656.000000  3656.000000  3656.000000      3656.000000   \n",
       "mean     49.557440     1.979759     9.022155     0.030361         0.005744   \n",
       "std       8.561133     1.022657    11.918869     0.171602         0.075581   \n",
       "min      32.000000     1.000000     0.000000     0.000000         0.000000   \n",
       "25%      42.000000     1.000000     0.000000     0.000000         0.000000   \n",
       "50%      49.000000     2.000000     0.000000     0.000000         0.000000   \n",
       "75%      56.000000     3.000000    20.000000     0.000000         0.000000   \n",
       "max      70.000000     4.000000    70.000000     1.000000         1.000000   \n",
       "\n",
       "       prevalentHyp     diabetes      totChol        sysBP        diaBP  \\\n",
       "count   3656.000000  3656.000000  3656.000000  3656.000000  3656.000000   \n",
       "mean       0.311543     0.027079   236.873085   132.368025    82.912062   \n",
       "std        0.463187     0.162335    44.096223    22.092444    11.974825   \n",
       "min        0.000000     0.000000   113.000000    83.500000    48.000000   \n",
       "25%        0.000000     0.000000   206.000000   117.000000    75.000000   \n",
       "50%        0.000000     0.000000   234.000000   128.000000    82.000000   \n",
       "75%        1.000000     0.000000   263.250000   144.000000    90.000000   \n",
       "max        1.000000     1.000000   600.000000   295.000000   142.500000   \n",
       "\n",
       "               BMI    heartRate      glucose   TenYearCHD  \n",
       "count  3656.000000  3656.000000  3656.000000  3656.000000  \n",
       "mean     25.784185    75.730580    81.856127     0.152352  \n",
       "std       4.065913    11.982952    23.910128     0.359411  \n",
       "min      15.540000    44.000000    40.000000     0.000000  \n",
       "25%      23.080000    68.000000    71.000000     0.000000  \n",
       "50%      25.380000    75.000000    78.000000     0.000000  \n",
       "75%      28.040000    82.000000    87.000000     0.000000  \n",
       "max      56.800000   143.000000   394.000000     1.000000  "
      ]
     },
     "execution_count": 16,
     "metadata": {},
     "output_type": "execute_result"
    }
   ],
   "source": [
    "df.describe()"
   ]
  },
  {
   "cell_type": "code",
   "execution_count": 17,
   "id": "e1a519c3",
   "metadata": {},
   "outputs": [
    {
     "data": {
      "text/plain": [
       "<matplotlib.legend.Legend at 0x237c35778b0>"
      ]
     },
     "execution_count": 17,
     "metadata": {},
     "output_type": "execute_result"
    },
    {
     "data": {
      "image/png": "[encoded data removed]",
      "text/plain": [
       "<Figure size 1000x500 with 1 Axes>"
      ]
     },
     "metadata": {},
     "output_type": "display_data"
    }
   ],
   "source": [
    "# se elige totChol, BMI y edad \n",
    "\n",
    "#Medidas de dispersion: media, mediana, rangos y desviación\n",
    "\n",
    "fig, axes = plt.subplots(nrows = 1,figsize=(10,5))\n",
    "seaborn.histplot(df['BMI'],bins=25,color='gray')\n",
    "plt.xlim(0,171)\n",
    "\n",
    "axes.axvline(df['BMI'].mean(),color='red', linestyle = '--',label='Media')\n",
    "\n",
    "axes.axvline(df['BMI'].median(),color='green', linestyle = '-.',label='Mediana')\n",
    "\n",
    "axes.axvline(df['BMI'].quantile(0.25),color='blue', linestyle = '-.',label='Q1')\n",
    "\n",
    "axes.axvline(df['BMI'].quantile(0.75),color='black', linestyle = '-.',label='Q3')\n",
    "\n",
    "\n",
    "axes.legend()\n",
    "\n",
    "\n"
   ]
  },
  {
   "cell_type": "code",
   "execution_count": 18,
   "id": "91f20042",
   "metadata": {},
   "outputs": [
    {
     "data": {
      "text/plain": [
       "<matplotlib.legend.Legend at 0x237c3d5d270>"
      ]
     },
     "execution_count": 18,
     "metadata": {},
     "output_type": "execute_result"
    },
    {
     "data": {
      "image/png": "[encoded data removed]",
      "text/plain": [
       "<Figure size 1000x500 with 1 Axes>"
      ]
     },
     "metadata": {},
     "output_type": "display_data"
    }
   ],
   "source": [
    "#Medidas de dispersion: media, mediana, rangos y desviación\n",
    "\n",
    "fig, axes = plt.subplots(nrows = 1,figsize=(10,5))\n",
    "seaborn.histplot(df['age'],bins=25,color='gray')\n",
    "plt.xlim(0,171)\n",
    "\n",
    "axes.axvline(df['age'].mean(),color='red', linestyle = '--',label='Media')\n",
    "\n",
    "axes.axvline(df['age'].median(),color='green', linestyle = '-.',label='Mediana')\n",
    "\n",
    "axes.axvline(df['age'].quantile(0.25),color='blue', linestyle = '-.',label='Q1')\n",
    "\n",
    "axes.axvline(df['age'].quantile(0.75),color='black', linestyle = '-.',label='Q3')\n",
    "\n",
    "\n",
    "axes.legend()\n"
   ]
  },
  {
   "cell_type": "code",
   "execution_count": 19,
   "id": "2e23462f",
   "metadata": {},
   "outputs": [
    {
     "data": {
      "text/plain": [
       "<matplotlib.legend.Legend at 0x237c3e3f040>"
      ]
     },
     "execution_count": 19,
     "metadata": {},
     "output_type": "execute_result"
    },
    {
     "data": {
      "image/png": "[encoded data removed]",
      "text/plain": [
       "<Figure size 1000x500 with 1 Axes>"
      ]
     },
     "metadata": {},
     "output_type": "display_data"
    }
   ],
   "source": [
    "#Medidas de dispersion: media, mediana, rangos y desviación\n",
    "\n",
    "fig, axes = plt.subplots(nrows = 1,figsize=(10,5))\n",
    "seaborn.histplot(df['glucose'],bins=25,color='gray')\n",
    "plt.xlim(0,171)\n",
    "\n",
    "axes.axvline(df['glucose'].mean(),color='red', linestyle = '--',label='Media')\n",
    "\n",
    "axes.axvline(df['glucose'].median(),color='green', linestyle = '-.',label='Mediana')\n",
    "\n",
    "axes.axvline(df['glucose'].quantile(0.25),color='blue', linestyle = '-.',label='Q1')\n",
    "\n",
    "axes.axvline(df['glucose'].quantile(0.75),color='black', linestyle = '-.',label='Q3')\n",
    "\n",
    "\n",
    "axes.legend()\n"
   ]
  },
  {
   "cell_type": "code",
   "execution_count": 20,
   "id": "ac523685",
   "metadata": {},
   "outputs": [],
   "source": [
    "#las variables BMI y age tienen media y mediana muy parecidas indicando una distribución simetrica. La media y mediana de glucosa \n",
    "#están más separadas en comparación, sin embargo siguen estando en medio de los cuartiles 1 y3.\n",
    "\n",
    "#En cuanto a dispersión se podría sugerir que glucosa tiene mayor dispersión debido a la distancia entre el dato menor y el dato \n",
    "#mayor, en comparación con BMI y age. \n",
    "\n",
    "#también se puede ver que BMI tiene algunos outlier."
   ]
  },
  {
   "cell_type": "code",
   "execution_count": 21,
   "id": "d18af6d0",
   "metadata": {},
   "outputs": [
    {
     "data": {
      "text/plain": [
       "<matplotlib.lines.Line2D at 0x237c3eeb2b0>"
      ]
     },
     "execution_count": 21,
     "metadata": {},
     "output_type": "execute_result"
    },
    {
     "data": {
      "image/png": "[encoded data removed]",
      "text/plain": [
       "<Figure size 1000x500 with 1 Axes>"
      ]
     },
     "metadata": {},
     "output_type": "display_data"
    }
   ],
   "source": [
    "fig, axes = plt.subplots(nrows = 1,figsize=(10,5))\n",
    "seaborn.boxplot(df['BMI'],color='blue',orient='h')\n",
    "plt.xlim(0,171)\n",
    "axes.axvline(df['BMI'].mean(),color='orangered', linestyle = '--',label='Media')"
   ]
  },
  {
   "cell_type": "code",
   "execution_count": 22,
   "id": "f649928e",
   "metadata": {},
   "outputs": [],
   "source": [
    "#Estos datos pueden afectar los resultados, ya que tienen gran impacto sobre los resultados de los análisis estadísticos \n",
    "#al afectar medidas sensibles a los valores extremos, como la media y la desviación estándar. Además, pueden introducir sesgo \n",
    "#en la distribución de los datos, rompiendo las suposiciones de normalidad en las que se basan muchos modelos estadísticos como \n",
    "#la regresión lineal o los test de hipótesis. También pueden afectar al rendimiento de los modelos de machine learning."
   ]
  },
  {
   "cell_type": "raw",
   "id": "adf4ece8",
   "metadata": {},
   "source": [
    "3. Elimina los datos atípicos del dataset. Para las siguientes preguntas, considera el\n",
    "dataset \"limpio\""
   ]
  },
  {
   "cell_type": "code",
   "execution_count": 23,
   "id": "28d66a63",
   "metadata": {},
   "outputs": [],
   "source": [
    "#Se verificaran las variables cuantitativas (totChol\tsysBP\tdiaBP\tBMI\theartRate) para observar outlier"
   ]
  },
  {
   "cell_type": "code",
   "execution_count": 24,
   "id": "920c3820",
   "metadata": {},
   "outputs": [
    {
     "data": {
      "text/plain": [
       "<matplotlib.lines.Line2D at 0x237c3ebccd0>"
      ]
     },
     "execution_count": 24,
     "metadata": {},
     "output_type": "execute_result"
    },
    {
     "data": {
      "image/png": "[encoded data removed]",
      "text/plain": [
       "<Figure size 500x500 with 1 Axes>"
      ]
     },
     "metadata": {},
     "output_type": "display_data"
    }
   ],
   "source": [
    "fig, axes = plt.subplots(nrows = 1,figsize=(5,5))\n",
    "seaborn.boxplot(df['totChol'],color='blue',orient='h')\n",
    "plt.xlim(0,600)\n",
    "axes.axvline(df['totChol'].mean(),color='orangered', linestyle = '--',label='Media')"
   ]
  },
  {
   "cell_type": "code",
   "execution_count": 25,
   "id": "b00230b3",
   "metadata": {},
   "outputs": [
    {
     "data": {
      "text/plain": [
       "<matplotlib.lines.Line2D at 0x237c4135720>"
      ]
     },
     "execution_count": 25,
     "metadata": {},
     "output_type": "execute_result"
    },
    {
     "data": {
      "image/png": "[encoded data removed]",
      "text/plain": [
       "<Figure size 500x500 with 1 Axes>"
      ]
     },
     "metadata": {},
     "output_type": "display_data"
    }
   ],
   "source": [
    "fig, axes = plt.subplots(nrows = 1,figsize=(5,5))\n",
    "seaborn.boxplot(df['sysBP'],color='blue',orient='h')\n",
    "plt.xlim(0,300)\n",
    "axes.axvline(df['sysBP'].mean(),color='orangered', linestyle = '--',label='Media')"
   ]
  },
  {
   "cell_type": "code",
   "execution_count": 26,
   "id": "e8b21866",
   "metadata": {},
   "outputs": [
    {
     "data": {
      "text/plain": [
       "<matplotlib.lines.Line2D at 0x237c3e3e440>"
      ]
     },
     "execution_count": 26,
     "metadata": {},
     "output_type": "execute_result"
    },
    {
     "data": {
      "image/png": "[encoded data removed]",
      "text/plain": [
       "<Figure size 500x500 with 1 Axes>"
      ]
     },
     "metadata": {},
     "output_type": "display_data"
    }
   ],
   "source": [
    "fig, axes = plt.subplots(nrows = 1,figsize=(5,5))\n",
    "seaborn.boxplot(df['diaBP'],color='blue',orient='h')\n",
    "plt.xlim(0,171)\n",
    "axes.axvline(df['diaBP'].mean(),color='orangered', linestyle = '--',label='Media')"
   ]
  },
  {
   "cell_type": "code",
   "execution_count": 27,
   "id": "4118318a",
   "metadata": {},
   "outputs": [
    {
     "data": {
      "text/plain": [
       "<matplotlib.lines.Line2D at 0x237c3f33b50>"
      ]
     },
     "execution_count": 27,
     "metadata": {},
     "output_type": "execute_result"
    },
    {
     "data": {
      "image/png": "[encoded data removed]",
      "text/plain": [
       "<Figure size 500x500 with 1 Axes>"
      ]
     },
     "metadata": {},
     "output_type": "display_data"
    }
   ],
   "source": [
    "fig, axes = plt.subplots(nrows = 1,figsize=(5,5))\n",
    "seaborn.boxplot(df['BMI'],color='blue',orient='h')\n",
    "plt.xlim(0,60)\n",
    "axes.axvline(df['BMI'].mean(),color='orangered', linestyle = '--',label='Media')"
   ]
  },
  {
   "cell_type": "code",
   "execution_count": 28,
   "id": "891ad0ee",
   "metadata": {},
   "outputs": [
    {
     "data": {
      "text/plain": [
       "<matplotlib.lines.Line2D at 0x237c466b610>"
      ]
     },
     "execution_count": 28,
     "metadata": {},
     "output_type": "execute_result"
    },
    {
     "data": {
      "image/png": "[encoded data removed]",
      "text/plain": [
       "<Figure size 500x500 with 1 Axes>"
      ]
     },
     "metadata": {},
     "output_type": "display_data"
    }
   ],
   "source": [
    "fig, axes = plt.subplots(nrows = 1,figsize=(5,5))\n",
    "seaborn.boxplot(df['heartRate'],color='blue',orient='h')\n",
    "plt.xlim(0,171)\n",
    "axes.axvline(df['heartRate'].mean(),color='orangered', linestyle = '--',label='Media')"
   ]
  },
  {
   "cell_type": "code",
   "execution_count": 29,
   "id": "70e92098",
   "metadata": {},
   "outputs": [
    {
     "name": "stdout",
     "output_type": "stream",
     "text": [
      "349.125 120.125\n"
     ]
    }
   ],
   "source": [
    "#Se observan outlier en todos los casos anteriores. Para eliminar estos casos se calcularán el rango intercuartil\n",
    "# totChol\tsysBP\tdiaBP\tBMI\theartRate\n",
    "\n",
    "seventy_totChol = df['totChol'].quantile(0.75)\n",
    "twenty_totChol = df['totChol'].quantile(0.25)\n",
    "\n",
    "# Obtain IQR\n",
    "iqr_totChol = seventy_totChol - twenty_totChol\n",
    "\n",
    "# Upper and lower thresholds\n",
    "upper_totChol = seventy_totChol + (1.5 * iqr_totChol)\n",
    "lower_totChol = twenty_totChol - (1.5 * iqr_totChol)\n",
    "print(upper_totChol,lower_totChol)"
   ]
  },
  {
   "cell_type": "code",
   "execution_count": 30,
   "id": "d6f97142",
   "metadata": {},
   "outputs": [
    {
     "data": {
      "text/plain": [
       "count    3610.000000\n",
       "mean      235.159834\n",
       "std        40.926445\n",
       "min       124.000000\n",
       "25%       206.000000\n",
       "50%       233.000000\n",
       "75%       262.000000\n",
       "max       347.000000\n",
       "Name: totChol, dtype: float64"
      ]
     },
     "execution_count": 30,
     "metadata": {},
     "output_type": "execute_result"
    }
   ],
   "source": [
    "df = df.drop(df[df['totChol']>=upper_totChol].index)\n",
    "df = df.drop(df[df['totChol']<=lower_totChol].index)\n",
    "df['totChol'].describe()"
   ]
  },
  {
   "cell_type": "code",
   "execution_count": 31,
   "id": "04416e5a",
   "metadata": {},
   "outputs": [
    {
     "name": "stdout",
     "output_type": "stream",
     "text": [
      "182.9375 77.4375\n"
     ]
    },
    {
     "data": {
      "text/plain": [
       "count    3497.000000\n",
       "mean      130.035173\n",
       "std        18.522272\n",
       "min        83.500000\n",
       "25%       116.000000\n",
       "50%       127.500000\n",
       "75%       141.500000\n",
       "max       182.500000\n",
       "Name: sysBP, dtype: float64"
      ]
     },
     "execution_count": 31,
     "metadata": {},
     "output_type": "execute_result"
    }
   ],
   "source": [
    "seventy_sysBP = df['sysBP'].quantile(0.75)\n",
    "twenty_sysBP = df['sysBP'].quantile(0.25)\n",
    "\n",
    "# Obtain IQR\n",
    "iqr_sysBP = seventy_sysBP - twenty_sysBP\n",
    "\n",
    "# Upper and lower thresholds\n",
    "upper_sysBP = seventy_sysBP + (1.5 * iqr_sysBP)\n",
    "lower_sysBP = twenty_sysBP - (1.5 * iqr_sysBP)\n",
    "print(upper_sysBP,lower_sysBP)\n",
    "\n",
    "\n",
    "df = df.drop(df[df['sysBP']>=upper_sysBP].index)\n",
    "df = df.drop(df[df['sysBP']<=lower_sysBP].index)\n",
    "df['sysBP'].describe()"
   ]
  },
  {
   "cell_type": "code",
   "execution_count": 32,
   "id": "471a3df6",
   "metadata": {},
   "outputs": [
    {
     "name": "stdout",
     "output_type": "stream",
     "text": [
      "111.5 51.5\n"
     ]
    },
    {
     "data": {
      "text/plain": [
       "count    3465.000000\n",
       "mean       81.769841\n",
       "std        10.463855\n",
       "min        52.000000\n",
       "25%        74.000000\n",
       "50%        81.000000\n",
       "75%        88.000000\n",
       "max       111.000000\n",
       "Name: diaBP, dtype: float64"
      ]
     },
     "execution_count": 32,
     "metadata": {},
     "output_type": "execute_result"
    }
   ],
   "source": [
    "seventy_diaBP = df['diaBP'].quantile(0.75)\n",
    "twenty_diaBP = df['diaBP'].quantile(0.25)\n",
    "\n",
    "# Obtain IQR\n",
    "iqr_diaBP = seventy_diaBP - twenty_diaBP\n",
    "\n",
    "# Upper and lower thresholds\n",
    "upper_diaBP = seventy_diaBP + (1.5 * iqr_diaBP)\n",
    "lower_diaBP = twenty_diaBP - (1.5 * iqr_diaBP)\n",
    "print(upper_diaBP,lower_diaBP)\n",
    "\n",
    "\n",
    "df = df.drop(df[df['diaBP']>=upper_diaBP].index)\n",
    "df = df.drop(df[df['diaBP']<=lower_diaBP].index)\n",
    "df['diaBP'].describe()"
   ]
  },
  {
   "cell_type": "code",
   "execution_count": 33,
   "id": "f15704cb",
   "metadata": {},
   "outputs": [
    {
     "name": "stdout",
     "output_type": "stream",
     "text": [
      "35.23 15.710000000000003\n"
     ]
    },
    {
     "data": {
      "text/plain": [
       "count    3399.000000\n",
       "mean       25.400853\n",
       "std         3.489013\n",
       "min        15.960000\n",
       "25%        22.925000\n",
       "50%        25.180000\n",
       "75%        27.740000\n",
       "max        35.200000\n",
       "Name: BMI, dtype: float64"
      ]
     },
     "execution_count": 33,
     "metadata": {},
     "output_type": "execute_result"
    }
   ],
   "source": [
    "seventy_BMI = df['BMI'].quantile(0.75)\n",
    "twenty_BMI = df['BMI'].quantile(0.25)\n",
    "\n",
    "# Obtain IQR\n",
    "iqr_BMI = seventy_BMI - twenty_BMI\n",
    "\n",
    "# Upper and lower thresholds\n",
    "upper_BMI = seventy_BMI + (1.5 * iqr_BMI)\n",
    "lower_BMI = twenty_BMI - (1.5 * iqr_BMI)\n",
    "print(upper_BMI,lower_BMI)\n",
    "\n",
    "\n",
    "df = df.drop(df[df['BMI']>=upper_BMI].index)\n",
    "df = df.drop(df[df['BMI']<=lower_BMI].index)\n",
    "df['BMI'].describe()"
   ]
  },
  {
   "cell_type": "code",
   "execution_count": 34,
   "id": "c3dd39dd",
   "metadata": {},
   "outputs": [
    {
     "name": "stdout",
     "output_type": "stream",
     "text": [
      "104.5 44.5\n"
     ]
    },
    {
     "data": {
      "text/plain": [
       "count    3339.000000\n",
       "mean       74.697514\n",
       "std        10.711234\n",
       "min        45.000000\n",
       "25%        67.000000\n",
       "50%        75.000000\n",
       "75%        80.000000\n",
       "max       104.000000\n",
       "Name: heartRate, dtype: float64"
      ]
     },
     "execution_count": 34,
     "metadata": {},
     "output_type": "execute_result"
    }
   ],
   "source": [
    "seventy_heartRate = df['heartRate'].quantile(0.75)\n",
    "twenty_heartRate = df['heartRate'].quantile(0.25)\n",
    "\n",
    "# Obtain IQR\n",
    "iqr_heartRate = seventy_heartRate - twenty_heartRate\n",
    "\n",
    "# Upper and lower thresholds\n",
    "upper_heartRate = seventy_heartRate + (1.5 * iqr_heartRate)\n",
    "lower_heartRate = twenty_heartRate - (1.5 * iqr_heartRate)\n",
    "print(upper_heartRate,lower_heartRate)\n",
    "\n",
    "\n",
    "df = df.drop(df[df['heartRate']>=upper_heartRate].index)\n",
    "df = df.drop(df[df['heartRate']<=lower_heartRate].index)\n",
    "df['heartRate'].describe()"
   ]
  },
  {
   "cell_type": "code",
   "execution_count": 35,
   "id": "48611d00",
   "metadata": {},
   "outputs": [
    {
     "data": {
      "text/html": [
       "<div>\n",
       "<style scoped>\n",
       "    .dataframe tbody tr th:only-of-type {\n",
       "        vertical-align: middle;\n",
       "    }\n",
       "\n",
       "    .dataframe tbody tr th {\n",
       "        vertical-align: top;\n",
       "    }\n",
       "\n",
       "    .dataframe thead th {\n",
       "        text-align: right;\n",
       "    }\n",
       "</style>\n",
       "<table border=\"1\" class=\"dataframe\">\n",
       "  <thead>\n",
       "    <tr style=\"text-align: right;\">\n",
       "      <th></th>\n",
       "      <th>age</th>\n",
       "      <th>education</th>\n",
       "      <th>cigsPerDay</th>\n",
       "      <th>BPMeds</th>\n",
       "      <th>prevalentStroke</th>\n",
       "      <th>prevalentHyp</th>\n",
       "      <th>diabetes</th>\n",
       "      <th>totChol</th>\n",
       "      <th>sysBP</th>\n",
       "      <th>diaBP</th>\n",
       "      <th>BMI</th>\n",
       "      <th>heartRate</th>\n",
       "      <th>glucose</th>\n",
       "      <th>TenYearCHD</th>\n",
       "    </tr>\n",
       "  </thead>\n",
       "  <tbody>\n",
       "    <tr>\n",
       "      <th>count</th>\n",
       "      <td>3339.000000</td>\n",
       "      <td>3339.000000</td>\n",
       "      <td>3339.000000</td>\n",
       "      <td>3339.000000</td>\n",
       "      <td>3339.000000</td>\n",
       "      <td>3339.000000</td>\n",
       "      <td>3339.000000</td>\n",
       "      <td>3339.000000</td>\n",
       "      <td>3339.000000</td>\n",
       "      <td>3339.000000</td>\n",
       "      <td>3339.000000</td>\n",
       "      <td>3339.000000</td>\n",
       "      <td>3339.000000</td>\n",
       "      <td>3339.000000</td>\n",
       "    </tr>\n",
       "    <tr>\n",
       "      <th>mean</th>\n",
       "      <td>49.159329</td>\n",
       "      <td>2.006888</td>\n",
       "      <td>9.243187</td>\n",
       "      <td>0.020066</td>\n",
       "      <td>0.005391</td>\n",
       "      <td>0.269841</td>\n",
       "      <td>0.022761</td>\n",
       "      <td>234.524109</td>\n",
       "      <td>129.225666</td>\n",
       "      <td>81.526355</td>\n",
       "      <td>25.400773</td>\n",
       "      <td>74.697514</td>\n",
       "      <td>81.169212</td>\n",
       "      <td>0.138065</td>\n",
       "    </tr>\n",
       "    <tr>\n",
       "      <th>std</th>\n",
       "      <td>8.475200</td>\n",
       "      <td>1.027897</td>\n",
       "      <td>12.032940</td>\n",
       "      <td>0.140247</td>\n",
       "      <td>0.073235</td>\n",
       "      <td>0.443944</td>\n",
       "      <td>0.149164</td>\n",
       "      <td>40.461740</td>\n",
       "      <td>17.963949</td>\n",
       "      <td>10.378367</td>\n",
       "      <td>3.475324</td>\n",
       "      <td>10.711234</td>\n",
       "      <td>21.947438</td>\n",
       "      <td>0.345020</td>\n",
       "    </tr>\n",
       "    <tr>\n",
       "      <th>min</th>\n",
       "      <td>32.000000</td>\n",
       "      <td>1.000000</td>\n",
       "      <td>0.000000</td>\n",
       "      <td>0.000000</td>\n",
       "      <td>0.000000</td>\n",
       "      <td>0.000000</td>\n",
       "      <td>0.000000</td>\n",
       "      <td>124.000000</td>\n",
       "      <td>83.500000</td>\n",
       "      <td>52.000000</td>\n",
       "      <td>15.960000</td>\n",
       "      <td>45.000000</td>\n",
       "      <td>40.000000</td>\n",
       "      <td>0.000000</td>\n",
       "    </tr>\n",
       "    <tr>\n",
       "      <th>25%</th>\n",
       "      <td>42.000000</td>\n",
       "      <td>1.000000</td>\n",
       "      <td>0.000000</td>\n",
       "      <td>0.000000</td>\n",
       "      <td>0.000000</td>\n",
       "      <td>0.000000</td>\n",
       "      <td>0.000000</td>\n",
       "      <td>205.000000</td>\n",
       "      <td>116.000000</td>\n",
       "      <td>74.000000</td>\n",
       "      <td>22.930000</td>\n",
       "      <td>67.000000</td>\n",
       "      <td>71.000000</td>\n",
       "      <td>0.000000</td>\n",
       "    </tr>\n",
       "    <tr>\n",
       "      <th>50%</th>\n",
       "      <td>48.000000</td>\n",
       "      <td>2.000000</td>\n",
       "      <td>0.000000</td>\n",
       "      <td>0.000000</td>\n",
       "      <td>0.000000</td>\n",
       "      <td>0.000000</td>\n",
       "      <td>0.000000</td>\n",
       "      <td>232.000000</td>\n",
       "      <td>127.000000</td>\n",
       "      <td>81.000000</td>\n",
       "      <td>25.170000</td>\n",
       "      <td>75.000000</td>\n",
       "      <td>78.000000</td>\n",
       "      <td>0.000000</td>\n",
       "    </tr>\n",
       "    <tr>\n",
       "      <th>75%</th>\n",
       "      <td>56.000000</td>\n",
       "      <td>3.000000</td>\n",
       "      <td>20.000000</td>\n",
       "      <td>0.000000</td>\n",
       "      <td>0.000000</td>\n",
       "      <td>1.000000</td>\n",
       "      <td>0.000000</td>\n",
       "      <td>261.000000</td>\n",
       "      <td>140.000000</td>\n",
       "      <td>88.000000</td>\n",
       "      <td>27.730000</td>\n",
       "      <td>80.000000</td>\n",
       "      <td>86.000000</td>\n",
       "      <td>0.000000</td>\n",
       "    </tr>\n",
       "    <tr>\n",
       "      <th>max</th>\n",
       "      <td>70.000000</td>\n",
       "      <td>4.000000</td>\n",
       "      <td>70.000000</td>\n",
       "      <td>1.000000</td>\n",
       "      <td>1.000000</td>\n",
       "      <td>1.000000</td>\n",
       "      <td>1.000000</td>\n",
       "      <td>347.000000</td>\n",
       "      <td>182.500000</td>\n",
       "      <td>111.000000</td>\n",
       "      <td>35.200000</td>\n",
       "      <td>104.000000</td>\n",
       "      <td>394.000000</td>\n",
       "      <td>1.000000</td>\n",
       "    </tr>\n",
       "  </tbody>\n",
       "</table>\n",
       "</div>"
      ],
      "text/plain": [
       "               age    education   cigsPerDay       BPMeds  prevalentStroke  \\\n",
       "count  3339.000000  3339.000000  3339.000000  3339.000000      3339.000000   \n",
       "mean     49.159329     2.006888     9.243187     0.020066         0.005391   \n",
       "std       8.475200     1.027897    12.032940     0.140247         0.073235   \n",
       "min      32.000000     1.000000     0.000000     0.000000         0.000000   \n",
       "25%      42.000000     1.000000     0.000000     0.000000         0.000000   \n",
       "50%      48.000000     2.000000     0.000000     0.000000         0.000000   \n",
       "75%      56.000000     3.000000    20.000000     0.000000         0.000000   \n",
       "max      70.000000     4.000000    70.000000     1.000000         1.000000   \n",
       "\n",
       "       prevalentHyp     diabetes      totChol        sysBP        diaBP  \\\n",
       "count   3339.000000  3339.000000  3339.000000  3339.000000  3339.000000   \n",
       "mean       0.269841     0.022761   234.524109   129.225666    81.526355   \n",
       "std        0.443944     0.149164    40.461740    17.963949    10.378367   \n",
       "min        0.000000     0.000000   124.000000    83.500000    52.000000   \n",
       "25%        0.000000     0.000000   205.000000   116.000000    74.000000   \n",
       "50%        0.000000     0.000000   232.000000   127.000000    81.000000   \n",
       "75%        1.000000     0.000000   261.000000   140.000000    88.000000   \n",
       "max        1.000000     1.000000   347.000000   182.500000   111.000000   \n",
       "\n",
       "               BMI    heartRate      glucose   TenYearCHD  \n",
       "count  3339.000000  3339.000000  3339.000000  3339.000000  \n",
       "mean     25.400773    74.697514    81.169212     0.138065  \n",
       "std       3.475324    10.711234    21.947438     0.345020  \n",
       "min      15.960000    45.000000    40.000000     0.000000  \n",
       "25%      22.930000    67.000000    71.000000     0.000000  \n",
       "50%      25.170000    75.000000    78.000000     0.000000  \n",
       "75%      27.730000    80.000000    86.000000     0.000000  \n",
       "max      35.200000   104.000000   394.000000     1.000000  "
      ]
     },
     "execution_count": 35,
     "metadata": {},
     "output_type": "execute_result"
    }
   ],
   "source": [
    "df.describe()"
   ]
  },
  {
   "cell_type": "raw",
   "id": "1923232f",
   "metadata": {},
   "source": [
    "4. ¿Qué variables cuantitativas presentan mayor correlación? Explica."
   ]
  },
  {
   "cell_type": "code",
   "execution_count": 36,
   "id": "47957cbd",
   "metadata": {},
   "outputs": [
    {
     "data": {
      "text/html": [
       "<div>\n",
       "<style scoped>\n",
       "    .dataframe tbody tr th:only-of-type {\n",
       "        vertical-align: middle;\n",
       "    }\n",
       "\n",
       "    .dataframe tbody tr th {\n",
       "        vertical-align: top;\n",
       "    }\n",
       "\n",
       "    .dataframe thead th {\n",
       "        text-align: right;\n",
       "    }\n",
       "</style>\n",
       "<table border=\"1\" class=\"dataframe\">\n",
       "  <thead>\n",
       "    <tr style=\"text-align: right;\">\n",
       "      <th></th>\n",
       "      <th>totChol</th>\n",
       "      <th>sysBP</th>\n",
       "      <th>diaBP</th>\n",
       "      <th>BMI</th>\n",
       "      <th>heartRate</th>\n",
       "      <th>cigsPerDay</th>\n",
       "      <th>age</th>\n",
       "    </tr>\n",
       "  </thead>\n",
       "  <tbody>\n",
       "    <tr>\n",
       "      <th>0</th>\n",
       "      <td>195.0</td>\n",
       "      <td>106.0</td>\n",
       "      <td>70.0</td>\n",
       "      <td>26.97</td>\n",
       "      <td>80.0</td>\n",
       "      <td>0.0</td>\n",
       "      <td>39</td>\n",
       "    </tr>\n",
       "    <tr>\n",
       "      <th>1</th>\n",
       "      <td>250.0</td>\n",
       "      <td>121.0</td>\n",
       "      <td>81.0</td>\n",
       "      <td>28.73</td>\n",
       "      <td>95.0</td>\n",
       "      <td>0.0</td>\n",
       "      <td>46</td>\n",
       "    </tr>\n",
       "    <tr>\n",
       "      <th>2</th>\n",
       "      <td>245.0</td>\n",
       "      <td>127.5</td>\n",
       "      <td>80.0</td>\n",
       "      <td>25.34</td>\n",
       "      <td>75.0</td>\n",
       "      <td>20.0</td>\n",
       "      <td>48</td>\n",
       "    </tr>\n",
       "    <tr>\n",
       "      <th>3</th>\n",
       "      <td>225.0</td>\n",
       "      <td>150.0</td>\n",
       "      <td>95.0</td>\n",
       "      <td>28.58</td>\n",
       "      <td>65.0</td>\n",
       "      <td>30.0</td>\n",
       "      <td>61</td>\n",
       "    </tr>\n",
       "    <tr>\n",
       "      <th>4</th>\n",
       "      <td>285.0</td>\n",
       "      <td>130.0</td>\n",
       "      <td>84.0</td>\n",
       "      <td>23.10</td>\n",
       "      <td>85.0</td>\n",
       "      <td>23.0</td>\n",
       "      <td>46</td>\n",
       "    </tr>\n",
       "    <tr>\n",
       "      <th>...</th>\n",
       "      <td>...</td>\n",
       "      <td>...</td>\n",
       "      <td>...</td>\n",
       "      <td>...</td>\n",
       "      <td>...</td>\n",
       "      <td>...</td>\n",
       "      <td>...</td>\n",
       "    </tr>\n",
       "    <tr>\n",
       "      <th>4231</th>\n",
       "      <td>187.0</td>\n",
       "      <td>141.0</td>\n",
       "      <td>81.0</td>\n",
       "      <td>24.96</td>\n",
       "      <td>80.0</td>\n",
       "      <td>0.0</td>\n",
       "      <td>58</td>\n",
       "    </tr>\n",
       "    <tr>\n",
       "      <th>4232</th>\n",
       "      <td>176.0</td>\n",
       "      <td>168.0</td>\n",
       "      <td>97.0</td>\n",
       "      <td>23.14</td>\n",
       "      <td>60.0</td>\n",
       "      <td>0.0</td>\n",
       "      <td>68</td>\n",
       "    </tr>\n",
       "    <tr>\n",
       "      <th>4233</th>\n",
       "      <td>313.0</td>\n",
       "      <td>179.0</td>\n",
       "      <td>92.0</td>\n",
       "      <td>25.97</td>\n",
       "      <td>66.0</td>\n",
       "      <td>1.0</td>\n",
       "      <td>50</td>\n",
       "    </tr>\n",
       "    <tr>\n",
       "      <th>4234</th>\n",
       "      <td>207.0</td>\n",
       "      <td>126.5</td>\n",
       "      <td>80.0</td>\n",
       "      <td>19.71</td>\n",
       "      <td>65.0</td>\n",
       "      <td>43.0</td>\n",
       "      <td>51</td>\n",
       "    </tr>\n",
       "    <tr>\n",
       "      <th>4237</th>\n",
       "      <td>269.0</td>\n",
       "      <td>133.5</td>\n",
       "      <td>83.0</td>\n",
       "      <td>21.47</td>\n",
       "      <td>80.0</td>\n",
       "      <td>0.0</td>\n",
       "      <td>52</td>\n",
       "    </tr>\n",
       "  </tbody>\n",
       "</table>\n",
       "<p>3339 rows × 7 columns</p>\n",
       "</div>"
      ],
      "text/plain": [
       "      totChol  sysBP  diaBP    BMI  heartRate  cigsPerDay  age\n",
       "0       195.0  106.0   70.0  26.97       80.0         0.0   39\n",
       "1       250.0  121.0   81.0  28.73       95.0         0.0   46\n",
       "2       245.0  127.5   80.0  25.34       75.0        20.0   48\n",
       "3       225.0  150.0   95.0  28.58       65.0        30.0   61\n",
       "4       285.0  130.0   84.0  23.10       85.0        23.0   46\n",
       "...       ...    ...    ...    ...        ...         ...  ...\n",
       "4231    187.0  141.0   81.0  24.96       80.0         0.0   58\n",
       "4232    176.0  168.0   97.0  23.14       60.0         0.0   68\n",
       "4233    313.0  179.0   92.0  25.97       66.0         1.0   50\n",
       "4234    207.0  126.5   80.0  19.71       65.0        43.0   51\n",
       "4237    269.0  133.5   83.0  21.47       80.0         0.0   52\n",
       "\n",
       "[3339 rows x 7 columns]"
      ]
     },
     "execution_count": 36,
     "metadata": {},
     "output_type": "execute_result"
    }
   ],
   "source": [
    "#se seleccionan variables cuantitativas\n",
    "#totChol\tsysBP\tdiaBP\tBMI\theartRate\n",
    "data=pd.concat ([df['totChol'],df['sysBP'],df['diaBP'],df['BMI'],df['heartRate'],df['cigsPerDay'], df['age']],  axis = 1 )\n",
    "data"
   ]
  },
  {
   "cell_type": "code",
   "execution_count": 37,
   "id": "48a31c00",
   "metadata": {},
   "outputs": [
    {
     "data": {
      "text/plain": [
       "<Axes: >"
      ]
     },
     "execution_count": 37,
     "metadata": {},
     "output_type": "execute_result"
    },
    {
     "data": {
      "image/png": "[encoded data removed]",
      "text/plain": [
       "<Figure size 500x500 with 2 Axes>"
      ]
     },
     "metadata": {},
     "output_type": "display_data"
    }
   ],
   "source": [
    "plt.figure(figsize=(5,5))\n",
    "sns.heatmap(data.corr(), annot=True, cmap=plt.cm.PuBu)"
   ]
  },
  {
   "cell_type": "code",
   "execution_count": 38,
   "id": "70d67384",
   "metadata": {},
   "outputs": [],
   "source": [
    "#Diastole y sistole presenta la mayo correlacion por obvias razones. La segunda correlación es la edad y la sistole.\n",
    "#La tercera es BMI y diastole. En general se puede apreciar que la presión arterial se correlaciona directamente con \n",
    "#el IMC (BMI) como con la edad. "
   ]
  },
  {
   "cell_type": "raw",
   "id": "9838cf0e",
   "metadata": {},
   "source": [
    "5. Si de este dataset se escoge un paciente al azar, ¿cuál es la probabilidad de que sea\n",
    "hombre, si se sabe que pertenece al mayor cuartil de la variable correspondiente al\n",
    "índice de masa corporal?\n"
   ]
  },
  {
   "cell_type": "code",
   "execution_count": 39,
   "id": "dd41ce52",
   "metadata": {},
   "outputs": [
    {
     "data": {
      "text/plain": [
       "count    3339.000000\n",
       "mean       25.400773\n",
       "std         3.475324\n",
       "min        15.960000\n",
       "25%        22.930000\n",
       "50%        25.170000\n",
       "75%        27.730000\n",
       "max        35.200000\n",
       "Name: BMI, dtype: float64"
      ]
     },
     "execution_count": 39,
     "metadata": {},
     "output_type": "execute_result"
    }
   ],
   "source": [
    "df['BMI'].describe()"
   ]
  },
  {
   "cell_type": "code",
   "execution_count": 40,
   "id": "7583a12b",
   "metadata": {},
   "outputs": [],
   "source": [
    "#75% mayor cuartil 27.73\n",
    "\n",
    "df['bmi_75'] = np.where(df['BMI'] >=27.73,1,0)\n",
    "\n",
    "condicion1 = df['sex'] == 'M' #condición 1: ser hombre\n",
    "condicion2 = df['bmi_75'] == 1 #condicion 2: mayor cuartil\n",
    "total=df['sex'].value_counts()['M']+df['sex'].value_counts()['F']\n",
    "#Probabulidad de ser hombre y estar en el mayor cuartil\n",
    "p_hombre_75 = (condicion1 & condicion2).sum()/total\n"
   ]
  },
  {
   "cell_type": "code",
   "execution_count": 41,
   "id": "db95014b",
   "metadata": {},
   "outputs": [
    {
     "name": "stdout",
     "output_type": "stream",
     "text": [
      "probabilidad de que sea hombre dado que sea mayor a q3 es: 0.5432977461447213\n"
     ]
    }
   ],
   "source": [
    "#Probabilidad de ser hombre\n",
    "p_hombre=df['sex'].value_counts()['M']/total\n",
    "#Probabilidad de que sea mayor a q3\n",
    "p_q3=df['bmi_75'].value_counts()[1]/total\n",
    "#print(p_q3)\n",
    "#Probabilidad de que sea hombre dado de que esta en el mayor q\n",
    "p_hombre_dado_75 = p_hombre_75/p_q3\n",
    "print(f'probabilidad de que sea hombre dado que sea mayor a q3 es: {p_hombre_dado_75}')"
   ]
  },
  {
   "cell_type": "code",
   "execution_count": 42,
   "id": "7b2792ef",
   "metadata": {},
   "outputs": [],
   "source": [
    "df = df.drop(columns='bmi_75')"
   ]
  },
  {
   "cell_type": "raw",
   "id": "2e967d33",
   "metadata": {},
   "source": [
    "6. ¿Es razonable afirmar que, para una persona cualquiera (no necesariamente dentro\n",
    "del dataset), su ritmo cardiaco promedio es 75? Explica y justifica.\n"
   ]
  },
  {
   "cell_type": "code",
   "execution_count": 43,
   "id": "bf8e3cc9",
   "metadata": {},
   "outputs": [],
   "source": [
    "#El promedio de la variable ritmo cardiaco es 75.730580 en este dataset. Este data set corresponde una muestra, de una población\n",
    "#con ciertas caracteristicas ( no especificadas). \n",
    "\n",
    "#Con lo anterior en mente, no se puede afirmar que una persona cualquiera tendrá un promedio de 75. En primer lugar no se sabe\n",
    "#si las personas de este data fueron seleccionadas respecto a ciertos parámetros específicos, que es lo más probable, debido\n",
    "#a que se puede ver que ya están en un rango etario. Segundo, si la persona al azar seleccionada pertenece a la población donde\n",
    "#se extrajo la muestra, tampoco se puede afirmar tal cosa. Para lo que sirve la media muestral es para estimar la media \n",
    "#de la población de la que se ha extraído la misma. "
   ]
  },
  {
   "cell_type": "raw",
   "id": "1c09137d",
   "metadata": {},
   "source": [
    "7. Ser hombre, ¿influye en el promedio de cigarrillos consumidos por día, dentro de los\n",
    "pacientes fumadores? Explica.\n"
   ]
  },
  {
   "cell_type": "code",
   "execution_count": 44,
   "id": "ded1ee7d",
   "metadata": {},
   "outputs": [
    {
     "data": {
      "text/plain": [
       "1.0    1349\n",
       "2.0    1021\n",
       "3.0     566\n",
       "4.0     403\n",
       "Name: education, dtype: int64"
      ]
     },
     "execution_count": 44,
     "metadata": {},
     "output_type": "execute_result"
    }
   ],
   "source": [
    "# se binarizan las varariables  categoricas para cumplir con incluir cuantitativas.\n",
    "df['education'].value_counts()"
   ]
  },
  {
   "cell_type": "code",
   "execution_count": 45,
   "id": "5fc0e1ff",
   "metadata": {},
   "outputs": [],
   "source": [
    "df['education_1']= np.where(df['education'] == 1.0, 1,0 ) \n",
    "df['education_2']= np.where(df['education'] == 2.0, 1,0 ) \n",
    "df['education_3']= np.where(df['education'] == 3.0, 1,0 ) "
   ]
  },
  {
   "cell_type": "code",
   "execution_count": 46,
   "id": "2d838606",
   "metadata": {},
   "outputs": [
    {
     "data": {
      "text/plain": [
       "No     1678\n",
       "Yes    1661\n",
       "Name: currentSmoker, dtype: int64"
      ]
     },
     "execution_count": 46,
     "metadata": {},
     "output_type": "execute_result"
    }
   ],
   "source": [
    "df['currentSmoker'].value_counts()"
   ]
  },
  {
   "cell_type": "code",
   "execution_count": 47,
   "id": "3602579e",
   "metadata": {},
   "outputs": [],
   "source": [
    "#se binariza currentSmoker\n",
    "df['si_fuma']= np.where(df['currentSmoker'] == 'Yes', 1,0 ) "
   ]
  },
  {
   "cell_type": "code",
   "execution_count": 48,
   "id": "3a7a7778",
   "metadata": {},
   "outputs": [],
   "source": [
    "#se binariza variable sex\n",
    "df['is_male']= np.where(df['sex'] == 'M', 1,0 ) "
   ]
  },
  {
   "cell_type": "code",
   "execution_count": 49,
   "id": "a56c0383",
   "metadata": {},
   "outputs": [
    {
     "data": {
      "text/html": [
       "<div>\n",
       "<style scoped>\n",
       "    .dataframe tbody tr th:only-of-type {\n",
       "        vertical-align: middle;\n",
       "    }\n",
       "\n",
       "    .dataframe tbody tr th {\n",
       "        vertical-align: top;\n",
       "    }\n",
       "\n",
       "    .dataframe thead th {\n",
       "        text-align: right;\n",
       "    }\n",
       "</style>\n",
       "<table border=\"1\" class=\"dataframe\">\n",
       "  <thead>\n",
       "    <tr style=\"text-align: right;\">\n",
       "      <th></th>\n",
       "      <th>sex</th>\n",
       "      <th>age</th>\n",
       "      <th>education</th>\n",
       "      <th>currentSmoker</th>\n",
       "      <th>cigsPerDay</th>\n",
       "      <th>BPMeds</th>\n",
       "      <th>prevalentStroke</th>\n",
       "      <th>prevalentHyp</th>\n",
       "      <th>diabetes</th>\n",
       "      <th>totChol</th>\n",
       "      <th>...</th>\n",
       "      <th>diaBP</th>\n",
       "      <th>BMI</th>\n",
       "      <th>heartRate</th>\n",
       "      <th>glucose</th>\n",
       "      <th>TenYearCHD</th>\n",
       "      <th>education_1</th>\n",
       "      <th>education_2</th>\n",
       "      <th>education_3</th>\n",
       "      <th>si_fuma</th>\n",
       "      <th>is_male</th>\n",
       "    </tr>\n",
       "  </thead>\n",
       "  <tbody>\n",
       "    <tr>\n",
       "      <th>2</th>\n",
       "      <td>M</td>\n",
       "      <td>48</td>\n",
       "      <td>1.0</td>\n",
       "      <td>Yes</td>\n",
       "      <td>20.0</td>\n",
       "      <td>0.0</td>\n",
       "      <td>0</td>\n",
       "      <td>0</td>\n",
       "      <td>0</td>\n",
       "      <td>245.0</td>\n",
       "      <td>...</td>\n",
       "      <td>80.0</td>\n",
       "      <td>25.34</td>\n",
       "      <td>75.0</td>\n",
       "      <td>70.0</td>\n",
       "      <td>0</td>\n",
       "      <td>1</td>\n",
       "      <td>0</td>\n",
       "      <td>0</td>\n",
       "      <td>1</td>\n",
       "      <td>1</td>\n",
       "    </tr>\n",
       "    <tr>\n",
       "      <th>3</th>\n",
       "      <td>F</td>\n",
       "      <td>61</td>\n",
       "      <td>3.0</td>\n",
       "      <td>Yes</td>\n",
       "      <td>30.0</td>\n",
       "      <td>0.0</td>\n",
       "      <td>0</td>\n",
       "      <td>1</td>\n",
       "      <td>0</td>\n",
       "      <td>225.0</td>\n",
       "      <td>...</td>\n",
       "      <td>95.0</td>\n",
       "      <td>28.58</td>\n",
       "      <td>65.0</td>\n",
       "      <td>103.0</td>\n",
       "      <td>1</td>\n",
       "      <td>0</td>\n",
       "      <td>0</td>\n",
       "      <td>1</td>\n",
       "      <td>1</td>\n",
       "      <td>0</td>\n",
       "    </tr>\n",
       "    <tr>\n",
       "      <th>4</th>\n",
       "      <td>F</td>\n",
       "      <td>46</td>\n",
       "      <td>3.0</td>\n",
       "      <td>Yes</td>\n",
       "      <td>23.0</td>\n",
       "      <td>0.0</td>\n",
       "      <td>0</td>\n",
       "      <td>0</td>\n",
       "      <td>0</td>\n",
       "      <td>285.0</td>\n",
       "      <td>...</td>\n",
       "      <td>84.0</td>\n",
       "      <td>23.10</td>\n",
       "      <td>85.0</td>\n",
       "      <td>85.0</td>\n",
       "      <td>0</td>\n",
       "      <td>0</td>\n",
       "      <td>0</td>\n",
       "      <td>1</td>\n",
       "      <td>1</td>\n",
       "      <td>0</td>\n",
       "    </tr>\n",
       "    <tr>\n",
       "      <th>7</th>\n",
       "      <td>F</td>\n",
       "      <td>45</td>\n",
       "      <td>2.0</td>\n",
       "      <td>Yes</td>\n",
       "      <td>20.0</td>\n",
       "      <td>0.0</td>\n",
       "      <td>0</td>\n",
       "      <td>0</td>\n",
       "      <td>0</td>\n",
       "      <td>313.0</td>\n",
       "      <td>...</td>\n",
       "      <td>71.0</td>\n",
       "      <td>21.68</td>\n",
       "      <td>79.0</td>\n",
       "      <td>78.0</td>\n",
       "      <td>0</td>\n",
       "      <td>0</td>\n",
       "      <td>1</td>\n",
       "      <td>0</td>\n",
       "      <td>1</td>\n",
       "      <td>0</td>\n",
       "    </tr>\n",
       "    <tr>\n",
       "      <th>9</th>\n",
       "      <td>M</td>\n",
       "      <td>43</td>\n",
       "      <td>1.0</td>\n",
       "      <td>Yes</td>\n",
       "      <td>30.0</td>\n",
       "      <td>0.0</td>\n",
       "      <td>0</td>\n",
       "      <td>1</td>\n",
       "      <td>0</td>\n",
       "      <td>225.0</td>\n",
       "      <td>...</td>\n",
       "      <td>107.0</td>\n",
       "      <td>23.61</td>\n",
       "      <td>93.0</td>\n",
       "      <td>88.0</td>\n",
       "      <td>0</td>\n",
       "      <td>1</td>\n",
       "      <td>0</td>\n",
       "      <td>0</td>\n",
       "      <td>1</td>\n",
       "      <td>1</td>\n",
       "    </tr>\n",
       "    <tr>\n",
       "      <th>...</th>\n",
       "      <td>...</td>\n",
       "      <td>...</td>\n",
       "      <td>...</td>\n",
       "      <td>...</td>\n",
       "      <td>...</td>\n",
       "      <td>...</td>\n",
       "      <td>...</td>\n",
       "      <td>...</td>\n",
       "      <td>...</td>\n",
       "      <td>...</td>\n",
       "      <td>...</td>\n",
       "      <td>...</td>\n",
       "      <td>...</td>\n",
       "      <td>...</td>\n",
       "      <td>...</td>\n",
       "      <td>...</td>\n",
       "      <td>...</td>\n",
       "      <td>...</td>\n",
       "      <td>...</td>\n",
       "      <td>...</td>\n",
       "      <td>...</td>\n",
       "    </tr>\n",
       "    <tr>\n",
       "      <th>4224</th>\n",
       "      <td>M</td>\n",
       "      <td>47</td>\n",
       "      <td>2.0</td>\n",
       "      <td>Yes</td>\n",
       "      <td>3.0</td>\n",
       "      <td>0.0</td>\n",
       "      <td>0</td>\n",
       "      <td>0</td>\n",
       "      <td>0</td>\n",
       "      <td>198.0</td>\n",
       "      <td>...</td>\n",
       "      <td>80.0</td>\n",
       "      <td>25.23</td>\n",
       "      <td>75.0</td>\n",
       "      <td>76.0</td>\n",
       "      <td>0</td>\n",
       "      <td>0</td>\n",
       "      <td>1</td>\n",
       "      <td>0</td>\n",
       "      <td>1</td>\n",
       "      <td>1</td>\n",
       "    </tr>\n",
       "    <tr>\n",
       "      <th>4225</th>\n",
       "      <td>M</td>\n",
       "      <td>45</td>\n",
       "      <td>4.0</td>\n",
       "      <td>Yes</td>\n",
       "      <td>43.0</td>\n",
       "      <td>0.0</td>\n",
       "      <td>0</td>\n",
       "      <td>0</td>\n",
       "      <td>0</td>\n",
       "      <td>216.0</td>\n",
       "      <td>...</td>\n",
       "      <td>85.0</td>\n",
       "      <td>24.24</td>\n",
       "      <td>83.0</td>\n",
       "      <td>105.0</td>\n",
       "      <td>0</td>\n",
       "      <td>0</td>\n",
       "      <td>0</td>\n",
       "      <td>0</td>\n",
       "      <td>1</td>\n",
       "      <td>1</td>\n",
       "    </tr>\n",
       "    <tr>\n",
       "      <th>4227</th>\n",
       "      <td>M</td>\n",
       "      <td>43</td>\n",
       "      <td>4.0</td>\n",
       "      <td>Yes</td>\n",
       "      <td>20.0</td>\n",
       "      <td>0.0</td>\n",
       "      <td>0</td>\n",
       "      <td>0</td>\n",
       "      <td>0</td>\n",
       "      <td>187.0</td>\n",
       "      <td>...</td>\n",
       "      <td>88.0</td>\n",
       "      <td>25.62</td>\n",
       "      <td>80.0</td>\n",
       "      <td>75.0</td>\n",
       "      <td>0</td>\n",
       "      <td>0</td>\n",
       "      <td>0</td>\n",
       "      <td>0</td>\n",
       "      <td>1</td>\n",
       "      <td>1</td>\n",
       "    </tr>\n",
       "    <tr>\n",
       "      <th>4233</th>\n",
       "      <td>M</td>\n",
       "      <td>50</td>\n",
       "      <td>1.0</td>\n",
       "      <td>Yes</td>\n",
       "      <td>1.0</td>\n",
       "      <td>0.0</td>\n",
       "      <td>0</td>\n",
       "      <td>1</td>\n",
       "      <td>0</td>\n",
       "      <td>313.0</td>\n",
       "      <td>...</td>\n",
       "      <td>92.0</td>\n",
       "      <td>25.97</td>\n",
       "      <td>66.0</td>\n",
       "      <td>86.0</td>\n",
       "      <td>1</td>\n",
       "      <td>1</td>\n",
       "      <td>0</td>\n",
       "      <td>0</td>\n",
       "      <td>1</td>\n",
       "      <td>1</td>\n",
       "    </tr>\n",
       "    <tr>\n",
       "      <th>4234</th>\n",
       "      <td>M</td>\n",
       "      <td>51</td>\n",
       "      <td>3.0</td>\n",
       "      <td>Yes</td>\n",
       "      <td>43.0</td>\n",
       "      <td>0.0</td>\n",
       "      <td>0</td>\n",
       "      <td>0</td>\n",
       "      <td>0</td>\n",
       "      <td>207.0</td>\n",
       "      <td>...</td>\n",
       "      <td>80.0</td>\n",
       "      <td>19.71</td>\n",
       "      <td>65.0</td>\n",
       "      <td>68.0</td>\n",
       "      <td>0</td>\n",
       "      <td>0</td>\n",
       "      <td>0</td>\n",
       "      <td>1</td>\n",
       "      <td>1</td>\n",
       "      <td>1</td>\n",
       "    </tr>\n",
       "  </tbody>\n",
       "</table>\n",
       "<p>1661 rows × 21 columns</p>\n",
       "</div>"
      ],
      "text/plain": [
       "     sex  age  education currentSmoker  cigsPerDay  BPMeds  prevalentStroke  \\\n",
       "2      M   48        1.0           Yes        20.0     0.0                0   \n",
       "3      F   61        3.0           Yes        30.0     0.0                0   \n",
       "4      F   46        3.0           Yes        23.0     0.0                0   \n",
       "7      F   45        2.0           Yes        20.0     0.0                0   \n",
       "9      M   43        1.0           Yes        30.0     0.0                0   \n",
       "...   ..  ...        ...           ...         ...     ...              ...   \n",
       "4224   M   47        2.0           Yes         3.0     0.0                0   \n",
       "4225   M   45        4.0           Yes        43.0     0.0                0   \n",
       "4227   M   43        4.0           Yes        20.0     0.0                0   \n",
       "4233   M   50        1.0           Yes         1.0     0.0                0   \n",
       "4234   M   51        3.0           Yes        43.0     0.0                0   \n",
       "\n",
       "      prevalentHyp  diabetes  totChol  ...  diaBP    BMI  heartRate  glucose  \\\n",
       "2                0         0    245.0  ...   80.0  25.34       75.0     70.0   \n",
       "3                1         0    225.0  ...   95.0  28.58       65.0    103.0   \n",
       "4                0         0    285.0  ...   84.0  23.10       85.0     85.0   \n",
       "7                0         0    313.0  ...   71.0  21.68       79.0     78.0   \n",
       "9                1         0    225.0  ...  107.0  23.61       93.0     88.0   \n",
       "...            ...       ...      ...  ...    ...    ...        ...      ...   \n",
       "4224             0         0    198.0  ...   80.0  25.23       75.0     76.0   \n",
       "4225             0         0    216.0  ...   85.0  24.24       83.0    105.0   \n",
       "4227             0         0    187.0  ...   88.0  25.62       80.0     75.0   \n",
       "4233             1         0    313.0  ...   92.0  25.97       66.0     86.0   \n",
       "4234             0         0    207.0  ...   80.0  19.71       65.0     68.0   \n",
       "\n",
       "      TenYearCHD  education_1  education_2  education_3  si_fuma  is_male  \n",
       "2              0            1            0            0        1        1  \n",
       "3              1            0            0            1        1        0  \n",
       "4              0            0            0            1        1        0  \n",
       "7              0            0            1            0        1        0  \n",
       "9              0            1            0            0        1        1  \n",
       "...          ...          ...          ...          ...      ...      ...  \n",
       "4224           0            0            1            0        1        1  \n",
       "4225           0            0            0            0        1        1  \n",
       "4227           0            0            0            0        1        1  \n",
       "4233           1            1            0            0        1        1  \n",
       "4234           0            0            0            1        1        1  \n",
       "\n",
       "[1661 rows x 21 columns]"
      ]
     },
     "execution_count": 49,
     "metadata": {},
     "output_type": "execute_result"
    }
   ],
   "source": [
    "#Ahora se crea una base con solo los datos fumadores\n",
    "fumadores= df.drop(df[df['currentSmoker']== 'No'].index)  # total de fumadores\n",
    "fumadores\n",
    "\n"
   ]
  },
  {
   "cell_type": "code",
   "execution_count": 50,
   "id": "8305de3c",
   "metadata": {},
   "outputs": [
    {
     "data": {
      "text/plain": [
       "count    927.000000\n",
       "mean      22.339806\n",
       "std       10.957899\n",
       "min        1.000000\n",
       "25%       18.000000\n",
       "50%       20.000000\n",
       "75%       30.000000\n",
       "max       70.000000\n",
       "Name: cigsPerDay, dtype: float64"
      ]
     },
     "execution_count": 50,
     "metadata": {},
     "output_type": "execute_result"
    }
   ],
   "source": [
    "#Podemos comparar el promedio de consumo de cigarros  de hombres y mujeres en la base fumadores, donde probablemente exista una diferencia \n",
    "#numérica\n",
    "\n",
    "fumadores_h= fumadores.drop(fumadores[fumadores['is_male']==0].index) \n",
    "fumadores_h['cigsPerDay'].describe()\n",
    "\n"
   ]
  },
  {
   "cell_type": "code",
   "execution_count": 51,
   "id": "fcade2af",
   "metadata": {},
   "outputs": [
    {
     "data": {
      "text/plain": [
       "count    734.000000\n",
       "mean      13.833787\n",
       "std        8.606426\n",
       "min        1.000000\n",
       "25%        6.000000\n",
       "50%       15.000000\n",
       "75%       20.000000\n",
       "max       43.000000\n",
       "Name: cigsPerDay, dtype: float64"
      ]
     },
     "execution_count": 51,
     "metadata": {},
     "output_type": "execute_result"
    }
   ],
   "source": [
    "fumadores_f= fumadores.drop(fumadores[fumadores['is_male']==1].index) \n",
    "fumadores_f['cigsPerDay'].describe()"
   ]
  },
  {
   "cell_type": "code",
   "execution_count": 52,
   "id": "3f2bb318",
   "metadata": {},
   "outputs": [],
   "source": [
    "#Efectivamente existe una diferencia (22.33 M, 13.83F), pero esto no es suficiente para inferir si la variable sex\n",
    "#tiene algún efecto en la variable cigsPerDay. Para determinar esto se debe hacer un test de hipótesis. "
   ]
  },
  {
   "cell_type": "code",
   "execution_count": 53,
   "id": "e7909c83",
   "metadata": {},
   "outputs": [],
   "source": [
    "def hipotesis(df, variable,  binarize):\n",
    "    \"\"\" Esta es una prueba para la hipótesis nula de que 2 muestras independientes tienen valores promedio (esperados) idénticos.\n",
    "    Esta prueba asume que las poblaciones tienen varianzas idénticas por defecto..\"\"\"\n",
    "    from scipy.stats import norm, ttest_ind\n",
    "    #borro na de variable\n",
    "    df=df.dropna(subset=[variable])\n",
    "    a=[]\n",
    "    b=[]\n",
    "    #separo variable segun binarize\n",
    "    for i in df.index:\n",
    "        if df[binarize][i]==1:\n",
    "            a.append(df[variable][i])\n",
    "        elif df[binarize][i]==0:\n",
    "            b.append(df[variable][i])\n",
    "    a_arr = pd.array(data=a,dtype=float) \n",
    "    b_arr = pd.array(data=b,dtype=float) \n",
    "#print(a)\n",
    "#print(b)\n",
    "   #obtengo valores valor t y pval con  ttest_ind\n",
    "    val=ttest_ind(a_arr,b_arr)\n",
    "    #print(val)\n",
    "    t=val[0]\n",
    "    pval=val[1]\n",
    "    print(f\"La media de {variable} cuando {binarize} = 1 es:  {np.mean(a_arr)}\")\n",
    "    print(f\"La media de {variable} cuando {binarize} = 0 es:  {np.mean(b_arr)}\")\n",
    "    print(f\"La diferencia entre medias es {abs(np.mean(a_arr)- np.mean(b_arr))}\")\n",
    "    print(f\"T estadistico es =  {t} P valores es =  {pval}\")\n",
    "    print(\"                                          \")"
   ]
  },
  {
   "cell_type": "code",
   "execution_count": 54,
   "id": "3c00529d",
   "metadata": {},
   "outputs": [
    {
     "name": "stdout",
     "output_type": "stream",
     "text": [
      "La media de cigsPerDay cuando is_male = 1 es:  22.339805825242717\n",
      "La media de cigsPerDay cuando is_male = 0 es:  13.833787465940054\n",
      "La diferencia entre medias es 8.506018359302663\n",
      "T estadistico es =  17.237528620707558 P valores es =  2.2256700611101493e-61\n",
      "                                          \n"
     ]
    }
   ],
   "source": [
    "#La hipótesis nula (H0) sería que no hay diferencia significativa en el número se cigarros cosnumidos entre hombres y mujeres, y\n",
    "#la hipótesis alternativa (H1) es que sí hay una diferencia significativa\n",
    "\n",
    "\n",
    "hipotesis(fumadores,'cigsPerDay', 'is_male')"
   ]
  },
  {
   "cell_type": "code",
   "execution_count": 55,
   "id": "23ce9163",
   "metadata": {},
   "outputs": [],
   "source": [
    "#se muestra que el p valor es significante, se rechaza ho, si hay diferencia en el consumo y por lo tanto en el promedio de \n",
    "#cigsPerDay"
   ]
  },
  {
   "cell_type": "raw",
   "id": "2b96ff81",
   "metadata": {},
   "source": [
    "8. Construye un modelo de regresión lineal que permita relacionar 6 variables del\n",
    "dataset con el índice de masa corporal. (Debes incluir al menos dos variables\n",
    "cualitativas). Evalúa tu modelo y explica.\n"
   ]
  },
  {
   "cell_type": "code",
   "execution_count": 56,
   "id": "05d0ffeb",
   "metadata": {},
   "outputs": [
    {
     "data": {
      "text/html": [
       "<div>\n",
       "<style scoped>\n",
       "    .dataframe tbody tr th:only-of-type {\n",
       "        vertical-align: middle;\n",
       "    }\n",
       "\n",
       "    .dataframe tbody tr th {\n",
       "        vertical-align: top;\n",
       "    }\n",
       "\n",
       "    .dataframe thead th {\n",
       "        text-align: right;\n",
       "    }\n",
       "</style>\n",
       "<table border=\"1\" class=\"dataframe\">\n",
       "  <thead>\n",
       "    <tr style=\"text-align: right;\">\n",
       "      <th></th>\n",
       "      <th>sex</th>\n",
       "      <th>age</th>\n",
       "      <th>education</th>\n",
       "      <th>currentSmoker</th>\n",
       "      <th>cigsPerDay</th>\n",
       "      <th>BPMeds</th>\n",
       "      <th>prevalentStroke</th>\n",
       "      <th>prevalentHyp</th>\n",
       "      <th>diabetes</th>\n",
       "      <th>totChol</th>\n",
       "      <th>...</th>\n",
       "      <th>diaBP</th>\n",
       "      <th>BMI</th>\n",
       "      <th>heartRate</th>\n",
       "      <th>glucose</th>\n",
       "      <th>TenYearCHD</th>\n",
       "      <th>education_1</th>\n",
       "      <th>education_2</th>\n",
       "      <th>education_3</th>\n",
       "      <th>si_fuma</th>\n",
       "      <th>is_male</th>\n",
       "    </tr>\n",
       "  </thead>\n",
       "  <tbody>\n",
       "    <tr>\n",
       "      <th>0</th>\n",
       "      <td>M</td>\n",
       "      <td>39</td>\n",
       "      <td>4.0</td>\n",
       "      <td>No</td>\n",
       "      <td>0.0</td>\n",
       "      <td>0.0</td>\n",
       "      <td>0</td>\n",
       "      <td>0</td>\n",
       "      <td>0</td>\n",
       "      <td>195.0</td>\n",
       "      <td>...</td>\n",
       "      <td>70.0</td>\n",
       "      <td>26.97</td>\n",
       "      <td>80.0</td>\n",
       "      <td>77.0</td>\n",
       "      <td>0</td>\n",
       "      <td>0</td>\n",
       "      <td>0</td>\n",
       "      <td>0</td>\n",
       "      <td>0</td>\n",
       "      <td>1</td>\n",
       "    </tr>\n",
       "    <tr>\n",
       "      <th>1</th>\n",
       "      <td>F</td>\n",
       "      <td>46</td>\n",
       "      <td>2.0</td>\n",
       "      <td>No</td>\n",
       "      <td>0.0</td>\n",
       "      <td>0.0</td>\n",
       "      <td>0</td>\n",
       "      <td>0</td>\n",
       "      <td>0</td>\n",
       "      <td>250.0</td>\n",
       "      <td>...</td>\n",
       "      <td>81.0</td>\n",
       "      <td>28.73</td>\n",
       "      <td>95.0</td>\n",
       "      <td>76.0</td>\n",
       "      <td>0</td>\n",
       "      <td>0</td>\n",
       "      <td>1</td>\n",
       "      <td>0</td>\n",
       "      <td>0</td>\n",
       "      <td>0</td>\n",
       "    </tr>\n",
       "    <tr>\n",
       "      <th>2</th>\n",
       "      <td>M</td>\n",
       "      <td>48</td>\n",
       "      <td>1.0</td>\n",
       "      <td>Yes</td>\n",
       "      <td>20.0</td>\n",
       "      <td>0.0</td>\n",
       "      <td>0</td>\n",
       "      <td>0</td>\n",
       "      <td>0</td>\n",
       "      <td>245.0</td>\n",
       "      <td>...</td>\n",
       "      <td>80.0</td>\n",
       "      <td>25.34</td>\n",
       "      <td>75.0</td>\n",
       "      <td>70.0</td>\n",
       "      <td>0</td>\n",
       "      <td>1</td>\n",
       "      <td>0</td>\n",
       "      <td>0</td>\n",
       "      <td>1</td>\n",
       "      <td>1</td>\n",
       "    </tr>\n",
       "    <tr>\n",
       "      <th>3</th>\n",
       "      <td>F</td>\n",
       "      <td>61</td>\n",
       "      <td>3.0</td>\n",
       "      <td>Yes</td>\n",
       "      <td>30.0</td>\n",
       "      <td>0.0</td>\n",
       "      <td>0</td>\n",
       "      <td>1</td>\n",
       "      <td>0</td>\n",
       "      <td>225.0</td>\n",
       "      <td>...</td>\n",
       "      <td>95.0</td>\n",
       "      <td>28.58</td>\n",
       "      <td>65.0</td>\n",
       "      <td>103.0</td>\n",
       "      <td>1</td>\n",
       "      <td>0</td>\n",
       "      <td>0</td>\n",
       "      <td>1</td>\n",
       "      <td>1</td>\n",
       "      <td>0</td>\n",
       "    </tr>\n",
       "    <tr>\n",
       "      <th>4</th>\n",
       "      <td>F</td>\n",
       "      <td>46</td>\n",
       "      <td>3.0</td>\n",
       "      <td>Yes</td>\n",
       "      <td>23.0</td>\n",
       "      <td>0.0</td>\n",
       "      <td>0</td>\n",
       "      <td>0</td>\n",
       "      <td>0</td>\n",
       "      <td>285.0</td>\n",
       "      <td>...</td>\n",
       "      <td>84.0</td>\n",
       "      <td>23.10</td>\n",
       "      <td>85.0</td>\n",
       "      <td>85.0</td>\n",
       "      <td>0</td>\n",
       "      <td>0</td>\n",
       "      <td>0</td>\n",
       "      <td>1</td>\n",
       "      <td>1</td>\n",
       "      <td>0</td>\n",
       "    </tr>\n",
       "    <tr>\n",
       "      <th>...</th>\n",
       "      <td>...</td>\n",
       "      <td>...</td>\n",
       "      <td>...</td>\n",
       "      <td>...</td>\n",
       "      <td>...</td>\n",
       "      <td>...</td>\n",
       "      <td>...</td>\n",
       "      <td>...</td>\n",
       "      <td>...</td>\n",
       "      <td>...</td>\n",
       "      <td>...</td>\n",
       "      <td>...</td>\n",
       "      <td>...</td>\n",
       "      <td>...</td>\n",
       "      <td>...</td>\n",
       "      <td>...</td>\n",
       "      <td>...</td>\n",
       "      <td>...</td>\n",
       "      <td>...</td>\n",
       "      <td>...</td>\n",
       "      <td>...</td>\n",
       "    </tr>\n",
       "    <tr>\n",
       "      <th>4231</th>\n",
       "      <td>M</td>\n",
       "      <td>58</td>\n",
       "      <td>3.0</td>\n",
       "      <td>No</td>\n",
       "      <td>0.0</td>\n",
       "      <td>0.0</td>\n",
       "      <td>0</td>\n",
       "      <td>1</td>\n",
       "      <td>0</td>\n",
       "      <td>187.0</td>\n",
       "      <td>...</td>\n",
       "      <td>81.0</td>\n",
       "      <td>24.96</td>\n",
       "      <td>80.0</td>\n",
       "      <td>81.0</td>\n",
       "      <td>0</td>\n",
       "      <td>0</td>\n",
       "      <td>0</td>\n",
       "      <td>1</td>\n",
       "      <td>0</td>\n",
       "      <td>1</td>\n",
       "    </tr>\n",
       "    <tr>\n",
       "      <th>4232</th>\n",
       "      <td>M</td>\n",
       "      <td>68</td>\n",
       "      <td>1.0</td>\n",
       "      <td>No</td>\n",
       "      <td>0.0</td>\n",
       "      <td>0.0</td>\n",
       "      <td>0</td>\n",
       "      <td>1</td>\n",
       "      <td>0</td>\n",
       "      <td>176.0</td>\n",
       "      <td>...</td>\n",
       "      <td>97.0</td>\n",
       "      <td>23.14</td>\n",
       "      <td>60.0</td>\n",
       "      <td>79.0</td>\n",
       "      <td>1</td>\n",
       "      <td>1</td>\n",
       "      <td>0</td>\n",
       "      <td>0</td>\n",
       "      <td>0</td>\n",
       "      <td>1</td>\n",
       "    </tr>\n",
       "    <tr>\n",
       "      <th>4233</th>\n",
       "      <td>M</td>\n",
       "      <td>50</td>\n",
       "      <td>1.0</td>\n",
       "      <td>Yes</td>\n",
       "      <td>1.0</td>\n",
       "      <td>0.0</td>\n",
       "      <td>0</td>\n",
       "      <td>1</td>\n",
       "      <td>0</td>\n",
       "      <td>313.0</td>\n",
       "      <td>...</td>\n",
       "      <td>92.0</td>\n",
       "      <td>25.97</td>\n",
       "      <td>66.0</td>\n",
       "      <td>86.0</td>\n",
       "      <td>1</td>\n",
       "      <td>1</td>\n",
       "      <td>0</td>\n",
       "      <td>0</td>\n",
       "      <td>1</td>\n",
       "      <td>1</td>\n",
       "    </tr>\n",
       "    <tr>\n",
       "      <th>4234</th>\n",
       "      <td>M</td>\n",
       "      <td>51</td>\n",
       "      <td>3.0</td>\n",
       "      <td>Yes</td>\n",
       "      <td>43.0</td>\n",
       "      <td>0.0</td>\n",
       "      <td>0</td>\n",
       "      <td>0</td>\n",
       "      <td>0</td>\n",
       "      <td>207.0</td>\n",
       "      <td>...</td>\n",
       "      <td>80.0</td>\n",
       "      <td>19.71</td>\n",
       "      <td>65.0</td>\n",
       "      <td>68.0</td>\n",
       "      <td>0</td>\n",
       "      <td>0</td>\n",
       "      <td>0</td>\n",
       "      <td>1</td>\n",
       "      <td>1</td>\n",
       "      <td>1</td>\n",
       "    </tr>\n",
       "    <tr>\n",
       "      <th>4237</th>\n",
       "      <td>F</td>\n",
       "      <td>52</td>\n",
       "      <td>2.0</td>\n",
       "      <td>No</td>\n",
       "      <td>0.0</td>\n",
       "      <td>0.0</td>\n",
       "      <td>0</td>\n",
       "      <td>0</td>\n",
       "      <td>0</td>\n",
       "      <td>269.0</td>\n",
       "      <td>...</td>\n",
       "      <td>83.0</td>\n",
       "      <td>21.47</td>\n",
       "      <td>80.0</td>\n",
       "      <td>107.0</td>\n",
       "      <td>0</td>\n",
       "      <td>0</td>\n",
       "      <td>1</td>\n",
       "      <td>0</td>\n",
       "      <td>0</td>\n",
       "      <td>0</td>\n",
       "    </tr>\n",
       "  </tbody>\n",
       "</table>\n",
       "<p>3339 rows × 21 columns</p>\n",
       "</div>"
      ],
      "text/plain": [
       "     sex  age  education currentSmoker  cigsPerDay  BPMeds  prevalentStroke  \\\n",
       "0      M   39        4.0            No         0.0     0.0                0   \n",
       "1      F   46        2.0            No         0.0     0.0                0   \n",
       "2      M   48        1.0           Yes        20.0     0.0                0   \n",
       "3      F   61        3.0           Yes        30.0     0.0                0   \n",
       "4      F   46        3.0           Yes        23.0     0.0                0   \n",
       "...   ..  ...        ...           ...         ...     ...              ...   \n",
       "4231   M   58        3.0            No         0.0     0.0                0   \n",
       "4232   M   68        1.0            No         0.0     0.0                0   \n",
       "4233   M   50        1.0           Yes         1.0     0.0                0   \n",
       "4234   M   51        3.0           Yes        43.0     0.0                0   \n",
       "4237   F   52        2.0            No         0.0     0.0                0   \n",
       "\n",
       "      prevalentHyp  diabetes  totChol  ...  diaBP    BMI  heartRate  glucose  \\\n",
       "0                0         0    195.0  ...   70.0  26.97       80.0     77.0   \n",
       "1                0         0    250.0  ...   81.0  28.73       95.0     76.0   \n",
       "2                0         0    245.0  ...   80.0  25.34       75.0     70.0   \n",
       "3                1         0    225.0  ...   95.0  28.58       65.0    103.0   \n",
       "4                0         0    285.0  ...   84.0  23.10       85.0     85.0   \n",
       "...            ...       ...      ...  ...    ...    ...        ...      ...   \n",
       "4231             1         0    187.0  ...   81.0  24.96       80.0     81.0   \n",
       "4232             1         0    176.0  ...   97.0  23.14       60.0     79.0   \n",
       "4233             1         0    313.0  ...   92.0  25.97       66.0     86.0   \n",
       "4234             0         0    207.0  ...   80.0  19.71       65.0     68.0   \n",
       "4237             0         0    269.0  ...   83.0  21.47       80.0    107.0   \n",
       "\n",
       "      TenYearCHD  education_1  education_2  education_3  si_fuma  is_male  \n",
       "0              0            0            0            0        0        1  \n",
       "1              0            0            1            0        0        0  \n",
       "2              0            1            0            0        1        1  \n",
       "3              1            0            0            1        1        0  \n",
       "4              0            0            0            1        1        0  \n",
       "...          ...          ...          ...          ...      ...      ...  \n",
       "4231           0            0            0            1        0        1  \n",
       "4232           1            1            0            0        0        1  \n",
       "4233           1            1            0            0        1        1  \n",
       "4234           0            0            0            1        1        1  \n",
       "4237           0            0            1            0        0        0  \n",
       "\n",
       "[3339 rows x 21 columns]"
      ]
     },
     "execution_count": 56,
     "metadata": {},
     "output_type": "execute_result"
    }
   ],
   "source": [
    "df"
   ]
  },
  {
   "cell_type": "code",
   "execution_count": 57,
   "id": "3364b5c5",
   "metadata": {},
   "outputs": [
    {
     "data": {
      "text/plain": [
       "'age+cigsPerDay+BPMeds+prevalentStroke+prevalentHyp+diabetes+totChol+sysBP+diaBP+heartRate+glucose+TenYearCHD+education_1+education_2+education_3+si_fuma+is_male'"
      ]
     },
     "execution_count": 57,
     "metadata": {},
     "output_type": "execute_result"
    }
   ],
   "source": [
    "columnas3 = list(df.columns)\n",
    "columnas3\n",
    "columnas3.remove('BMI')\n",
    "columnas3.remove('currentSmoker')\n",
    "columnas3.remove('education')\n",
    "columnas3.remove('sex')\n",
    "\n",
    "sum_var = \"+\".join(columnas3)\n",
    "sum_var"
   ]
  },
  {
   "cell_type": "markdown",
   "id": "e08c6a5a",
   "metadata": {},
   "source": [
    "#### Modelo estadístico "
   ]
  },
  {
   "cell_type": "code",
   "execution_count": 58,
   "id": "6e835edb",
   "metadata": {},
   "outputs": [
    {
     "data": {
      "text/html": [
       "<table class=\"simpletable\">\n",
       "<tr>\n",
       "        <td>Model:</td>               <td>OLS</td>         <td>Adj. R-squared:</td>      <td>0.172</td>  \n",
       "</tr>\n",
       "<tr>\n",
       "  <td>Dependent Variable:</td>        <td>BMI</td>              <td>AIC:</td>         <td>17182.6927</td>\n",
       "</tr>\n",
       "<tr>\n",
       "         <td>Date:</td>        <td>2024-03-06 11:13</td>        <td>BIC:</td>         <td>17292.7344</td>\n",
       "</tr>\n",
       "<tr>\n",
       "   <td>No. Observations:</td>        <td>3339</td>         <td>Log-Likelihood:</td>     <td>-8573.3</td> \n",
       "</tr>\n",
       "<tr>\n",
       "       <td>Df Model:</td>             <td>17</td>           <td>F-statistic:</td>        <td>41.75</td>  \n",
       "</tr>\n",
       "<tr>\n",
       "     <td>Df Residuals:</td>          <td>3321</td>       <td>Prob (F-statistic):</td>  <td>4.98e-126</td>\n",
       "</tr>\n",
       "<tr>\n",
       "      <td>R-squared:</td>            <td>0.176</td>            <td>Scale:</td>          <td>10.002</td>  \n",
       "</tr>\n",
       "</table>\n",
       "<table class=\"simpletable\">\n",
       "<tr>\n",
       "         <td></td>          <th>Coef.</th>  <th>Std.Err.</th>    <th>t</th>     <th>P>|t|</th> <th>[0.025</th>  <th>0.975]</th> \n",
       "</tr>\n",
       "<tr>\n",
       "  <th>Intercept</th>       <td>16.1249</td>  <td>0.7792</td>  <td>20.6948</td> <td>0.0000</td> <td>14.5972</td> <td>17.6526</td>\n",
       "</tr>\n",
       "<tr>\n",
       "  <th>age</th>             <td>-0.0041</td>  <td>0.0077</td>  <td>-0.5388</td> <td>0.5901</td> <td>-0.0192</td> <td>0.0109</td> \n",
       "</tr>\n",
       "<tr>\n",
       "  <th>cigsPerDay</th>      <td>0.0095</td>   <td>0.0075</td>  <td>1.2636</td>  <td>0.2065</td> <td>-0.0052</td> <td>0.0242</td> \n",
       "</tr>\n",
       "<tr>\n",
       "  <th>BPMeds</th>          <td>0.3719</td>   <td>0.4049</td>  <td>0.9186</td>  <td>0.3583</td> <td>-0.4219</td> <td>1.1657</td> \n",
       "</tr>\n",
       "<tr>\n",
       "  <th>prevalentStroke</th> <td>-1.0462</td>  <td>0.7529</td>  <td>-1.3895</td> <td>0.1648</td> <td>-2.5224</td> <td>0.4300</td> \n",
       "</tr>\n",
       "<tr>\n",
       "  <th>prevalentHyp</th>    <td>0.5144</td>   <td>0.1744</td>  <td>2.9499</td>  <td>0.0032</td> <td>0.1725</td>  <td>0.8563</td> \n",
       "</tr>\n",
       "<tr>\n",
       "  <th>diabetes</th>        <td>0.2871</td>   <td>0.4542</td>  <td>0.6322</td>  <td>0.5273</td> <td>-0.6034</td> <td>1.1777</td> \n",
       "</tr>\n",
       "<tr>\n",
       "  <th>totChol</th>         <td>0.0074</td>   <td>0.0014</td>  <td>5.1845</td>  <td>0.0000</td> <td>0.0046</td>  <td>0.0103</td> \n",
       "</tr>\n",
       "<tr>\n",
       "  <th>sysBP</th>           <td>-0.0024</td>  <td>0.0056</td>  <td>-0.4229</td> <td>0.6724</td> <td>-0.0133</td> <td>0.0086</td> \n",
       "</tr>\n",
       "<tr>\n",
       "  <th>diaBP</th>           <td>0.0845</td>   <td>0.0085</td>  <td>9.9249</td>  <td>0.0000</td> <td>0.0678</td>  <td>0.1012</td> \n",
       "</tr>\n",
       "<tr>\n",
       "  <th>heartRate</th>       <td>0.0047</td>   <td>0.0053</td>  <td>0.8714</td>  <td>0.3836</td> <td>-0.0058</td> <td>0.0151</td> \n",
       "</tr>\n",
       "<tr>\n",
       "  <th>glucose</th>         <td>0.0031</td>   <td>0.0031</td>  <td>1.0075</td>  <td>0.3138</td> <td>-0.0030</td> <td>0.0092</td> \n",
       "</tr>\n",
       "<tr>\n",
       "  <th>TenYearCHD</th>      <td>0.0964</td>   <td>0.1665</td>  <td>0.5787</td>  <td>0.5628</td> <td>-0.2301</td> <td>0.4229</td> \n",
       "</tr>\n",
       "<tr>\n",
       "  <th>education_1</th>     <td>0.9047</td>   <td>0.1824</td>  <td>4.9588</td>  <td>0.0000</td> <td>0.5470</td>  <td>1.2624</td> \n",
       "</tr>\n",
       "<tr>\n",
       "  <th>education_2</th>     <td>0.2208</td>   <td>0.1882</td>  <td>1.1736</td>  <td>0.2406</td> <td>-0.1481</td> <td>0.5898</td> \n",
       "</tr>\n",
       "<tr>\n",
       "  <th>education_3</th>     <td>0.1296</td>   <td>0.2085</td>  <td>0.6217</td>  <td>0.5342</td> <td>-0.2792</td> <td>0.5385</td> \n",
       "</tr>\n",
       "<tr>\n",
       "  <th>si_fuma</th>         <td>-1.2331</td>  <td>0.1748</td>  <td>-7.0561</td> <td>0.0000</td> <td>-1.5758</td> <td>-0.8905</td>\n",
       "</tr>\n",
       "<tr>\n",
       "  <th>is_male</th>         <td>0.9988</td>   <td>0.1218</td>  <td>8.2036</td>  <td>0.0000</td> <td>0.7601</td>  <td>1.2375</td> \n",
       "</tr>\n",
       "</table>\n",
       "<table class=\"simpletable\">\n",
       "<tr>\n",
       "     <td>Omnibus:</td>    <td>51.124</td>  <td>Durbin-Watson:</td>    <td>1.987</td>\n",
       "</tr>\n",
       "<tr>\n",
       "  <td>Prob(Omnibus):</td>  <td>0.000</td> <td>Jarque-Bera (JB):</td> <td>53.306</td>\n",
       "</tr>\n",
       "<tr>\n",
       "       <td>Skew:</td>      <td>0.297</td>     <td>Prob(JB):</td>      <td>0.000</td>\n",
       "</tr>\n",
       "<tr>\n",
       "     <td>Kurtosis:</td>    <td>3.176</td>  <td>Condition No.:</td>    <td>4454</td> \n",
       "</tr>\n",
       "</table>"
      ],
      "text/plain": [
       "<class 'statsmodels.iolib.summary2.Summary'>\n",
       "\"\"\"\n",
       "                  Results: Ordinary least squares\n",
       "===================================================================\n",
       "Model:              OLS              Adj. R-squared:     0.172     \n",
       "Dependent Variable: BMI              AIC:                17182.6927\n",
       "Date:               2024-03-06 11:13 BIC:                17292.7344\n",
       "No. Observations:   3339             Log-Likelihood:     -8573.3   \n",
       "Df Model:           17               F-statistic:        41.75     \n",
       "Df Residuals:       3321             Prob (F-statistic): 4.98e-126 \n",
       "R-squared:          0.176            Scale:              10.002    \n",
       "-------------------------------------------------------------------\n",
       "                     Coef.  Std.Err.    t    P>|t|   [0.025  0.975]\n",
       "-------------------------------------------------------------------\n",
       "Intercept           16.1249   0.7792 20.6948 0.0000 14.5972 17.6526\n",
       "age                 -0.0041   0.0077 -0.5388 0.5901 -0.0192  0.0109\n",
       "cigsPerDay           0.0095   0.0075  1.2636 0.2065 -0.0052  0.0242\n",
       "BPMeds               0.3719   0.4049  0.9186 0.3583 -0.4219  1.1657\n",
       "prevalentStroke     -1.0462   0.7529 -1.3895 0.1648 -2.5224  0.4300\n",
       "prevalentHyp         0.5144   0.1744  2.9499 0.0032  0.1725  0.8563\n",
       "diabetes             0.2871   0.4542  0.6322 0.5273 -0.6034  1.1777\n",
       "totChol              0.0074   0.0014  5.1845 0.0000  0.0046  0.0103\n",
       "sysBP               -0.0024   0.0056 -0.4229 0.6724 -0.0133  0.0086\n",
       "diaBP                0.0845   0.0085  9.9249 0.0000  0.0678  0.1012\n",
       "heartRate            0.0047   0.0053  0.8714 0.3836 -0.0058  0.0151\n",
       "glucose              0.0031   0.0031  1.0075 0.3138 -0.0030  0.0092\n",
       "TenYearCHD           0.0964   0.1665  0.5787 0.5628 -0.2301  0.4229\n",
       "education_1          0.9047   0.1824  4.9588 0.0000  0.5470  1.2624\n",
       "education_2          0.2208   0.1882  1.1736 0.2406 -0.1481  0.5898\n",
       "education_3          0.1296   0.2085  0.6217 0.5342 -0.2792  0.5385\n",
       "si_fuma             -1.2331   0.1748 -7.0561 0.0000 -1.5758 -0.8905\n",
       "is_male              0.9988   0.1218  8.2036 0.0000  0.7601  1.2375\n",
       "-------------------------------------------------------------------\n",
       "Omnibus:              51.124        Durbin-Watson:           1.987 \n",
       "Prob(Omnibus):        0.000         Jarque-Bera (JB):        53.306\n",
       "Skew:                 0.297         Prob(JB):                0.000 \n",
       "Kurtosis:             3.176         Condition No.:           4454  \n",
       "===================================================================\n",
       "* The condition number is large (4e+03). This might indicate\n",
       "strong multicollinearity or other numerical problems.\n",
       "\"\"\""
      ]
     },
     "execution_count": 58,
     "metadata": {},
     "output_type": "execute_result"
    }
   ],
   "source": [
    "modelo_1 = smf.ols('BMI ~ '+sum_var, data=df)\n",
    "modelo_1 = modelo_1.fit()\n",
    "modelo_1.summary2()\n"
   ]
  },
  {
   "cell_type": "code",
   "execution_count": 59,
   "id": "bef3b8c2",
   "metadata": {},
   "outputs": [],
   "source": [
    "# El r^2 indica bajo poder explicativo del modelo, se dejan solo las variables que son significativas (p<=0.05)\n",
    "#Se dejan las 6 variables significativas al modelo\n"
   ]
  },
  {
   "cell_type": "code",
   "execution_count": 60,
   "id": "5601de09",
   "metadata": {},
   "outputs": [
    {
     "data": {
      "text/html": [
       "<table class=\"simpletable\">\n",
       "<tr>\n",
       "        <td>Model:</td>               <td>OLS</td>         <td>Adj. R-squared:</td>      <td>0.172</td>  \n",
       "</tr>\n",
       "<tr>\n",
       "  <td>Dependent Variable:</td>        <td>BMI</td>              <td>AIC:</td>         <td>17171.5698</td>\n",
       "</tr>\n",
       "<tr>\n",
       "         <td>Date:</td>        <td>2024-03-06 11:13</td>        <td>BIC:</td>         <td>17214.3638</td>\n",
       "</tr>\n",
       "<tr>\n",
       "   <td>No. Observations:</td>        <td>3339</td>         <td>Log-Likelihood:</td>     <td>-8578.8</td> \n",
       "</tr>\n",
       "<tr>\n",
       "       <td>Df Model:</td>              <td>6</td>           <td>F-statistic:</td>        <td>116.5</td>  \n",
       "</tr>\n",
       "<tr>\n",
       "     <td>Df Residuals:</td>          <td>3332</td>       <td>Prob (F-statistic):</td>  <td>7.08e-134</td>\n",
       "</tr>\n",
       "<tr>\n",
       "      <td>R-squared:</td>            <td>0.173</td>            <td>Scale:</td>          <td>10.002</td>  \n",
       "</tr>\n",
       "</table>\n",
       "<table class=\"simpletable\">\n",
       "<tr>\n",
       "        <td></td>        <th>Coef.</th>  <th>Std.Err.</th>    <th>t</th>     <th>P>|t|</th> <th>[0.025</th>  <th>0.975]</th> \n",
       "</tr>\n",
       "<tr>\n",
       "  <th>Intercept</th>    <td>16.4957</td>  <td>0.5810</td>  <td>28.3943</td> <td>0.0000</td> <td>15.3566</td> <td>17.6348</td>\n",
       "</tr>\n",
       "<tr>\n",
       "  <th>prevalentHyp</th> <td>0.5078</td>   <td>0.1536</td>  <td>3.3059</td>  <td>0.0010</td> <td>0.2067</td>  <td>0.8090</td> \n",
       "</tr>\n",
       "<tr>\n",
       "  <th>totChol</th>      <td>0.0074</td>   <td>0.0014</td>  <td>5.3524</td>  <td>0.0000</td> <td>0.0047</td>  <td>0.0101</td> \n",
       "</tr>\n",
       "<tr>\n",
       "  <th>diaBP</th>        <td>0.0832</td>   <td>0.0067</td>  <td>12.4573</td> <td>0.0000</td> <td>0.0701</td>  <td>0.0962</td> \n",
       "</tr>\n",
       "<tr>\n",
       "  <th>is_male</th>      <td>1.0241</td>   <td>0.1133</td>  <td>9.0354</td>  <td>0.0000</td> <td>0.8019</td>  <td>1.2463</td> \n",
       "</tr>\n",
       "<tr>\n",
       "  <th>education_1</th>  <td>0.7434</td>   <td>0.1121</td>  <td>6.6298</td>  <td>0.0000</td> <td>0.5235</td>  <td>0.9632</td> \n",
       "</tr>\n",
       "<tr>\n",
       "  <th>si_fuma</th>      <td>-1.0394</td>  <td>0.1128</td>  <td>-9.2115</td> <td>0.0000</td> <td>-1.2607</td> <td>-0.8182</td>\n",
       "</tr>\n",
       "</table>\n",
       "<table class=\"simpletable\">\n",
       "<tr>\n",
       "     <td>Omnibus:</td>    <td>53.972</td>  <td>Durbin-Watson:</td>    <td>1.993</td>\n",
       "</tr>\n",
       "<tr>\n",
       "  <td>Prob(Omnibus):</td>  <td>0.000</td> <td>Jarque-Bera (JB):</td> <td>56.388</td>\n",
       "</tr>\n",
       "<tr>\n",
       "       <td>Skew:</td>      <td>0.306</td>     <td>Prob(JB):</td>      <td>0.000</td>\n",
       "</tr>\n",
       "<tr>\n",
       "     <td>Kurtosis:</td>    <td>3.175</td>  <td>Condition No.:</td>    <td>2693</td> \n",
       "</tr>\n",
       "</table>"
      ],
      "text/plain": [
       "<class 'statsmodels.iolib.summary2.Summary'>\n",
       "\"\"\"\n",
       "                  Results: Ordinary least squares\n",
       "===================================================================\n",
       "Model:              OLS              Adj. R-squared:     0.172     \n",
       "Dependent Variable: BMI              AIC:                17171.5698\n",
       "Date:               2024-03-06 11:13 BIC:                17214.3638\n",
       "No. Observations:   3339             Log-Likelihood:     -8578.8   \n",
       "Df Model:           6                F-statistic:        116.5     \n",
       "Df Residuals:       3332             Prob (F-statistic): 7.08e-134 \n",
       "R-squared:          0.173            Scale:              10.002    \n",
       "--------------------------------------------------------------------\n",
       "                 Coef.   Std.Err.     t     P>|t|    [0.025   0.975]\n",
       "--------------------------------------------------------------------\n",
       "Intercept       16.4957    0.5810  28.3943  0.0000  15.3566  17.6348\n",
       "prevalentHyp     0.5078    0.1536   3.3059  0.0010   0.2067   0.8090\n",
       "totChol          0.0074    0.0014   5.3524  0.0000   0.0047   0.0101\n",
       "diaBP            0.0832    0.0067  12.4573  0.0000   0.0701   0.0962\n",
       "is_male          1.0241    0.1133   9.0354  0.0000   0.8019   1.2463\n",
       "education_1      0.7434    0.1121   6.6298  0.0000   0.5235   0.9632\n",
       "si_fuma         -1.0394    0.1128  -9.2115  0.0000  -1.2607  -0.8182\n",
       "-------------------------------------------------------------------\n",
       "Omnibus:              53.972        Durbin-Watson:           1.993 \n",
       "Prob(Omnibus):        0.000         Jarque-Bera (JB):        56.388\n",
       "Skew:                 0.306         Prob(JB):                0.000 \n",
       "Kurtosis:             3.175         Condition No.:           2693  \n",
       "===================================================================\n",
       "* The condition number is large (3e+03). This might indicate\n",
       "strong multicollinearity or other numerical problems.\n",
       "\"\"\""
      ]
     },
     "execution_count": 60,
     "metadata": {},
     "output_type": "execute_result"
    }
   ],
   "source": [
    "columnas4='prevalentHyp+totChol+diaBP+is_male+education_1+si_fuma'\n",
    "modelo_1m = smf.ols('BMI ~ '+columnas4, data=df)\n",
    "modelo_1m = modelo_1m.fit()\n",
    "modelo_1m.summary2()\n"
   ]
  },
  {
   "cell_type": "code",
   "execution_count": 61,
   "id": "56e2cf7b",
   "metadata": {},
   "outputs": [],
   "source": [
    "#el r^2 no mejora, puede que alguna de las variables  eliminadas aportara realmente al modelo . \n",
    "#Todas las variables son significantes"
   ]
  },
  {
   "cell_type": "markdown",
   "id": "6c2ab7e0",
   "metadata": {},
   "source": [
    "#### Modelo predictivo"
   ]
  },
  {
   "cell_type": "code",
   "execution_count": 62,
   "id": "6b3404c0",
   "metadata": {},
   "outputs": [],
   "source": [
    "#Se borran columnas tipo object ya que estan binarizadas\n",
    "\n",
    "df = df.drop(columns='sex')\n",
    "df = df.drop(columns='education')\n",
    "df = df.drop(columns='currentSmoker')"
   ]
  },
  {
   "cell_type": "code",
   "execution_count": 63,
   "id": "e808f8f6",
   "metadata": {},
   "outputs": [],
   "source": [
    "y= df['BMI']\n"
   ]
  },
  {
   "cell_type": "code",
   "execution_count": 64,
   "id": "2a55335c",
   "metadata": {},
   "outputs": [],
   "source": [
    "X = df[columnas3]\n"
   ]
  },
  {
   "cell_type": "code",
   "execution_count": 65,
   "id": "067533ef",
   "metadata": {},
   "outputs": [],
   "source": [
    "X_train, X_test, y_train, y_test = train_test_split(X, y, test_size=0.33, random_state=1121)"
   ]
  },
  {
   "cell_type": "code",
   "execution_count": 66,
   "id": "fac766be",
   "metadata": {},
   "outputs": [
    {
     "data": {
      "text/html": [
       "<div>\n",
       "<style scoped>\n",
       "    .dataframe tbody tr th:only-of-type {\n",
       "        vertical-align: middle;\n",
       "    }\n",
       "\n",
       "    .dataframe tbody tr th {\n",
       "        vertical-align: top;\n",
       "    }\n",
       "\n",
       "    .dataframe thead th {\n",
       "        text-align: right;\n",
       "    }\n",
       "</style>\n",
       "<table border=\"1\" class=\"dataframe\">\n",
       "  <thead>\n",
       "    <tr style=\"text-align: right;\">\n",
       "      <th></th>\n",
       "      <th>age</th>\n",
       "      <th>cigsPerDay</th>\n",
       "      <th>BPMeds</th>\n",
       "      <th>prevalentStroke</th>\n",
       "      <th>prevalentHyp</th>\n",
       "      <th>diabetes</th>\n",
       "      <th>totChol</th>\n",
       "      <th>sysBP</th>\n",
       "      <th>diaBP</th>\n",
       "      <th>heartRate</th>\n",
       "      <th>glucose</th>\n",
       "      <th>TenYearCHD</th>\n",
       "      <th>education_1</th>\n",
       "      <th>education_2</th>\n",
       "      <th>education_3</th>\n",
       "      <th>si_fuma</th>\n",
       "      <th>is_male</th>\n",
       "    </tr>\n",
       "  </thead>\n",
       "  <tbody>\n",
       "    <tr>\n",
       "      <th>758</th>\n",
       "      <td>53</td>\n",
       "      <td>9.0</td>\n",
       "      <td>0.0</td>\n",
       "      <td>0</td>\n",
       "      <td>0</td>\n",
       "      <td>0</td>\n",
       "      <td>278.0</td>\n",
       "      <td>131.0</td>\n",
       "      <td>87.0</td>\n",
       "      <td>63.0</td>\n",
       "      <td>74.0</td>\n",
       "      <td>1</td>\n",
       "      <td>1</td>\n",
       "      <td>0</td>\n",
       "      <td>0</td>\n",
       "      <td>1</td>\n",
       "      <td>0</td>\n",
       "    </tr>\n",
       "    <tr>\n",
       "      <th>2543</th>\n",
       "      <td>48</td>\n",
       "      <td>0.0</td>\n",
       "      <td>0.0</td>\n",
       "      <td>0</td>\n",
       "      <td>1</td>\n",
       "      <td>0</td>\n",
       "      <td>234.0</td>\n",
       "      <td>144.0</td>\n",
       "      <td>90.0</td>\n",
       "      <td>72.0</td>\n",
       "      <td>70.0</td>\n",
       "      <td>0</td>\n",
       "      <td>1</td>\n",
       "      <td>0</td>\n",
       "      <td>0</td>\n",
       "      <td>0</td>\n",
       "      <td>0</td>\n",
       "    </tr>\n",
       "    <tr>\n",
       "      <th>1809</th>\n",
       "      <td>55</td>\n",
       "      <td>0.0</td>\n",
       "      <td>0.0</td>\n",
       "      <td>0</td>\n",
       "      <td>0</td>\n",
       "      <td>0</td>\n",
       "      <td>195.0</td>\n",
       "      <td>135.0</td>\n",
       "      <td>80.0</td>\n",
       "      <td>100.0</td>\n",
       "      <td>75.0</td>\n",
       "      <td>0</td>\n",
       "      <td>0</td>\n",
       "      <td>0</td>\n",
       "      <td>1</td>\n",
       "      <td>0</td>\n",
       "      <td>0</td>\n",
       "    </tr>\n",
       "    <tr>\n",
       "      <th>1702</th>\n",
       "      <td>47</td>\n",
       "      <td>3.0</td>\n",
       "      <td>0.0</td>\n",
       "      <td>0</td>\n",
       "      <td>0</td>\n",
       "      <td>0</td>\n",
       "      <td>246.0</td>\n",
       "      <td>120.0</td>\n",
       "      <td>78.0</td>\n",
       "      <td>63.0</td>\n",
       "      <td>75.0</td>\n",
       "      <td>0</td>\n",
       "      <td>0</td>\n",
       "      <td>0</td>\n",
       "      <td>1</td>\n",
       "      <td>1</td>\n",
       "      <td>0</td>\n",
       "    </tr>\n",
       "    <tr>\n",
       "      <th>2429</th>\n",
       "      <td>49</td>\n",
       "      <td>9.0</td>\n",
       "      <td>0.0</td>\n",
       "      <td>0</td>\n",
       "      <td>0</td>\n",
       "      <td>0</td>\n",
       "      <td>193.0</td>\n",
       "      <td>115.0</td>\n",
       "      <td>79.0</td>\n",
       "      <td>48.0</td>\n",
       "      <td>88.0</td>\n",
       "      <td>0</td>\n",
       "      <td>0</td>\n",
       "      <td>1</td>\n",
       "      <td>0</td>\n",
       "      <td>1</td>\n",
       "      <td>1</td>\n",
       "    </tr>\n",
       "  </tbody>\n",
       "</table>\n",
       "</div>"
      ],
      "text/plain": [
       "      age  cigsPerDay  BPMeds  prevalentStroke  prevalentHyp  diabetes  \\\n",
       "758    53         9.0     0.0                0             0         0   \n",
       "2543   48         0.0     0.0                0             1         0   \n",
       "1809   55         0.0     0.0                0             0         0   \n",
       "1702   47         3.0     0.0                0             0         0   \n",
       "2429   49         9.0     0.0                0             0         0   \n",
       "\n",
       "      totChol  sysBP  diaBP  heartRate  glucose  TenYearCHD  education_1  \\\n",
       "758     278.0  131.0   87.0       63.0     74.0           1            1   \n",
       "2543    234.0  144.0   90.0       72.0     70.0           0            1   \n",
       "1809    195.0  135.0   80.0      100.0     75.0           0            0   \n",
       "1702    246.0  120.0   78.0       63.0     75.0           0            0   \n",
       "2429    193.0  115.0   79.0       48.0     88.0           0            0   \n",
       "\n",
       "      education_2  education_3  si_fuma  is_male  \n",
       "758             0            0        1        0  \n",
       "2543            0            0        0        0  \n",
       "1809            0            1        0        0  \n",
       "1702            0            1        1        0  \n",
       "2429            1            0        1        1  "
      ]
     },
     "execution_count": 66,
     "metadata": {},
     "output_type": "execute_result"
    }
   ],
   "source": [
    "X_train.head()"
   ]
  },
  {
   "cell_type": "code",
   "execution_count": 67,
   "id": "a9e0252f",
   "metadata": {},
   "outputs": [
    {
     "data": {
      "text/plain": [
       "758     33.38\n",
       "2543    29.34\n",
       "1809    32.91\n",
       "1702    24.71\n",
       "2429    21.86\n",
       "Name: BMI, dtype: float64"
      ]
     },
     "execution_count": 67,
     "metadata": {},
     "output_type": "execute_result"
    }
   ],
   "source": [
    "y_train.head()"
   ]
  },
  {
   "cell_type": "code",
   "execution_count": 68,
   "id": "f1db8ff2",
   "metadata": {},
   "outputs": [],
   "source": [
    "#Ahora generamos el modelo con intercepto"
   ]
  },
  {
   "cell_type": "code",
   "execution_count": 69,
   "id": "1562ab8f",
   "metadata": {},
   "outputs": [],
   "source": [
    "#Con intercepto\n",
    "#Instanciamos el modelo\n",
    "lm_1 = linear_model.LinearRegression(fit_intercept=True)\n",
    "#Entrenamos\n",
    "lm_1.fit(X_train, y_train)\n",
    "#Predecimos en  test\n",
    "#Prediccion de la matriz de prueba\n",
    "predictions_test_1 = lm_1.predict(X_test)\n",
    "#predictions_test_1"
   ]
  },
  {
   "cell_type": "code",
   "execution_count": 70,
   "id": "f4077f35",
   "metadata": {},
   "outputs": [],
   "source": [
    "def report_scores(prediction_test, vector):\n",
    "    \"\"\"Cálculo del error cuadratico medio y R cuadrado para un modelo de regresión lineal \"\"\"\n",
    "    #Realizamos métricas \n",
    "    mse=mean_squared_error(vector, prediction_test).round(2)\n",
    "    r2=r2_score(vector, prediction_test).round(2)\n",
    "    print(f'Error cuadrático medio: ', mse, 'R2: ', r2)"
   ]
  },
  {
   "cell_type": "code",
   "execution_count": 71,
   "id": "75eee7e0",
   "metadata": {},
   "outputs": [
    {
     "name": "stdout",
     "output_type": "stream",
     "text": [
      "Error cuadrático medio:  9.72 R2:  0.17\n"
     ]
    }
   ],
   "source": [
    "#Modelo con intercepto\n",
    "report_scores(predictions_test_1, y_test)"
   ]
  },
  {
   "cell_type": "code",
   "execution_count": 72,
   "id": "4d5bc0d1",
   "metadata": {},
   "outputs": [],
   "source": [
    "#Ahora seleccionamos las 6 variables que se nos piden, con correlacion\n",
    "def fetch_features(df, vector):\n",
    "        \"\"\"Correlaciones de variables del dataframe con variable objetivo \"\"\"\n",
    "        # nombres de las columnas \n",
    "        columnas = df.columns\n",
    "        # array para nombre de la variable\n",
    "        attr_name = []\n",
    "        # array para correlación de pearson\n",
    "        pearson_r = []\n",
    "        # array para valor absoluto de la correlación\n",
    "        abs_pearson_r = []\n",
    "    \n",
    "        for c in columnas:\n",
    "        # si la columna no es la dependiente\n",
    "            if c != vector:\n",
    "                # adjuntar el nombre de la variable en attr_name\n",
    "                attr_name.append(c)\n",
    "                # adjuntar la correlación de pearson\n",
    "                pearson_r.append(df[c].corr(df[vector]))\n",
    "                # adjuntar el absoluto de la correlación de pearson\n",
    "                abs_pearson_r.append(abs(df[c].corr(df[vector])))\n",
    "            \n",
    "        # El arrays se transforma en DataFrame\n",
    "        features = pd.DataFrame({\n",
    "        'attribute': attr_name,\n",
    "        'corr':pearson_r,\n",
    "        'abs_corr':abs_pearson_r\n",
    "        })\n",
    "        # Se crea el index con los nombres de las variables\n",
    "        features = features.set_index('attribute')\n",
    "        # ordenamos los valores de forma descendiente\n",
    "        features=features.sort_values(by=['abs_corr'], ascending=False)\n",
    "        return features"
   ]
  },
  {
   "cell_type": "code",
   "execution_count": 73,
   "id": "c608477c",
   "metadata": {},
   "outputs": [
    {
     "data": {
      "text/html": [
       "<div>\n",
       "<style scoped>\n",
       "    .dataframe tbody tr th:only-of-type {\n",
       "        vertical-align: middle;\n",
       "    }\n",
       "\n",
       "    .dataframe tbody tr th {\n",
       "        vertical-align: top;\n",
       "    }\n",
       "\n",
       "    .dataframe thead th {\n",
       "        text-align: right;\n",
       "    }\n",
       "</style>\n",
       "<table border=\"1\" class=\"dataframe\">\n",
       "  <thead>\n",
       "    <tr style=\"text-align: right;\">\n",
       "      <th></th>\n",
       "      <th>age</th>\n",
       "      <th>cigsPerDay</th>\n",
       "      <th>BPMeds</th>\n",
       "      <th>prevalentStroke</th>\n",
       "      <th>prevalentHyp</th>\n",
       "      <th>diabetes</th>\n",
       "      <th>totChol</th>\n",
       "      <th>sysBP</th>\n",
       "      <th>diaBP</th>\n",
       "      <th>BMI</th>\n",
       "      <th>heartRate</th>\n",
       "      <th>glucose</th>\n",
       "      <th>TenYearCHD</th>\n",
       "      <th>education_1</th>\n",
       "      <th>education_2</th>\n",
       "      <th>education_3</th>\n",
       "      <th>si_fuma</th>\n",
       "      <th>is_male</th>\n",
       "    </tr>\n",
       "  </thead>\n",
       "  <tbody>\n",
       "    <tr>\n",
       "      <th>0</th>\n",
       "      <td>39</td>\n",
       "      <td>0.0</td>\n",
       "      <td>0.0</td>\n",
       "      <td>0</td>\n",
       "      <td>0</td>\n",
       "      <td>0</td>\n",
       "      <td>195.0</td>\n",
       "      <td>106.0</td>\n",
       "      <td>70.0</td>\n",
       "      <td>26.97</td>\n",
       "      <td>80.0</td>\n",
       "      <td>77.0</td>\n",
       "      <td>0</td>\n",
       "      <td>0</td>\n",
       "      <td>0</td>\n",
       "      <td>0</td>\n",
       "      <td>0</td>\n",
       "      <td>1</td>\n",
       "    </tr>\n",
       "    <tr>\n",
       "      <th>1</th>\n",
       "      <td>46</td>\n",
       "      <td>0.0</td>\n",
       "      <td>0.0</td>\n",
       "      <td>0</td>\n",
       "      <td>0</td>\n",
       "      <td>0</td>\n",
       "      <td>250.0</td>\n",
       "      <td>121.0</td>\n",
       "      <td>81.0</td>\n",
       "      <td>28.73</td>\n",
       "      <td>95.0</td>\n",
       "      <td>76.0</td>\n",
       "      <td>0</td>\n",
       "      <td>0</td>\n",
       "      <td>1</td>\n",
       "      <td>0</td>\n",
       "      <td>0</td>\n",
       "      <td>0</td>\n",
       "    </tr>\n",
       "    <tr>\n",
       "      <th>2</th>\n",
       "      <td>48</td>\n",
       "      <td>20.0</td>\n",
       "      <td>0.0</td>\n",
       "      <td>0</td>\n",
       "      <td>0</td>\n",
       "      <td>0</td>\n",
       "      <td>245.0</td>\n",
       "      <td>127.5</td>\n",
       "      <td>80.0</td>\n",
       "      <td>25.34</td>\n",
       "      <td>75.0</td>\n",
       "      <td>70.0</td>\n",
       "      <td>0</td>\n",
       "      <td>1</td>\n",
       "      <td>0</td>\n",
       "      <td>0</td>\n",
       "      <td>1</td>\n",
       "      <td>1</td>\n",
       "    </tr>\n",
       "    <tr>\n",
       "      <th>3</th>\n",
       "      <td>61</td>\n",
       "      <td>30.0</td>\n",
       "      <td>0.0</td>\n",
       "      <td>0</td>\n",
       "      <td>1</td>\n",
       "      <td>0</td>\n",
       "      <td>225.0</td>\n",
       "      <td>150.0</td>\n",
       "      <td>95.0</td>\n",
       "      <td>28.58</td>\n",
       "      <td>65.0</td>\n",
       "      <td>103.0</td>\n",
       "      <td>1</td>\n",
       "      <td>0</td>\n",
       "      <td>0</td>\n",
       "      <td>1</td>\n",
       "      <td>1</td>\n",
       "      <td>0</td>\n",
       "    </tr>\n",
       "    <tr>\n",
       "      <th>4</th>\n",
       "      <td>46</td>\n",
       "      <td>23.0</td>\n",
       "      <td>0.0</td>\n",
       "      <td>0</td>\n",
       "      <td>0</td>\n",
       "      <td>0</td>\n",
       "      <td>285.0</td>\n",
       "      <td>130.0</td>\n",
       "      <td>84.0</td>\n",
       "      <td>23.10</td>\n",
       "      <td>85.0</td>\n",
       "      <td>85.0</td>\n",
       "      <td>0</td>\n",
       "      <td>0</td>\n",
       "      <td>0</td>\n",
       "      <td>1</td>\n",
       "      <td>1</td>\n",
       "      <td>0</td>\n",
       "    </tr>\n",
       "    <tr>\n",
       "      <th>...</th>\n",
       "      <td>...</td>\n",
       "      <td>...</td>\n",
       "      <td>...</td>\n",
       "      <td>...</td>\n",
       "      <td>...</td>\n",
       "      <td>...</td>\n",
       "      <td>...</td>\n",
       "      <td>...</td>\n",
       "      <td>...</td>\n",
       "      <td>...</td>\n",
       "      <td>...</td>\n",
       "      <td>...</td>\n",
       "      <td>...</td>\n",
       "      <td>...</td>\n",
       "      <td>...</td>\n",
       "      <td>...</td>\n",
       "      <td>...</td>\n",
       "      <td>...</td>\n",
       "    </tr>\n",
       "    <tr>\n",
       "      <th>4231</th>\n",
       "      <td>58</td>\n",
       "      <td>0.0</td>\n",
       "      <td>0.0</td>\n",
       "      <td>0</td>\n",
       "      <td>1</td>\n",
       "      <td>0</td>\n",
       "      <td>187.0</td>\n",
       "      <td>141.0</td>\n",
       "      <td>81.0</td>\n",
       "      <td>24.96</td>\n",
       "      <td>80.0</td>\n",
       "      <td>81.0</td>\n",
       "      <td>0</td>\n",
       "      <td>0</td>\n",
       "      <td>0</td>\n",
       "      <td>1</td>\n",
       "      <td>0</td>\n",
       "      <td>1</td>\n",
       "    </tr>\n",
       "    <tr>\n",
       "      <th>4232</th>\n",
       "      <td>68</td>\n",
       "      <td>0.0</td>\n",
       "      <td>0.0</td>\n",
       "      <td>0</td>\n",
       "      <td>1</td>\n",
       "      <td>0</td>\n",
       "      <td>176.0</td>\n",
       "      <td>168.0</td>\n",
       "      <td>97.0</td>\n",
       "      <td>23.14</td>\n",
       "      <td>60.0</td>\n",
       "      <td>79.0</td>\n",
       "      <td>1</td>\n",
       "      <td>1</td>\n",
       "      <td>0</td>\n",
       "      <td>0</td>\n",
       "      <td>0</td>\n",
       "      <td>1</td>\n",
       "    </tr>\n",
       "    <tr>\n",
       "      <th>4233</th>\n",
       "      <td>50</td>\n",
       "      <td>1.0</td>\n",
       "      <td>0.0</td>\n",
       "      <td>0</td>\n",
       "      <td>1</td>\n",
       "      <td>0</td>\n",
       "      <td>313.0</td>\n",
       "      <td>179.0</td>\n",
       "      <td>92.0</td>\n",
       "      <td>25.97</td>\n",
       "      <td>66.0</td>\n",
       "      <td>86.0</td>\n",
       "      <td>1</td>\n",
       "      <td>1</td>\n",
       "      <td>0</td>\n",
       "      <td>0</td>\n",
       "      <td>1</td>\n",
       "      <td>1</td>\n",
       "    </tr>\n",
       "    <tr>\n",
       "      <th>4234</th>\n",
       "      <td>51</td>\n",
       "      <td>43.0</td>\n",
       "      <td>0.0</td>\n",
       "      <td>0</td>\n",
       "      <td>0</td>\n",
       "      <td>0</td>\n",
       "      <td>207.0</td>\n",
       "      <td>126.5</td>\n",
       "      <td>80.0</td>\n",
       "      <td>19.71</td>\n",
       "      <td>65.0</td>\n",
       "      <td>68.0</td>\n",
       "      <td>0</td>\n",
       "      <td>0</td>\n",
       "      <td>0</td>\n",
       "      <td>1</td>\n",
       "      <td>1</td>\n",
       "      <td>1</td>\n",
       "    </tr>\n",
       "    <tr>\n",
       "      <th>4237</th>\n",
       "      <td>52</td>\n",
       "      <td>0.0</td>\n",
       "      <td>0.0</td>\n",
       "      <td>0</td>\n",
       "      <td>0</td>\n",
       "      <td>0</td>\n",
       "      <td>269.0</td>\n",
       "      <td>133.5</td>\n",
       "      <td>83.0</td>\n",
       "      <td>21.47</td>\n",
       "      <td>80.0</td>\n",
       "      <td>107.0</td>\n",
       "      <td>0</td>\n",
       "      <td>0</td>\n",
       "      <td>1</td>\n",
       "      <td>0</td>\n",
       "      <td>0</td>\n",
       "      <td>0</td>\n",
       "    </tr>\n",
       "  </tbody>\n",
       "</table>\n",
       "<p>3339 rows × 18 columns</p>\n",
       "</div>"
      ],
      "text/plain": [
       "      age  cigsPerDay  BPMeds  prevalentStroke  prevalentHyp  diabetes  \\\n",
       "0      39         0.0     0.0                0             0         0   \n",
       "1      46         0.0     0.0                0             0         0   \n",
       "2      48        20.0     0.0                0             0         0   \n",
       "3      61        30.0     0.0                0             1         0   \n",
       "4      46        23.0     0.0                0             0         0   \n",
       "...   ...         ...     ...              ...           ...       ...   \n",
       "4231   58         0.0     0.0                0             1         0   \n",
       "4232   68         0.0     0.0                0             1         0   \n",
       "4233   50         1.0     0.0                0             1         0   \n",
       "4234   51        43.0     0.0                0             0         0   \n",
       "4237   52         0.0     0.0                0             0         0   \n",
       "\n",
       "      totChol  sysBP  diaBP    BMI  heartRate  glucose  TenYearCHD  \\\n",
       "0       195.0  106.0   70.0  26.97       80.0     77.0           0   \n",
       "1       250.0  121.0   81.0  28.73       95.0     76.0           0   \n",
       "2       245.0  127.5   80.0  25.34       75.0     70.0           0   \n",
       "3       225.0  150.0   95.0  28.58       65.0    103.0           1   \n",
       "4       285.0  130.0   84.0  23.10       85.0     85.0           0   \n",
       "...       ...    ...    ...    ...        ...      ...         ...   \n",
       "4231    187.0  141.0   81.0  24.96       80.0     81.0           0   \n",
       "4232    176.0  168.0   97.0  23.14       60.0     79.0           1   \n",
       "4233    313.0  179.0   92.0  25.97       66.0     86.0           1   \n",
       "4234    207.0  126.5   80.0  19.71       65.0     68.0           0   \n",
       "4237    269.0  133.5   83.0  21.47       80.0    107.0           0   \n",
       "\n",
       "      education_1  education_2  education_3  si_fuma  is_male  \n",
       "0               0            0            0        0        1  \n",
       "1               0            1            0        0        0  \n",
       "2               1            0            0        1        1  \n",
       "3               0            0            1        1        0  \n",
       "4               0            0            1        1        0  \n",
       "...           ...          ...          ...      ...      ...  \n",
       "4231            0            0            1        0        1  \n",
       "4232            1            0            0        0        1  \n",
       "4233            1            0            0        1        1  \n",
       "4234            0            0            1        1        1  \n",
       "4237            0            1            0        0        0  \n",
       "\n",
       "[3339 rows x 18 columns]"
      ]
     },
     "execution_count": 73,
     "metadata": {},
     "output_type": "execute_result"
    }
   ],
   "source": [
    "df"
   ]
  },
  {
   "cell_type": "code",
   "execution_count": 74,
   "id": "ca9f02f6",
   "metadata": {},
   "outputs": [
    {
     "data": {
      "text/html": [
       "<div>\n",
       "<style scoped>\n",
       "    .dataframe tbody tr th:only-of-type {\n",
       "        vertical-align: middle;\n",
       "    }\n",
       "\n",
       "    .dataframe tbody tr th {\n",
       "        vertical-align: top;\n",
       "    }\n",
       "\n",
       "    .dataframe thead th {\n",
       "        text-align: right;\n",
       "    }\n",
       "</style>\n",
       "<table border=\"1\" class=\"dataframe\">\n",
       "  <thead>\n",
       "    <tr style=\"text-align: right;\">\n",
       "      <th></th>\n",
       "      <th>corr</th>\n",
       "      <th>abs_corr</th>\n",
       "    </tr>\n",
       "    <tr>\n",
       "      <th>attribute</th>\n",
       "      <th></th>\n",
       "      <th></th>\n",
       "    </tr>\n",
       "  </thead>\n",
       "  <tbody>\n",
       "    <tr>\n",
       "      <th>diaBP</th>\n",
       "      <td>0.339523</td>\n",
       "      <td>0.339523</td>\n",
       "    </tr>\n",
       "    <tr>\n",
       "      <th>sysBP</th>\n",
       "      <td>0.280439</td>\n",
       "      <td>0.280439</td>\n",
       "    </tr>\n",
       "    <tr>\n",
       "      <th>prevalentHyp</th>\n",
       "      <td>0.250710</td>\n",
       "      <td>0.250710</td>\n",
       "    </tr>\n",
       "    <tr>\n",
       "      <th>si_fuma</th>\n",
       "      <td>-0.161546</td>\n",
       "      <td>0.161546</td>\n",
       "    </tr>\n",
       "    <tr>\n",
       "      <th>totChol</th>\n",
       "      <td>0.147884</td>\n",
       "      <td>0.147884</td>\n",
       "    </tr>\n",
       "    <tr>\n",
       "      <th>is_male</th>\n",
       "      <td>0.145086</td>\n",
       "      <td>0.145086</td>\n",
       "    </tr>\n",
       "  </tbody>\n",
       "</table>\n",
       "</div>"
      ],
      "text/plain": [
       "                  corr  abs_corr\n",
       "attribute                       \n",
       "diaBP         0.339523  0.339523\n",
       "sysBP         0.280439  0.280439\n",
       "prevalentHyp  0.250710  0.250710\n",
       "si_fuma      -0.161546  0.161546\n",
       "totChol       0.147884  0.147884\n",
       "is_male       0.145086  0.145086"
      ]
     },
     "execution_count": 74,
     "metadata": {},
     "output_type": "execute_result"
    }
   ],
   "source": [
    "#Las 6 mayores correlaciones son:\n",
    "correc=fetch_features(df, 'BMI')\n",
    "correc.head(6)"
   ]
  },
  {
   "cell_type": "code",
   "execution_count": 75,
   "id": "30eecf54",
   "metadata": {},
   "outputs": [
    {
     "data": {
      "text/html": [
       "<div>\n",
       "<style scoped>\n",
       "    .dataframe tbody tr th:only-of-type {\n",
       "        vertical-align: middle;\n",
       "    }\n",
       "\n",
       "    .dataframe tbody tr th {\n",
       "        vertical-align: top;\n",
       "    }\n",
       "\n",
       "    .dataframe thead th {\n",
       "        text-align: right;\n",
       "    }\n",
       "</style>\n",
       "<table border=\"1\" class=\"dataframe\">\n",
       "  <thead>\n",
       "    <tr style=\"text-align: right;\">\n",
       "      <th></th>\n",
       "      <th>diaBP</th>\n",
       "      <th>sysBP</th>\n",
       "      <th>prevalentHyp</th>\n",
       "      <th>si_fuma</th>\n",
       "      <th>totChol</th>\n",
       "      <th>is_male</th>\n",
       "    </tr>\n",
       "  </thead>\n",
       "  <tbody>\n",
       "    <tr>\n",
       "      <th>0</th>\n",
       "      <td>70.0</td>\n",
       "      <td>106.0</td>\n",
       "      <td>0</td>\n",
       "      <td>0</td>\n",
       "      <td>195.0</td>\n",
       "      <td>1</td>\n",
       "    </tr>\n",
       "    <tr>\n",
       "      <th>1</th>\n",
       "      <td>81.0</td>\n",
       "      <td>121.0</td>\n",
       "      <td>0</td>\n",
       "      <td>0</td>\n",
       "      <td>250.0</td>\n",
       "      <td>0</td>\n",
       "    </tr>\n",
       "    <tr>\n",
       "      <th>2</th>\n",
       "      <td>80.0</td>\n",
       "      <td>127.5</td>\n",
       "      <td>0</td>\n",
       "      <td>1</td>\n",
       "      <td>245.0</td>\n",
       "      <td>1</td>\n",
       "    </tr>\n",
       "    <tr>\n",
       "      <th>3</th>\n",
       "      <td>95.0</td>\n",
       "      <td>150.0</td>\n",
       "      <td>1</td>\n",
       "      <td>1</td>\n",
       "      <td>225.0</td>\n",
       "      <td>0</td>\n",
       "    </tr>\n",
       "    <tr>\n",
       "      <th>4</th>\n",
       "      <td>84.0</td>\n",
       "      <td>130.0</td>\n",
       "      <td>0</td>\n",
       "      <td>1</td>\n",
       "      <td>285.0</td>\n",
       "      <td>0</td>\n",
       "    </tr>\n",
       "    <tr>\n",
       "      <th>...</th>\n",
       "      <td>...</td>\n",
       "      <td>...</td>\n",
       "      <td>...</td>\n",
       "      <td>...</td>\n",
       "      <td>...</td>\n",
       "      <td>...</td>\n",
       "    </tr>\n",
       "    <tr>\n",
       "      <th>4231</th>\n",
       "      <td>81.0</td>\n",
       "      <td>141.0</td>\n",
       "      <td>1</td>\n",
       "      <td>0</td>\n",
       "      <td>187.0</td>\n",
       "      <td>1</td>\n",
       "    </tr>\n",
       "    <tr>\n",
       "      <th>4232</th>\n",
       "      <td>97.0</td>\n",
       "      <td>168.0</td>\n",
       "      <td>1</td>\n",
       "      <td>0</td>\n",
       "      <td>176.0</td>\n",
       "      <td>1</td>\n",
       "    </tr>\n",
       "    <tr>\n",
       "      <th>4233</th>\n",
       "      <td>92.0</td>\n",
       "      <td>179.0</td>\n",
       "      <td>1</td>\n",
       "      <td>1</td>\n",
       "      <td>313.0</td>\n",
       "      <td>1</td>\n",
       "    </tr>\n",
       "    <tr>\n",
       "      <th>4234</th>\n",
       "      <td>80.0</td>\n",
       "      <td>126.5</td>\n",
       "      <td>0</td>\n",
       "      <td>1</td>\n",
       "      <td>207.0</td>\n",
       "      <td>1</td>\n",
       "    </tr>\n",
       "    <tr>\n",
       "      <th>4237</th>\n",
       "      <td>83.0</td>\n",
       "      <td>133.5</td>\n",
       "      <td>0</td>\n",
       "      <td>0</td>\n",
       "      <td>269.0</td>\n",
       "      <td>0</td>\n",
       "    </tr>\n",
       "  </tbody>\n",
       "</table>\n",
       "<p>3339 rows × 6 columns</p>\n",
       "</div>"
      ],
      "text/plain": [
       "      diaBP  sysBP  prevalentHyp  si_fuma  totChol  is_male\n",
       "0      70.0  106.0             0        0    195.0        1\n",
       "1      81.0  121.0             0        0    250.0        0\n",
       "2      80.0  127.5             0        1    245.0        1\n",
       "3      95.0  150.0             1        1    225.0        0\n",
       "4      84.0  130.0             0        1    285.0        0\n",
       "...     ...    ...           ...      ...      ...      ...\n",
       "4231   81.0  141.0             1        0    187.0        1\n",
       "4232   97.0  168.0             1        0    176.0        1\n",
       "4233   92.0  179.0             1        1    313.0        1\n",
       "4234   80.0  126.5             0        1    207.0        1\n",
       "4237   83.0  133.5             0        0    269.0        0\n",
       "\n",
       "[3339 rows x 6 columns]"
      ]
     },
     "execution_count": 75,
     "metadata": {},
     "output_type": "execute_result"
    }
   ],
   "source": [
    "#similar a las variables del al caso de la seleccion anterior con el modelo estadistico.\n",
    "var=['diaBP', 'sysBP', 'prevalentHyp','si_fuma','totChol','is_male']\n",
    "var\n",
    "var_3=df.loc[:,var]\n",
    "var_3\n",
    "\n"
   ]
  },
  {
   "cell_type": "code",
   "execution_count": 76,
   "id": "cb79adcc",
   "metadata": {},
   "outputs": [],
   "source": [
    "X_train2, X_test2, y_train2, y_test2 = train_test_split(var_3, y, test_size=0.33, random_state=1121)"
   ]
  },
  {
   "cell_type": "code",
   "execution_count": 77,
   "id": "cbba3a9e",
   "metadata": {},
   "outputs": [],
   "source": [
    "#Con intercepto\n",
    "#Instanciamos el modelo\n",
    "lm_3 = linear_model.LinearRegression(fit_intercept=True)\n",
    "#Entrenamos\n",
    "lm_3.fit(X_train2, y_train2)\n",
    "#Predecimos en  test\n",
    "#Prediccion de la matriz de prueba\n",
    "predictions_test_3 = lm_3.predict(X_test2)"
   ]
  },
  {
   "cell_type": "code",
   "execution_count": 78,
   "id": "c0c963b1",
   "metadata": {},
   "outputs": [
    {
     "name": "stdout",
     "output_type": "stream",
     "text": [
      "Error cuadrático medio:  9.86 R2:  0.16\n"
     ]
    }
   ],
   "source": [
    "report_scores(predictions_test_3, y_test2)"
   ]
  },
  {
   "cell_type": "code",
   "execution_count": 79,
   "id": "ccabbe75",
   "metadata": {},
   "outputs": [],
   "source": [
    "#para este modelo con 6 variables, aumenta levemente el error cuadrático y disminuye levemente el r^2\n",
    "#ambos modelos son similares"
   ]
  },
  {
   "cell_type": "raw",
   "id": "0cb49b59",
   "metadata": {},
   "source": [
    "9. Construye un modelo de regresión logística para predecir el riesgo de sufrir una\n",
    "enfermedad coronaria en los próximos diez años, a partir de las variables descritas.\n",
    "Verifica el balanceo de datos y evalúa tu modelo.\n"
   ]
  },
  {
   "cell_type": "code",
   "execution_count": 80,
   "id": "b3031763",
   "metadata": {},
   "outputs": [],
   "source": [
    "#TenYearCHD variable de interés"
   ]
  },
  {
   "cell_type": "code",
   "execution_count": 81,
   "id": "b20f9ffc",
   "metadata": {},
   "outputs": [
    {
     "data": {
      "text/plain": [
       "'age+cigsPerDay+BPMeds+prevalentStroke+prevalentHyp+diabetes+totChol+sysBP+diaBP+BMI+heartRate+glucose+education_1+education_2+education_3+si_fuma+is_male'"
      ]
     },
     "execution_count": 81,
     "metadata": {},
     "output_type": "execute_result"
    }
   ],
   "source": [
    "columnas5 = list(df.columns)\n",
    "columnas5\n",
    "columnas5.remove('TenYearCHD')\n",
    "\n",
    "\n",
    "sum_var = \"+\".join(columnas5)\n",
    "sum_var"
   ]
  },
  {
   "cell_type": "markdown",
   "id": "463864b4",
   "metadata": {},
   "source": [
    "#### Modelo estadístico"
   ]
  },
  {
   "cell_type": "code",
   "execution_count": 82,
   "id": "ee1e8d1e",
   "metadata": {},
   "outputs": [
    {
     "name": "stdout",
     "output_type": "stream",
     "text": [
      "Optimization terminated successfully.\n",
      "         Current function value: 0.355871\n",
      "         Iterations 7\n"
     ]
    }
   ],
   "source": [
    "m1_logit = smf.logit('TenYearCHD ~ '+sum_var, df).fit()"
   ]
  },
  {
   "cell_type": "code",
   "execution_count": 83,
   "id": "fa48080c",
   "metadata": {},
   "outputs": [
    {
     "data": {
      "text/html": [
       "<table class=\"simpletable\">\n",
       "<tr>\n",
       "        <td>Model:</td>              <td>Logit</td>      <td>Pseudo R-squared:</td>    <td>0.114</td>  \n",
       "</tr>\n",
       "<tr>\n",
       "  <td>Dependent Variable:</td>    <td>TenYearCHD</td>          <td>AIC:</td>         <td>2412.5085</td>\n",
       "</tr>\n",
       "<tr>\n",
       "         <td>Date:</td>        <td>2024-03-06 11:13</td>       <td>BIC:</td>         <td>2522.5502</td>\n",
       "</tr>\n",
       "<tr>\n",
       "   <td>No. Observations:</td>        <td>3339</td>        <td>Log-Likelihood:</td>    <td>-1188.3</td> \n",
       "</tr>\n",
       "<tr>\n",
       "       <td>Df Model:</td>             <td>17</td>            <td>LL-Null:</td>        <td>-1340.4</td> \n",
       "</tr>\n",
       "<tr>\n",
       "     <td>Df Residuals:</td>          <td>3321</td>         <td>LLR p-value:</td>    <td>1.4720e-54</td>\n",
       "</tr>\n",
       "<tr>\n",
       "      <td>Converged:</td>           <td>1.0000</td>           <td>Scale:</td>         <td>1.0000</td>  \n",
       "</tr>\n",
       "<tr>\n",
       "    <td>No. Iterations:</td>        <td>7.0000</td>              <td></td>               <td></td>     \n",
       "</tr>\n",
       "</table>\n",
       "<table class=\"simpletable\">\n",
       "<tr>\n",
       "         <td></td>          <th>Coef.</th>  <th>Std.Err.</th>    <th>z</th>     <th>P>|z|</th> <th>[0.025</th>  <th>0.975]</th> \n",
       "</tr>\n",
       "<tr>\n",
       "  <th>Intercept</th>       <td>-8.2033</td>  <td>0.8547</td>  <td>-9.5974</td> <td>0.0000</td> <td>-9.8785</td> <td>-6.5280</td>\n",
       "</tr>\n",
       "<tr>\n",
       "  <th>age</th>             <td>0.0657</td>   <td>0.0073</td>  <td>9.0608</td>  <td>0.0000</td> <td>0.0515</td>  <td>0.0799</td> \n",
       "</tr>\n",
       "<tr>\n",
       "  <th>cigsPerDay</th>      <td>0.0181</td>   <td>0.0066</td>  <td>2.7548</td>  <td>0.0059</td> <td>0.0052</td>  <td>0.0310</td> \n",
       "</tr>\n",
       "<tr>\n",
       "  <th>BPMeds</th>          <td>0.0487</td>   <td>0.3141</td>  <td>0.1551</td>  <td>0.8768</td> <td>-0.5668</td> <td>0.6643</td> \n",
       "</tr>\n",
       "<tr>\n",
       "  <th>prevalentStroke</th> <td>1.1809</td>   <td>0.5263</td>  <td>2.2436</td>  <td>0.0249</td> <td>0.1493</td>  <td>2.2126</td> \n",
       "</tr>\n",
       "<tr>\n",
       "  <th>prevalentHyp</th>    <td>0.2236</td>   <td>0.1563</td>  <td>1.4307</td>  <td>0.1525</td> <td>-0.0827</td> <td>0.5299</td> \n",
       "</tr>\n",
       "<tr>\n",
       "  <th>diabetes</th>        <td>0.2883</td>   <td>0.3507</td>  <td>0.8222</td>  <td>0.4110</td> <td>-0.3990</td> <td>0.9757</td> \n",
       "</tr>\n",
       "<tr>\n",
       "  <th>totChol</th>         <td>0.0018</td>   <td>0.0014</td>  <td>1.2999</td>  <td>0.1936</td> <td>-0.0009</td> <td>0.0045</td> \n",
       "</tr>\n",
       "<tr>\n",
       "  <th>sysBP</th>           <td>0.0194</td>   <td>0.0050</td>  <td>3.8629</td>  <td>0.0001</td> <td>0.0095</td>  <td>0.0292</td> \n",
       "</tr>\n",
       "<tr>\n",
       "  <th>diaBP</th>           <td>-0.0149</td>  <td>0.0078</td>  <td>-1.9037</td> <td>0.0569</td> <td>-0.0303</td> <td>0.0004</td> \n",
       "</tr>\n",
       "<tr>\n",
       "  <th>BMI</th>             <td>0.0153</td>   <td>0.0166</td>  <td>0.9210</td>  <td>0.3571</td> <td>-0.0172</td> <td>0.0478</td> \n",
       "</tr>\n",
       "<tr>\n",
       "  <th>heartRate</th>       <td>-0.0020</td>  <td>0.0052</td>  <td>-0.3941</td> <td>0.6935</td> <td>-0.0121</td> <td>0.0081</td> \n",
       "</tr>\n",
       "<tr>\n",
       "  <th>glucose</th>         <td>0.0057</td>   <td>0.0025</td>  <td>2.3067</td>  <td>0.0211</td> <td>0.0009</td>  <td>0.0106</td> \n",
       "</tr>\n",
       "<tr>\n",
       "  <th>education_1</th>     <td>-0.0172</td>  <td>0.1721</td>  <td>-0.1001</td> <td>0.9203</td> <td>-0.3545</td> <td>0.3201</td> \n",
       "</tr>\n",
       "<tr>\n",
       "  <th>education_2</th>     <td>-0.1876</td>  <td>0.1863</td>  <td>-1.0066</td> <td>0.3141</td> <td>-0.5528</td> <td>0.1776</td> \n",
       "</tr>\n",
       "<tr>\n",
       "  <th>education_3</th>     <td>-0.2031</td>  <td>0.2090</td>  <td>-0.9721</td> <td>0.3310</td> <td>-0.6127</td> <td>0.2064</td> \n",
       "</tr>\n",
       "<tr>\n",
       "  <th>si_fuma</th>         <td>0.0950</td>   <td>0.1692</td>  <td>0.5617</td>  <td>0.5743</td> <td>-0.2366</td> <td>0.4267</td> \n",
       "</tr>\n",
       "<tr>\n",
       "  <th>is_male</th>         <td>0.5675</td>   <td>0.1196</td>  <td>4.7468</td>  <td>0.0000</td> <td>0.3332</td>  <td>0.8018</td> \n",
       "</tr>\n",
       "</table>"
      ],
      "text/plain": [
       "<class 'statsmodels.iolib.summary2.Summary'>\n",
       "\"\"\"\n",
       "                         Results: Logit\n",
       "=================================================================\n",
       "Model:              Logit            Pseudo R-squared: 0.114     \n",
       "Dependent Variable: TenYearCHD       AIC:              2412.5085 \n",
       "Date:               2024-03-06 11:13 BIC:              2522.5502 \n",
       "No. Observations:   3339             Log-Likelihood:   -1188.3   \n",
       "Df Model:           17               LL-Null:          -1340.4   \n",
       "Df Residuals:       3321             LLR p-value:      1.4720e-54\n",
       "Converged:          1.0000           Scale:            1.0000    \n",
       "No. Iterations:     7.0000                                       \n",
       "-----------------------------------------------------------------\n",
       "                   Coef.  Std.Err.    z    P>|z|   [0.025  0.975]\n",
       "-----------------------------------------------------------------\n",
       "Intercept         -8.2033   0.8547 -9.5974 0.0000 -9.8785 -6.5280\n",
       "age                0.0657   0.0073  9.0608 0.0000  0.0515  0.0799\n",
       "cigsPerDay         0.0181   0.0066  2.7548 0.0059  0.0052  0.0310\n",
       "BPMeds             0.0487   0.3141  0.1551 0.8768 -0.5668  0.6643\n",
       "prevalentStroke    1.1809   0.5263  2.2436 0.0249  0.1493  2.2126\n",
       "prevalentHyp       0.2236   0.1563  1.4307 0.1525 -0.0827  0.5299\n",
       "diabetes           0.2883   0.3507  0.8222 0.4110 -0.3990  0.9757\n",
       "totChol            0.0018   0.0014  1.2999 0.1936 -0.0009  0.0045\n",
       "sysBP              0.0194   0.0050  3.8629 0.0001  0.0095  0.0292\n",
       "diaBP             -0.0149   0.0078 -1.9037 0.0569 -0.0303  0.0004\n",
       "BMI                0.0153   0.0166  0.9210 0.3571 -0.0172  0.0478\n",
       "heartRate         -0.0020   0.0052 -0.3941 0.6935 -0.0121  0.0081\n",
       "glucose            0.0057   0.0025  2.3067 0.0211  0.0009  0.0106\n",
       "education_1       -0.0172   0.1721 -0.1001 0.9203 -0.3545  0.3201\n",
       "education_2       -0.1876   0.1863 -1.0066 0.3141 -0.5528  0.1776\n",
       "education_3       -0.2031   0.2090 -0.9721 0.3310 -0.6127  0.2064\n",
       "si_fuma            0.0950   0.1692  0.5617 0.5743 -0.2366  0.4267\n",
       "is_male            0.5675   0.1196  4.7468 0.0000  0.3332  0.8018\n",
       "=================================================================\n",
       "\n",
       "\"\"\""
      ]
     },
     "execution_count": 83,
     "metadata": {},
     "output_type": "execute_result"
    }
   ],
   "source": [
    "m1_logit.summary2()"
   ]
  },
  {
   "cell_type": "code",
   "execution_count": 84,
   "id": "f85a53a1",
   "metadata": {},
   "outputs": [],
   "source": [
    "#se sacan las variables no significativas (p<=0.05)"
   ]
  },
  {
   "cell_type": "code",
   "execution_count": 85,
   "id": "22a819a8",
   "metadata": {},
   "outputs": [
    {
     "name": "stdout",
     "output_type": "stream",
     "text": [
      "Optimization terminated successfully.\n",
      "         Current function value: 0.357572\n",
      "         Iterations 7\n"
     ]
    }
   ],
   "source": [
    "columnas6='age+cigsPerDay+prevalentStroke+sysBP+glucose+is_male'\n",
    "m1_logit2 = smf.logit('TenYearCHD ~ '+columnas6, df).fit()"
   ]
  },
  {
   "cell_type": "code",
   "execution_count": 86,
   "id": "09aee0cf",
   "metadata": {},
   "outputs": [
    {
     "data": {
      "text/html": [
       "<table class=\"simpletable\">\n",
       "<tr>\n",
       "        <td>Model:</td>              <td>Logit</td>      <td>Pseudo R-squared:</td>    <td>0.109</td>  \n",
       "</tr>\n",
       "<tr>\n",
       "  <td>Dependent Variable:</td>    <td>TenYearCHD</td>          <td>AIC:</td>         <td>2401.8650</td>\n",
       "</tr>\n",
       "<tr>\n",
       "         <td>Date:</td>        <td>2024-03-06 11:13</td>       <td>BIC:</td>         <td>2444.6590</td>\n",
       "</tr>\n",
       "<tr>\n",
       "   <td>No. Observations:</td>        <td>3339</td>        <td>Log-Likelihood:</td>    <td>-1193.9</td> \n",
       "</tr>\n",
       "<tr>\n",
       "       <td>Df Model:</td>              <td>6</td>            <td>LL-Null:</td>        <td>-1340.4</td> \n",
       "</tr>\n",
       "<tr>\n",
       "     <td>Df Residuals:</td>          <td>3332</td>         <td>LLR p-value:</td>    <td>2.6843e-60</td>\n",
       "</tr>\n",
       "<tr>\n",
       "      <td>Converged:</td>           <td>1.0000</td>           <td>Scale:</td>         <td>1.0000</td>  \n",
       "</tr>\n",
       "<tr>\n",
       "    <td>No. Iterations:</td>        <td>7.0000</td>              <td></td>               <td></td>     \n",
       "</tr>\n",
       "</table>\n",
       "<table class=\"simpletable\">\n",
       "<tr>\n",
       "         <td></td>          <th>Coef.</th>  <th>Std.Err.</th>     <th>z</th>     <th>P>|z|</th> <th>[0.025</th>  <th>0.975]</th> \n",
       "</tr>\n",
       "<tr>\n",
       "  <th>Intercept</th>       <td>-8.9761</td>  <td>0.5019</td>  <td>-17.8829</td> <td>0.0000</td> <td>-9.9599</td> <td>-7.9923</td>\n",
       "</tr>\n",
       "<tr>\n",
       "  <th>age</th>             <td>0.0717</td>   <td>0.0069</td>   <td>10.4460</td> <td>0.0000</td> <td>0.0582</td>  <td>0.0851</td> \n",
       "</tr>\n",
       "<tr>\n",
       "  <th>cigsPerDay</th>      <td>0.0204</td>   <td>0.0044</td>   <td>4.6231</td>  <td>0.0000</td> <td>0.0117</td>  <td>0.0290</td> \n",
       "</tr>\n",
       "<tr>\n",
       "  <th>prevalentStroke</th> <td>1.1421</td>   <td>0.5146</td>   <td>2.2196</td>  <td>0.0264</td> <td>0.1336</td>  <td>2.1507</td> \n",
       "</tr>\n",
       "<tr>\n",
       "  <th>sysBP</th>           <td>0.0179</td>   <td>0.0030</td>   <td>6.0672</td>  <td>0.0000</td> <td>0.0121</td>  <td>0.0237</td> \n",
       "</tr>\n",
       "<tr>\n",
       "  <th>glucose</th>         <td>0.0071</td>   <td>0.0019</td>   <td>3.7542</td>  <td>0.0002</td> <td>0.0034</td>  <td>0.0108</td> \n",
       "</tr>\n",
       "<tr>\n",
       "  <th>is_male</th>         <td>0.5717</td>   <td>0.1142</td>   <td>5.0044</td>  <td>0.0000</td> <td>0.3478</td>  <td>0.7957</td> \n",
       "</tr>\n",
       "</table>"
      ],
      "text/plain": [
       "<class 'statsmodels.iolib.summary2.Summary'>\n",
       "\"\"\"\n",
       "                         Results: Logit\n",
       "=================================================================\n",
       "Model:              Logit            Pseudo R-squared: 0.109     \n",
       "Dependent Variable: TenYearCHD       AIC:              2401.8650 \n",
       "Date:               2024-03-06 11:13 BIC:              2444.6590 \n",
       "No. Observations:   3339             Log-Likelihood:   -1193.9   \n",
       "Df Model:           6                LL-Null:          -1340.4   \n",
       "Df Residuals:       3332             LLR p-value:      2.6843e-60\n",
       "Converged:          1.0000           Scale:            1.0000    \n",
       "No. Iterations:     7.0000                                       \n",
       "-----------------------------------------------------------------\n",
       "                  Coef.  Std.Err.    z     P>|z|   [0.025  0.975]\n",
       "-----------------------------------------------------------------\n",
       "Intercept        -8.9761   0.5019 -17.8829 0.0000 -9.9599 -7.9923\n",
       "age               0.0717   0.0069  10.4460 0.0000  0.0582  0.0851\n",
       "cigsPerDay        0.0204   0.0044   4.6231 0.0000  0.0117  0.0290\n",
       "prevalentStroke   1.1421   0.5146   2.2196 0.0264  0.1336  2.1507\n",
       "sysBP             0.0179   0.0030   6.0672 0.0000  0.0121  0.0237\n",
       "glucose           0.0071   0.0019   3.7542 0.0002  0.0034  0.0108\n",
       "is_male           0.5717   0.1142   5.0044 0.0000  0.3478  0.7957\n",
       "=================================================================\n",
       "\n",
       "\"\"\""
      ]
     },
     "execution_count": 86,
     "metadata": {},
     "output_type": "execute_result"
    }
   ],
   "source": [
    "m1_logit2.summary2()"
   ]
  },
  {
   "cell_type": "code",
   "execution_count": 87,
   "id": "292b879e",
   "metadata": {},
   "outputs": [],
   "source": [
    "# El Pseudo R^2 de ambos modelos son muy similares, pero el último disminuyó  (explican la varianza del modelo en aproximadamente \n",
    "#un 10%)\n",
    "#Todas las variables del modelo depurado siguen siendo significativas"
   ]
  },
  {
   "cell_type": "markdown",
   "id": "11f44ea7",
   "metadata": {},
   "source": [
    "#### Modelo predictivo"
   ]
  },
  {
   "cell_type": "code",
   "execution_count": 88,
   "id": "6f39ce12",
   "metadata": {},
   "outputs": [],
   "source": [
    "\n",
    "X=df.drop(columns=['TenYearCHD'])"
   ]
  },
  {
   "cell_type": "code",
   "execution_count": 89,
   "id": "d6446df5",
   "metadata": {},
   "outputs": [],
   "source": [
    "y = df['TenYearCHD']"
   ]
  },
  {
   "cell_type": "code",
   "execution_count": 90,
   "id": "3c80bed5",
   "metadata": {},
   "outputs": [],
   "source": [
    "X_train, X_test, y_train, y_test = train_test_split(X, y, test_size=0.33, random_state=1121)"
   ]
  },
  {
   "cell_type": "code",
   "execution_count": 91,
   "id": "b3ab3b46",
   "metadata": {},
   "outputs": [],
   "source": [
    "# estandarizamos la matriz de entrenamiento\n",
    "X_train_std = StandardScaler().fit_transform(X_train)\n",
    "\n",
    "# estandarizamos la matriz de pruebas ( se usa para generar la prediccion de las clases)\n",
    "X_test_std = StandardScaler().fit_transform(X_test)\n"
   ]
  },
  {
   "cell_type": "code",
   "execution_count": 92,
   "id": "b8c9de67",
   "metadata": {},
   "outputs": [],
   "source": [
    "default_model = LogisticRegression(random_state=1511).fit(X_train_std, y_train)"
   ]
  },
  {
   "cell_type": "code",
   "execution_count": 93,
   "id": "2a9f6fc7",
   "metadata": {},
   "outputs": [],
   "source": [
    "#predicción de las clases\n",
    "yhat = default_model.predict(X_test_std)"
   ]
  },
  {
   "cell_type": "code",
   "execution_count": 94,
   "id": "bbf4db46",
   "metadata": {},
   "outputs": [],
   "source": [
    "#predicción de probabilidad.\n",
    "yhat_prob = default_model.predict_proba(X_test_std)"
   ]
  },
  {
   "cell_type": "code",
   "execution_count": 95,
   "id": "46e0b431",
   "metadata": {},
   "outputs": [
    {
     "data": {
      "text/plain": [
       "0.88"
      ]
     },
     "execution_count": 95,
     "metadata": {},
     "output_type": "execute_result"
    }
   ],
   "source": [
    "#exactitud de nuestro modelo\n",
    "m1_acc = accuracy_score(y_test, yhat)\n",
    "round(m1_acc,2)\n"
   ]
  },
  {
   "cell_type": "code",
   "execution_count": 96,
   "id": "4ec4bb3a",
   "metadata": {},
   "outputs": [],
   "source": [
    "#La exactitud informa que el modelo tiene un desempeño de un 0.38% superior que una predicción azarosa."
   ]
  },
  {
   "cell_type": "code",
   "execution_count": 97,
   "id": "000101ca",
   "metadata": {},
   "outputs": [
    {
     "name": "stdout",
     "output_type": "stream",
     "text": [
      "              precision    recall  f1-score   support\n",
      "\n",
      "           0       0.88      0.99      0.94       967\n",
      "           1       0.62      0.07      0.13       135\n",
      "\n",
      "    accuracy                           0.88      1102\n",
      "   macro avg       0.75      0.53      0.53      1102\n",
      "weighted avg       0.85      0.88      0.84      1102\n",
      "\n"
     ]
    }
   ],
   "source": [
    "#Reporte las métricas de precisión, recall y f1 para ambas clases.\n",
    "print(classification_report(y_test, yhat))"
   ]
  },
  {
   "cell_type": "code",
   "execution_count": 98,
   "id": "662480c8",
   "metadata": {},
   "outputs": [],
   "source": [
    "#Se observa que F1 tiene una media armónica para la clase 1 de 0.13 y para la clase 0 de 0.94.\n",
    "#El recall para la clase 1 es muy bajo con 0.07, el modelo no es optimo para determinar valores positivos correctamente\n",
    "#clasificados"
   ]
  },
  {
   "cell_type": "code",
   "execution_count": 99,
   "id": "001589bd",
   "metadata": {},
   "outputs": [
    {
     "data": {
      "image/png": "[encoded data removed]",
      "text/plain": [
       "<Figure size 640x480 with 1 Axes>"
      ]
     },
     "metadata": {},
     "output_type": "display_data"
    }
   ],
   "source": [
    "#Curva Roc\n",
    "\n",
    "# reestimamos los valores predichos de nuestro modelo para obtener la probabilidad entre 0 y 1.\n",
    "yhat2 = default_model.predict_proba(X_test_std)[:, 1]\n",
    "\n",
    "# generamos los objetos de roc_curve\n",
    "false_positive, true_positive, threshold = roc_curve(y_test, yhat2)\n",
    "# Plot ROC curve\n",
    "plt.title('Curva ROC')\n",
    "plt.plot(false_positive, true_positive, lw=1)\n",
    "plt.plot([0, 1], ls=\"--\", lw=1)\n",
    "plt.plot([0, 0], [1, 0] , c='limegreen', lw=3), plt.plot([1, 1] ,\n",
    "c='limegreen', lw=3)\n",
    "plt.ylabel('Verdaderos Positivos')\n",
    "plt.xlabel('Falsos Positivos');"
   ]
  },
  {
   "cell_type": "code",
   "execution_count": 100,
   "id": "8d45e36e",
   "metadata": {},
   "outputs": [
    {
     "data": {
      "text/plain": [
       "0.74"
      ]
     },
     "execution_count": 100,
     "metadata": {},
     "output_type": "execute_result"
    }
   ],
   "source": [
    "#área bajo la curva\n",
    "round(roc_auc_score(y_test, yhat2),2)"
   ]
  },
  {
   "cell_type": "code",
   "execution_count": 101,
   "id": "fcdc4b3b",
   "metadata": {},
   "outputs": [],
   "source": [
    "#Se observa que la curva ROC tiene una capacidad predictiva adecuada, ya que se posiciona por sobre la\n",
    "#bisectriz, lo que significa que la tasa de verdaderos positivos es mayor que la tasa de falsos\n",
    "#positivos. Además tiende a acercarse a la esquina superior izquierda del gráfico.\n",
    "\n",
    "#EL área bajo la curva tiene un valor de .74, esto significa que el modelo tiene un desempeño de 24% superior a un mecanismo\n",
    "#de clasificación aleatoria.\n",
    "\n",
    "#El modelo es adecuado"
   ]
  },
  {
   "cell_type": "code",
   "execution_count": 102,
   "id": "aece707f",
   "metadata": {},
   "outputs": [
    {
     "name": "stdout",
     "output_type": "stream",
     "text": [
      "0    2878\n",
      "1     461\n",
      "Name: TenYearCHD, dtype: int64\n"
     ]
    }
   ],
   "source": [
    "#Desbalanceo\n",
    "\n",
    "# Es necesario escalar\n",
    "sc=StandardScaler()\n",
    "\n",
    "# Identifiquemos las variables X e y\n",
    "X_d=df.drop('TenYearCHD', axis = 1)\n",
    "y_d=df['TenYearCHD']\n",
    "X_d=sc.fit_transform(X)\n",
    "print(df['TenYearCHD'].value_counts())"
   ]
  },
  {
   "cell_type": "code",
   "execution_count": 103,
   "id": "89338c5c",
   "metadata": {},
   "outputs": [],
   "source": [
    "#Existe diferencia entre ambas clases de la variable a predecir, se aplica smote"
   ]
  },
  {
   "cell_type": "code",
   "execution_count": 104,
   "id": "2120fc03",
   "metadata": {},
   "outputs": [
    {
     "name": "stdout",
     "output_type": "stream",
     "text": [
      "AUC-ROC sin SMOTE: 0.5313640467967783\n",
      "AUC-PR sin SMOTE: 0.17615831532460682\n",
      "AUC-ROC con SMOTE: 0.6825898166809622\n",
      "AUC-PR con SMOTE: 0.21737320232037563\n"
     ]
    }
   ],
   "source": [
    "from imblearn.over_sampling import SMOTE\n",
    "from sklearn.metrics import roc_auc_score, average_precision_score\n",
    "\n",
    "X_s = df.drop(columns=[\"TenYearCHD\"]).values\n",
    "\n",
    "# Variable dependiente\n",
    "y_s = df[\"TenYearCHD\"].values\n",
    "\n",
    "# Estandarizar las características\n",
    "scaler = StandardScaler()\n",
    "X_s = scaler.fit_transform(X)\n",
    "\n",
    "# Modelo de Regresión Logística sin SMOTE\n",
    "logistic_regression_model = LogisticRegression(random_state=42)\n",
    "logistic_regression_model.fit(X_s, y_s)\n",
    "\n",
    "# Realizar predicciones en el conjunto de datos sin SMOTE\n",
    "y_pred = logistic_regression_model.predict(X_s)\n",
    "\n",
    "# Calcular AUC-ROC sin SMOTE\n",
    "roc_auc = roc_auc_score(y_s, y_pred)\n",
    "\n",
    "# Calcular AUC-PR sin SMOTE\n",
    "average_precision = average_precision_score(y_s, y_pred)\n",
    "\n",
    "# Ahora, aplicaremos SMOTE y crearemos el modelo nuevamente\n",
    "smote = SMOTE(random_state=42)\n",
    "X_resampled, y_resampled = smote.fit_resample(X_s, y_s)\n",
    "\n",
    "# Modelo de Regresión Logística con SMOTE\n",
    "logistic_regression_model_smote = LogisticRegression(random_state=42)\n",
    "logistic_regression_model_smote.fit(X_resampled, y_resampled)\n",
    "\n",
    "# Realizar predicciones en el conjunto de datos con SMOTE\n",
    "y_pred_smote = logistic_regression_model_smote.predict(X_s)\n",
    "\n",
    "# Calcular AUC-ROC con SMOTE\n",
    "roc_auc_smote = roc_auc_score(y_s, y_pred_smote)\n",
    "\n",
    "# Calcular AUC-PR con SMOTE\n",
    "average_precision_smote = average_precision_score(y_s, y_pred_smote)\n",
    "\n",
    "# Imprimir AUC-ROC y AUC-PR para ambos modelos\n",
    "print(\"AUC-ROC sin SMOTE:\", roc_auc)\n",
    "print(\"AUC-PR sin SMOTE:\", average_precision)\n",
    "print(\"AUC-ROC con SMOTE:\", roc_auc_smote)\n",
    "print(\"AUC-PR con SMOTE:\", average_precision_smote)"
   ]
  },
  {
   "cell_type": "code",
   "execution_count": 105,
   "id": "84059265",
   "metadata": {},
   "outputs": [],
   "source": [
    "#AUC-ROC y AUC-PR aumentaron con smote"
   ]
  },
  {
   "cell_type": "raw",
   "id": "48df2810",
   "metadata": {},
   "source": [
    "10. Separa los modelos de regresión anteriores en dos distintos, respectivamente,\n",
    "considerando alguna variable categórica. Compara y concluye."
   ]
  },
  {
   "cell_type": "code",
   "execution_count": 106,
   "id": "01eb37e3",
   "metadata": {},
   "outputs": [],
   "source": [
    "#Se considerarán el modelo predictivo de regresión lineal. Se separá por generoy se considera BMI como var a predecir\n",
    "#'diaBP', 'sysBP', 'prevalentHyp','si_fuma','totChol' como regresoras"
   ]
  },
  {
   "cell_type": "code",
   "execution_count": 107,
   "id": "5adb3c5d",
   "metadata": {},
   "outputs": [],
   "source": [
    "#Regresion lineal predictiva\n",
    "import statsmodels.api as sm\n",
    "\n",
    "# Filtrar los datos por género\n",
    "paciente_hombre = df[df['is_male'] == 1]\n",
    "paciente_mujer = df[df['is_male'] == 0]\n",
    "\n",
    "# Crear modelos de regresión lineal para cada género y para ambos juntos\n",
    "model_hombre = sm.OLS(paciente_hombre['BMI'], sm.add_constant(paciente_hombre[['diaBP', 'sysBP', 'prevalentHyp','si_fuma','totChol','is_male']])).fit()\n",
    "model_mujer = sm.OLS(paciente_mujer['BMI'], sm.add_constant(paciente_mujer[['diaBP', 'sysBP', 'prevalentHyp','si_fuma','totChol','is_male']])).fit()\n",
    "model_ambos = sm.OLS(df['BMI'], sm.add_constant(df[['diaBP', 'sysBP', 'prevalentHyp','si_fuma','totChol','is_male']])).fit()\n"
   ]
  },
  {
   "cell_type": "code",
   "execution_count": 108,
   "id": "aa479429",
   "metadata": {},
   "outputs": [],
   "source": [
    "# Obtener las predicciones de cada modelo\n",
    "predictions_h = model_hombre.predict()\n",
    "predictions_m = model_mujer.predict()\n",
    "predictions_ambos = model_ambos.predict()\n",
    "\n",
    "# Calcular el Error Cuadrático Medio (MSE) para cada modelo\n",
    "mse_h = ((paciente_hombre['BMI'] - predictions_h) ** 2).mean()\n",
    "mse_m = ((paciente_mujer ['BMI'] - predictions_m) ** 2).mean()\n",
    "mse_ambos = ((df['BMI'] - predictions_ambos) ** 2).mean()\n"
   ]
  },
  {
   "cell_type": "code",
   "execution_count": 109,
   "id": "72f289f6",
   "metadata": {},
   "outputs": [],
   "source": [
    "\n",
    "# Calcular el Error Cuadrático Medio Explicado (EMSE) para cada modelo\n",
    "emse_h = mse_h / ((paciente_hombre['BMI'] - paciente_hombre['BMI'].mean()) ** 2).mean()\n",
    "emse_m = mse_m / ((paciente_mujer['BMI'] - paciente_mujer['BMI'].mean()) ** 2).mean()\n",
    "emse_ambos = mse_ambos / ((df['BMI'] - df['BMI'].mean()) ** 2).mean()\n",
    "\n",
    "# Calcular el Coeficiente de Determinación (R²) para cada modelo\n",
    "r2_h = model_hombre.rsquared\n",
    "r2_m = model_mujer.rsquared\n",
    "r2_ambos = model_ambos.rsquared\n",
    "\n",
    "# Calcular el Error Absoluto Medio (MAE) para cada modelo\n",
    "mae_h = (abs(paciente_hombre['BMI'] - predictions_h)).mean()\n",
    "mae_m = (abs(paciente_mujer['BMI'] - predictions_m)).mean()\n",
    "mae_ambos = (abs(df['BMI'] - predictions_ambos)).mean()\n"
   ]
  },
  {
   "cell_type": "code",
   "execution_count": 110,
   "id": "ffe32df2",
   "metadata": {},
   "outputs": [
    {
     "name": "stdout",
     "output_type": "stream",
     "text": [
      "Modelo paciente masculino:\n",
      "R²: 0.13, MSE: 8.70, EMSE: 0.87, MAE: 2.35\n",
      "\n",
      "Modelo para paciente femenino:\n",
      "R²: 0.16, MSE: 11.24, EMSE: 0.84, MAE: 2.66\n",
      "\n",
      "Modelo para ambos géneros juntos:\n",
      "R²: 0.16, MSE: 10.11, EMSE: 0.84, MAE: 2.53\n"
     ]
    }
   ],
   "source": [
    "# Mostrar los resultados\n",
    "print(\"Modelo paciente masculino:\")\n",
    "print(f\"R²: {r2_h:.2f}, MSE: {mse_h:.2f}, EMSE: {emse_h:.2f}, MAE: {mae_h:.2f}\")\n",
    "\n",
    "print(\"\\nModelo para paciente femenino:\")\n",
    "print(f\"R²: {r2_m:.2f}, MSE: {mse_m:.2f}, EMSE: {emse_m:.2f}, MAE: {mae_m:.2f}\")\n",
    "\n",
    "print(\"\\nModelo para ambos géneros juntos:\")\n",
    "print(f\"R²: {r2_ambos:.2f}, MSE: {mse_ambos:.2f}, EMSE: {emse_ambos:.2f}, MAE: {mae_ambos:.2f}\")"
   ]
  },
  {
   "cell_type": "code",
   "execution_count": 111,
   "id": "351b7341",
   "metadata": {},
   "outputs": [],
   "source": [
    "# El error cuadrático medio y abosluto son mayores en el modelo obtenido para pacientes mujeres, mientras que\n",
    "# R^2 es también es mayor en este modelo. En concreto el modelo para pacientes masculinos tiene menor explicabilidad de \n",
    "# BMI pero menor error, mientras que el modelo para pacientes femeninas tienen mayor explicabilidad de BMI pero mayor error.\n",
    "\n",
    "#Observando el modelo con ambos generos se puede entender que: Mejora la explicabilidad que se reduce al considerar solo\n",
    "#hombres, mientras que reduce el error que se da si se consideran solo mujeres. \n",
    "\n"
   ]
  },
  {
   "cell_type": "code",
   "execution_count": null,
   "id": "66b7bb0c",
   "metadata": {},
   "outputs": [],
   "source": []
  }
 ],
 "metadata": {
  "kernelspec": {
   "display_name": "Python 3 (ipykernel)",
   "language": "python",
   "name": "python3"
  },
  "language_info": {
   "codemirror_mode": {
    "name": "ipython",
    "version": 3
   },
   "file_extension": ".py",
   "mimetype": "text/x-python",
   "name": "python",
   "nbconvert_exporter": "python",
   "pygments_lexer": "ipython3",
   "version": "3.10.9"
  }
 },
 "nbformat": 4,
 "nbformat_minor": 5
}
