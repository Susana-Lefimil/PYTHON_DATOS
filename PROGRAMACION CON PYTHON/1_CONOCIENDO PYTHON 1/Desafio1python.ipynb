{
  "nbformat": 4,
  "nbformat_minor": 0,
  "metadata": {
    "colab": {
      "provenance": []
    },
    "kernelspec": {
      "name": "python3",
      "display_name": "Python 3"
    },
    "language_info": {
      "name": "python"
    }
  },
  "cells": [
    {
      "cell_type": "markdown",
      "source": [
        "1. Calculando el salario semanal\n"
      ],
      "metadata": {
        "id": "ZX1JxQF2B7h7"
      }
    },
    {
      "cell_type": "code",
      "source": [
        "#Sueldo base\n",
        "base=500\n",
        "\n",
        "#monto de ventas\n",
        "ventas=int(input(\"Ingrese monto de ventas del vendedor\"))\n",
        "\n",
        "#Ecuacion que calcula el sueldo de acuerdo al valor base y al 10% de las ventas\n",
        "total=base+ventas*0.1\n",
        "print(f'El salario del vendedor corresponde a: {total}')"
      ],
      "metadata": {
        "colab": {
          "base_uri": "https://localhost:8080/"
        },
        "id": "-SEEB7BBB_MB",
        "outputId": "6176261d-7b68-41b7-8c9c-c9f9ff4d406a"
      },
      "execution_count": 8,
      "outputs": [
        {
          "output_type": "stream",
          "name": "stdout",
          "text": [
            "Ingrese monto de ventas del vendedor60\n",
            "El salario del vendedor corresponde a: 506.0\n"
          ]
        }
      ]
    },
    {
      "cell_type": "markdown",
      "source": [
        "2. Bienvenido a la frutería virtual"
      ],
      "metadata": {
        "id": "WTS1ZCF_B_cM"
      }
    },
    {
      "cell_type": "code",
      "source": [
        " #Diccionario\n",
        " catalogo_frutas={}\n",
        " #Se agregan frutas y precio\n",
        " catalogo_frutas['manzana'] = 30\n",
        " catalogo_frutas['platano'] = 50\n",
        " catalogo_frutas['naranja'] = 25\n",
        " catalogo_frutas['pera'] = 35\n",
        " catalogo_frutas\n",
        "\n",
        "\n",
        "# fruta buscada\n",
        "\n",
        " fruta= input(\"Ingrese fruta que desea buscar en la tienda \")\n",
        " fruta=fruta.lower()\n",
        "\n",
        "#Si la fruta está en el diccionario, el resultado será true y entrará en el for que recorre todo el diccionario y filtra el valor de la fruta específica.\n",
        " if fruta in catalogo_frutas:\n",
        "    for i in catalogo_frutas:\n",
        "        if i==fruta:\n",
        "          print(f'valor de la fruta es: {catalogo_frutas[i]}')\n",
        " else:\n",
        "  print(\"No se encuentra fruta en la tienda\")\n",
        "\n"
      ],
      "metadata": {
        "colab": {
          "base_uri": "https://localhost:8080/"
        },
        "id": "PhH0uHiqDOyo",
        "outputId": "36f8bf33-a6bb-4c2e-bf56-04054f514bf8"
      },
      "execution_count": 33,
      "outputs": [
        {
          "output_type": "stream",
          "name": "stdout",
          "text": [
            "Ingrese fruta que desea buscar en la tienda pera\n",
            "valor de la fruta es: 35\n"
          ]
        }
      ]
    },
    {
      "cell_type": "markdown",
      "source": [
        "3. Bienvenido al casino\n"
      ],
      "metadata": {
        "id": "MmagZjMdCIj3"
      }
    },
    {
      "cell_type": "code",
      "source": [
        "import random  #importar random\n",
        "\n",
        "#se generan valores aleatorios de 1 a 6\n",
        "dado1=random.randrange(1,6)\n",
        "dado2=random.randrange(1,6)\n",
        "\n",
        "print(f'Valor dado 1: {dado1}, Valor dado 2: {dado2} y la suma es: {dado1+dado2} ')"
      ],
      "metadata": {
        "colab": {
          "base_uri": "https://localhost:8080/"
        },
        "id": "BDtFa2m4DPRv",
        "outputId": "7afed573-1768-4fa4-d77f-e668693805d1"
      },
      "execution_count": 34,
      "outputs": [
        {
          "output_type": "stream",
          "name": "stdout",
          "text": [
            "Valor dado 1: 2, Valor dado 2: 3 y la suma es: 5 \n"
          ]
        }
      ]
    },
    {
      "cell_type": "markdown",
      "source": [
        "4. Calculadora de chocolate"
      ],
      "metadata": {
        "id": "29TJ_ZP4CQ6K"
      }
    },
    {
      "cell_type": "code",
      "source": [
        "import math  #import modulo math\n",
        "\n",
        "calorias_diarias=int(input(\"Ingrese su numero de calorias diarias promedio \"))\n",
        "cal_chocolate=int(input(\"Ingrese las calorias de chocolate por porcion \"))\n",
        "\n",
        "#Ecuacion para determinar máximo de porciones de chocolate al día\n",
        "\n",
        "resta=calorias_diarias/cal_chocolate\n",
        "\n",
        "#resta tendrá las porciones que puede ingerir sin superar calorias diarias\n",
        "#necesitaremos la parte entera de este número\n",
        "\n",
        "print(f'Puede ingerir {math.trunc(resta)} porciones de chocolate sin sobrepasar el número de calorias diarias')\n",
        "\n",
        "\n"
      ],
      "metadata": {
        "colab": {
          "base_uri": "https://localhost:8080/"
        },
        "id": "gyXtx4NeCpP3",
        "outputId": "bd7295d7-8423-4c60-c9a5-4567953f3d89"
      },
      "execution_count": 41,
      "outputs": [
        {
          "output_type": "stream",
          "name": "stdout",
          "text": [
            "Ingrese su numero de calorias diarias promedio 2000\n",
            "Ingrese las calorias de chocolate por porcion 600\n",
            "Puede ingerir 3 porciones de chocolate sin sobrepasar el número de calorias diarias\n"
          ]
        }
      ]
    }
  ]
}