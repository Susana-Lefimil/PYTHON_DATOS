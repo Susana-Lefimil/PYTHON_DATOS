{
  "nbformat": 4,
  "nbformat_minor": 0,
  "metadata": {
    "colab": {
      "provenance": []
    },
    "kernelspec": {
      "name": "python3",
      "display_name": "Python 3"
    },
    "language_info": {
      "name": "python"
    }
  },
  "cells": [
    {
      "cell_type": "markdown",
      "source": [
        " Ejercicio 1: Suma de números pares\n"
      ],
      "metadata": {
        "id": "n8IzpZzVvqe7"
      }
    },
    {
      "cell_type": "code",
      "source": [
        "num1=int(input(\"Ingrese un numero entero \"))\n",
        "num2=int(input(\"Ingrese otro numero entero \"))\n",
        "\n",
        "#Suma parte de 0\n",
        "suma=0\n",
        "\n",
        "#dependiendo de cual de los numero sea menor/mayor entrará en el if\n",
        "if num1<=num2:\n",
        "  for i in range(num1, num2+1):  #+1 para que tome el numero mayor si es par\n",
        "    if i%2==0:\n",
        "      suma=suma+i\n",
        "      #print(i)\n",
        "  print(suma)\n",
        "\n",
        "else:\n",
        "  for i in range(num2, num1+1):  #+1 para que tome el numero mayor si es par\n",
        "    if i%2==0:\n",
        "      suma=suma+i\n",
        "      #print(i)\n",
        "  print(suma)\n"
      ],
      "metadata": {
        "colab": {
          "base_uri": "https://localhost:8080/"
        },
        "id": "UwGR4tOkvtzZ",
        "outputId": "68cd2c31-4619-4ce8-ce38-e4f4e7484a36"
      },
      "execution_count": null,
      "outputs": [
        {
          "output_type": "stream",
          "name": "stdout",
          "text": [
            "Ingrese un numero entero 8\n",
            "Ingrese otro numero entero 2\n",
            "20\n"
          ]
        }
      ]
    },
    {
      "cell_type": "markdown",
      "source": [
        "Ejercicio 2: Calculadora de áreas"
      ],
      "metadata": {
        "id": "X141vIe5y_Wq"
      }
    },
    {
      "cell_type": "code",
      "source": [
        "import math #se importa modulo\n",
        "p = math.pi  #valor de pi\n",
        "\n",
        "\n",
        "#se ingresa tipo de figura\n",
        "figura=input(\"Ingrese tipo de figura geométrica para calcular área (cuadrado, triángulo o círculo)\")\n",
        "figura=figura.lower()  # queda todo en minúscula\n",
        "\n",
        "#area parte en 0\n",
        "area=0\n",
        "\n",
        "# entrará en filtro correspondiente\n",
        "if figura==\"circulo\" or figura==\"círculo\":\n",
        "   radio=float(input(\"Ingrese radio\"))\n",
        "   area=p*radio*radio\n",
        "elif figura==\"triangulo\" or figura==\"triángulo\":\n",
        "   base=float(input(\"Ingrese base\"))\n",
        "   altura=float(input(\"Ingrese altura\"))\n",
        "   area=(base*altura)/2\n",
        "elif figura==\"cuadrado\":\n",
        "   lado=float(input(\"Ingrese lado\"))\n",
        "   area=lado*lado\n",
        "else:\n",
        "   print(\"Ingrese datos validos/ ejecute nuevamente\")\n",
        "\n",
        "print(area)"
      ],
      "metadata": {
        "colab": {
          "base_uri": "https://localhost:8080/"
        },
        "id": "KYFF8Pu3y7P5",
        "outputId": "1835ee24-e0df-4ae0-ec04-a2cdf7bae2d0"
      },
      "execution_count": null,
      "outputs": [
        {
          "output_type": "stream",
          "name": "stdout",
          "text": [
            "Ingrese tipo de figura geométrica para calcular área (cuadrado, triángulo o círculo)triangulo\n",
            "Ingrese base5\n",
            "Ingrese altura2\n",
            "5.0\n"
          ]
        }
      ]
    },
    {
      "cell_type": "markdown",
      "source": [
        "Ejercicio 3: Adivina el número\n"
      ],
      "metadata": {
        "id": "mcQbIK8v3MsP"
      }
    },
    {
      "cell_type": "code",
      "source": [
        "import random  #import random\n",
        "#numero al azar\n",
        "num=random.randint(1, 100)\n",
        "#se ingresa numero para adivinar numero random\n",
        "num_usuario=int(input(\"Adivine un numero de 1 a 100\"))\n",
        "\n",
        "#mientras el numero random y numero que ingresa usuario sea distinto se ejecutará while\n",
        "while num!=num_usuario:\n",
        "  #dependiendo de cual numero sea mayor/menor entrará en el if\n",
        "    if num>num_usuario:\n",
        "       num_usuario=int(input(\"El número ingresado es menor, pruebe otra vez\"))\n",
        "       #print(num)\n",
        "    elif num<num_usuario:\n",
        "       num_usuario=int(input(\"El número ingresado es mayor, pruebe otra vez\"))\n",
        "\n",
        "print(f'el numero es correcto {num}')\n",
        "\n",
        "\n"
      ],
      "metadata": {
        "id": "EqURsIYH3RUu"
      },
      "execution_count": null,
      "outputs": []
    },
    {
      "cell_type": "markdown",
      "source": [
        "Ejercicio 4: ¡Maratón de caracoles!\n"
      ],
      "metadata": {
        "id": "WWf4eRG96VxJ"
      }
    },
    {
      "cell_type": "code",
      "source": [
        "w=int(input(\"Ingrese velocidad de 1 a 150 \")) # de acuerdo a la velocidad avanzará el emoji\n",
        "esp=\"_\"  # es el texto que se repetira de acuerdo a la velocidad ingresada\n",
        "c=\"\\U0001f40c\" #emoji\n",
        "\n",
        "#mientras la velocidad sea mayor a 0 se ejecutará while\n",
        "while w>0:\n",
        "  print(esp, end=\"\") #end permite que se vea horizontal\n",
        "  w=w-1\n",
        "print(c)# el emoji se ve al final del print anterior\n",
        "\n"
      ],
      "metadata": {
        "id": "JVBEYXbu6ZIc",
        "colab": {
          "base_uri": "https://localhost:8080/"
        },
        "outputId": "62057d85-ca33-4c57-b438-5e7e6bb3a88b"
      },
      "execution_count": null,
      "outputs": [
        {
          "output_type": "stream",
          "name": "stdout",
          "text": [
            "Ingrese velocidad de 1 a 150120\n",
            "________________________________________________________________________________________________________________________🐌\n"
          ]
        }
      ]
    }
  ]
}